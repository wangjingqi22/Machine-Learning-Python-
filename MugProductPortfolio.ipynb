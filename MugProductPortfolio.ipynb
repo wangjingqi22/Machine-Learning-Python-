{
 "cells": [
  {
   "cell_type": "code",
   "execution_count": 1,
   "metadata": {},
   "outputs": [],
   "source": [
    "import numpy as np\n",
    "import pandas as pd\n",
    "from sklearn.linear_model import LinearRegression\n",
    "from math import sqrt\n",
    "from scipy.optimize import curve_fit\n",
    "import warnings\n",
    "warnings.filterwarnings('ignore')\n",
    "from matplotlib import pyplot as plt\n",
    "from sklearn.preprocessing import OneHotEncoder"
   ]
  },
  {
   "cell_type": "code",
   "execution_count": 2,
   "metadata": {},
   "outputs": [],
   "source": [
    "df=pd.read_csv(\"mugs-preference-parameters-full.csv\")"
   ]
  },
  {
   "cell_type": "code",
   "execution_count": 181,
   "metadata": {},
   "outputs": [],
   "source": [
    "#df.head()"
   ]
  },
  {
   "cell_type": "code",
   "execution_count": 4,
   "metadata": {},
   "outputs": [],
   "source": [
    "df1 = pd.DataFrame()\n",
    "\n",
    "j = 19\n",
    "for i in range(1,19):\n",
    "    col = 'I*' + str(df.columns[i])\n",
    "    df1[col] = df.iloc[:,i]*df.iloc[:,j]\n",
    "    if i%3 == 0:\n",
    "        j += 1"
   ]
  },
  {
   "cell_type": "code",
   "execution_count": 5,
   "metadata": {},
   "outputs": [],
   "source": [
    "#df1"
   ]
  },
  {
   "cell_type": "code",
   "execution_count": 6,
   "metadata": {},
   "outputs": [],
   "source": [
    "df2 = pd.DataFrame(columns = ['price', 'timeinsulated','capacity','cleanability','containment'])\n",
    "\n",
    "for price in ['30', '10', '5']:\n",
    "    for timeinsulated in ['0.5', '1', '3']:\n",
    "         for capacity in ['12', '20', '32']:\n",
    "            for cleanability in [\"Difficult\", \"Fair\", \"Easy\"]: \n",
    "                for containment in [\"Slosh resistant\", \"Spill resistant\", \"Leak resistant\"]:\n",
    "                    df2 = df2.append({'price': price, 'timeinsulated': timeinsulated, 'capacity':capacity, 'cleanability':cleanability, 'containment':containment},ignore_index=True) "
   ]
  },
  {
   "cell_type": "code",
   "execution_count": 7,
   "metadata": {},
   "outputs": [],
   "source": [
    "#df2"
   ]
  },
  {
   "cell_type": "code",
   "execution_count": 8,
   "metadata": {},
   "outputs": [],
   "source": [
    "# use one hot encoding\n",
    "encoder = OneHotEncoder().fit(df2)\n",
    "df2_encoded = encoder.transform(df2).toarray()\n",
    "column_name = encoder.get_feature_names()\n",
    "df2_encoded =  pd.DataFrame(df2_encoded, columns= column_name)"
   ]
  },
  {
   "cell_type": "code",
   "execution_count": 9,
   "metadata": {},
   "outputs": [],
   "source": [
    "#df2_encoded"
   ]
  },
  {
   "cell_type": "code",
   "execution_count": 10,
   "metadata": {},
   "outputs": [],
   "source": [
    "df2_encoded = df2_encoded.reindex(['x0_30','x0_10','x0_5','x1_0.5', 'x1_1', 'x1_3', 'x2_12',\n",
    "       'x2_20', 'x2_32', 'x3_Difficult', 'x3_Fair','x3_Easy', \n",
    "       'x4_Slosh resistant', 'x4_Spill resistant','x4_Leak resistant'],axis=1)"
   ]
  },
  {
   "cell_type": "code",
   "execution_count": 11,
   "metadata": {},
   "outputs": [],
   "source": [
    "#df2_encoded"
   ]
  },
  {
   "cell_type": "code",
   "execution_count": 12,
   "metadata": {},
   "outputs": [],
   "source": [
    "df2_encoded['a'] = 0\n",
    "df2_encoded['b'] = 0\n",
    "df2_encoded['c'] = 1"
   ]
  },
  {
   "cell_type": "code",
   "execution_count": 182,
   "metadata": {},
   "outputs": [],
   "source": [
    "#df2_encoded"
   ]
  },
  {
   "cell_type": "code",
   "execution_count": 14,
   "metadata": {},
   "outputs": [],
   "source": [
    "product = np.dot(df1,df2_encoded.T)\n",
    "product = pd.DataFrame(product)"
   ]
  },
  {
   "cell_type": "code",
   "execution_count": 15,
   "metadata": {},
   "outputs": [],
   "source": [
    "#product"
   ]
  },
  {
   "cell_type": "code",
   "execution_count": 16,
   "metadata": {},
   "outputs": [],
   "source": [
    "c=0.0139\n",
    "product = np.exp(product * c)"
   ]
  },
  {
   "cell_type": "code",
   "execution_count": 17,
   "metadata": {},
   "outputs": [],
   "source": [
    "#product"
   ]
  },
  {
   "cell_type": "code",
   "execution_count": 18,
   "metadata": {},
   "outputs": [],
   "source": [
    "df3 = pd.DataFrame()\n",
    "df3 = df3.append({ 'x0_30':1, 'x1_3':1, 'x2_20':1, 'x3_Easy':1, 'x4_Leak resistant':1, 'a':1 }, ignore_index=True)\n",
    "df3 = df3.append({ 'x0_10':1, 'x1_1':1, 'x2_20':1, 'x3_Fair':1, 'x4_Spill resistant':1, 'b':1}, ignore_index=True)"
   ]
  },
  {
   "cell_type": "code",
   "execution_count": 19,
   "metadata": {},
   "outputs": [],
   "source": [
    "df3 = df3.fillna(0)"
   ]
  },
  {
   "cell_type": "code",
   "execution_count": 20,
   "metadata": {},
   "outputs": [],
   "source": [
    "df3[['x0_5','x1_0.5','x3_Difficult','x4_Slosh resistant','x2_12','x2_32', 'c']] = 0\n",
    "df3 = df3.reindex(['x0_30','x0_10','x0_5','x1_0.5', 'x1_1', 'x1_3', 'x2_12',\n",
    "       'x2_20', 'x2_32', 'x3_Difficult', 'x3_Fair','x3_Easy', \n",
    "       'x4_Slosh resistant', 'x4_Spill resistant','x4_Leak resistant','a', 'b', 'c'],axis=1)"
   ]
  },
  {
   "cell_type": "code",
   "execution_count": 183,
   "metadata": {},
   "outputs": [],
   "source": [
    "#df3"
   ]
  },
  {
   "cell_type": "code",
   "execution_count": 22,
   "metadata": {},
   "outputs": [],
   "source": [
    "product1 = np.dot(df1,df3.T)\n",
    "product1 = pd.DataFrame(product1)"
   ]
  },
  {
   "cell_type": "code",
   "execution_count": 23,
   "metadata": {},
   "outputs": [],
   "source": [
    "c=0.0139\n",
    "product1 = np.exp(product1 * c)"
   ]
  },
  {
   "cell_type": "code",
   "execution_count": 24,
   "metadata": {},
   "outputs": [],
   "source": [
    "#product1"
   ]
  },
  {
   "cell_type": "code",
   "execution_count": 25,
   "metadata": {},
   "outputs": [],
   "source": [
    "product1_sum= product1.sum(axis = 1)\n",
    "#product1_sum"
   ]
  },
  {
   "cell_type": "code",
   "execution_count": 26,
   "metadata": {},
   "outputs": [],
   "source": [
    "prob = pd.DataFrame()"
   ]
  },
  {
   "cell_type": "code",
   "execution_count": 27,
   "metadata": {},
   "outputs": [],
   "source": [
    "prob = []\n",
    "customer, prod = product.shape\n",
    "\n",
    "for i in range(customer):\n",
    "    prob_i = []\n",
    "    for j in range(prod):\n",
    "        prob_i.append(product.iloc[i,j]/(product.iloc[i,j]+product1_sum.iloc[i])) \n",
    "    prob.append(prob_i)\n",
    "prob = pd.DataFrame(prob)"
   ]
  },
  {
   "cell_type": "code",
   "execution_count": 28,
   "metadata": {},
   "outputs": [],
   "source": [
    "#prob"
   ]
  },
  {
   "cell_type": "code",
   "execution_count": 29,
   "metadata": {},
   "outputs": [],
   "source": [
    "prob_avg = prob.mean()"
   ]
  },
  {
   "cell_type": "code",
   "execution_count": 30,
   "metadata": {},
   "outputs": [],
   "source": [
    "#prob_avg"
   ]
  },
  {
   "cell_type": "code",
   "execution_count": 31,
   "metadata": {},
   "outputs": [],
   "source": [
    "cost = pd.DataFrame()\n",
    "cost = cost.append({'x0_30':30 ,'x0_10': 10,'x0_5' :5 ,'x1_0.5' : 0.5, 'x1_1': 1, 'x1_3' :3, 'x2_12' :1,\n",
    "       'x2_20':2.6, 'x2_32':2.8, 'x3_Difficult':1, 'x3_Fair':2.2,'x3_Easy':3.0, \n",
    "       'x4_Slosh resistant':0.5, 'x4_Spill resistant':0.8,'x4_Leak resistant':1,'a':1, 'b':1, 'c':1},ignore_index = True)"
   ]
  },
  {
   "cell_type": "code",
   "execution_count": 32,
   "metadata": {},
   "outputs": [],
   "source": [
    "cost = cost.reindex(['x0_30','x0_10','x0_5','x1_0.5', 'x1_1', 'x1_3', 'x2_12',\n",
    "       'x2_20', 'x2_32', 'x3_Difficult', 'x3_Fair','x3_Easy', \n",
    "       'x4_Slosh resistant', 'x4_Spill resistant','x4_Leak resistant','a','b','c'],axis=1)"
   ]
  },
  {
   "cell_type": "code",
   "execution_count": 33,
   "metadata": {},
   "outputs": [],
   "source": [
    "#cost"
   ]
  },
  {
   "cell_type": "code",
   "execution_count": 34,
   "metadata": {},
   "outputs": [],
   "source": [
    "#df2_encoded"
   ]
  },
  {
   "cell_type": "code",
   "execution_count": 35,
   "metadata": {},
   "outputs": [],
   "source": [
    "pandc = pd.DataFrame()\n",
    "\n",
    "for i in range(243):\n",
    "    temp = cost* df2_encoded.iloc[i]\n",
    "    pandc = pandc.append(temp)"
   ]
  },
  {
   "cell_type": "code",
   "execution_count": 36,
   "metadata": {},
   "outputs": [],
   "source": [
    "#pandc"
   ]
  },
  {
   "cell_type": "code",
   "execution_count": 37,
   "metadata": {},
   "outputs": [],
   "source": [
    "pandc['price_'] = pandc.iloc[:,0:3].sum(axis = 1)\n",
    "pandc['cost'] = pandc.iloc[:,3:15].sum(axis=1)\n",
    "pandc['margin'] = pandc['price_'] - pandc['cost']"
   ]
  },
  {
   "cell_type": "code",
   "execution_count": 38,
   "metadata": {},
   "outputs": [],
   "source": [
    "pandc.reset_index(inplace=True)"
   ]
  },
  {
   "cell_type": "code",
   "execution_count": 39,
   "metadata": {},
   "outputs": [],
   "source": [
    "#pandc"
   ]
  },
  {
   "cell_type": "code",
   "execution_count": 40,
   "metadata": {},
   "outputs": [],
   "source": [
    "#pandc['margin'].iloc[242]"
   ]
  },
  {
   "cell_type": "code",
   "execution_count": 41,
   "metadata": {},
   "outputs": [],
   "source": [
    "pandc['exp'] = pandc['margin'] * prob_avg"
   ]
  },
  {
   "cell_type": "code",
   "execution_count": 42,
   "metadata": {},
   "outputs": [],
   "source": [
    "#pandc"
   ]
  },
  {
   "cell_type": "markdown",
   "metadata": {},
   "source": [
    "# Question 1"
   ]
  },
  {
   "cell_type": "code",
   "execution_count": 43,
   "metadata": {},
   "outputs": [
    {
     "data": {
      "text/plain": [
       "4.357384811895731"
      ]
     },
     "execution_count": 43,
     "metadata": {},
     "output_type": "execute_result"
    }
   ],
   "source": [
    "pandc['exp'][44]"
   ]
  },
  {
   "cell_type": "markdown",
   "metadata": {},
   "source": [
    "# Question 2"
   ]
  },
  {
   "cell_type": "code",
   "execution_count": 44,
   "metadata": {},
   "outputs": [],
   "source": [
    "result = pd.DataFrame()"
   ]
  },
  {
   "cell_type": "code",
   "execution_count": 45,
   "metadata": {},
   "outputs": [],
   "source": [
    "result['marketshare']  = prob_avg"
   ]
  },
  {
   "cell_type": "code",
   "execution_count": 46,
   "metadata": {},
   "outputs": [],
   "source": [
    "result[['price_', 'margin', 'exp']] = pandc[['price_', 'margin', 'exp']]"
   ]
  },
  {
   "cell_type": "code",
   "execution_count": 47,
   "metadata": {},
   "outputs": [
    {
     "data": {
      "text/html": [
       "<div>\n",
       "<style scoped>\n",
       "    .dataframe tbody tr th:only-of-type {\n",
       "        vertical-align: middle;\n",
       "    }\n",
       "\n",
       "    .dataframe tbody tr th {\n",
       "        vertical-align: top;\n",
       "    }\n",
       "\n",
       "    .dataframe thead th {\n",
       "        text-align: right;\n",
       "    }\n",
       "</style>\n",
       "<table border=\"1\" class=\"dataframe\">\n",
       "  <thead>\n",
       "    <tr style=\"text-align: right;\">\n",
       "      <th></th>\n",
       "      <th>marketshare</th>\n",
       "      <th>price_</th>\n",
       "      <th>margin</th>\n",
       "      <th>exp</th>\n",
       "    </tr>\n",
       "  </thead>\n",
       "  <tbody>\n",
       "    <tr>\n",
       "      <th>0</th>\n",
       "      <td>0.016530</td>\n",
       "      <td>30.0</td>\n",
       "      <td>27.0</td>\n",
       "      <td>0.446321</td>\n",
       "    </tr>\n",
       "    <tr>\n",
       "      <th>1</th>\n",
       "      <td>0.025234</td>\n",
       "      <td>30.0</td>\n",
       "      <td>26.7</td>\n",
       "      <td>0.673761</td>\n",
       "    </tr>\n",
       "    <tr>\n",
       "      <th>2</th>\n",
       "      <td>0.042167</td>\n",
       "      <td>30.0</td>\n",
       "      <td>26.5</td>\n",
       "      <td>1.117416</td>\n",
       "    </tr>\n",
       "    <tr>\n",
       "      <th>3</th>\n",
       "      <td>0.033560</td>\n",
       "      <td>30.0</td>\n",
       "      <td>25.8</td>\n",
       "      <td>0.865858</td>\n",
       "    </tr>\n",
       "    <tr>\n",
       "      <th>4</th>\n",
       "      <td>0.051275</td>\n",
       "      <td>30.0</td>\n",
       "      <td>25.5</td>\n",
       "      <td>1.307513</td>\n",
       "    </tr>\n",
       "    <tr>\n",
       "      <th>...</th>\n",
       "      <td>...</td>\n",
       "      <td>...</td>\n",
       "      <td>...</td>\n",
       "      <td>...</td>\n",
       "    </tr>\n",
       "    <tr>\n",
       "      <th>238</th>\n",
       "      <td>0.455497</td>\n",
       "      <td>5.0</td>\n",
       "      <td>-3.8</td>\n",
       "      <td>-1.730890</td>\n",
       "    </tr>\n",
       "    <tr>\n",
       "      <th>239</th>\n",
       "      <td>0.555399</td>\n",
       "      <td>5.0</td>\n",
       "      <td>-4.0</td>\n",
       "      <td>-2.221595</td>\n",
       "    </tr>\n",
       "    <tr>\n",
       "      <th>240</th>\n",
       "      <td>0.441466</td>\n",
       "      <td>5.0</td>\n",
       "      <td>-4.3</td>\n",
       "      <td>-1.898304</td>\n",
       "    </tr>\n",
       "    <tr>\n",
       "      <th>241</th>\n",
       "      <td>0.529777</td>\n",
       "      <td>5.0</td>\n",
       "      <td>-4.6</td>\n",
       "      <td>-2.436975</td>\n",
       "    </tr>\n",
       "    <tr>\n",
       "      <th>242</th>\n",
       "      <td>0.630500</td>\n",
       "      <td>5.0</td>\n",
       "      <td>-4.8</td>\n",
       "      <td>-3.026400</td>\n",
       "    </tr>\n",
       "  </tbody>\n",
       "</table>\n",
       "<p>243 rows × 4 columns</p>\n",
       "</div>"
      ],
      "text/plain": [
       "     marketshare  price_  margin       exp\n",
       "0       0.016530    30.0    27.0  0.446321\n",
       "1       0.025234    30.0    26.7  0.673761\n",
       "2       0.042167    30.0    26.5  1.117416\n",
       "3       0.033560    30.0    25.8  0.865858\n",
       "4       0.051275    30.0    25.5  1.307513\n",
       "..           ...     ...     ...       ...\n",
       "238     0.455497     5.0    -3.8 -1.730890\n",
       "239     0.555399     5.0    -4.0 -2.221595\n",
       "240     0.441466     5.0    -4.3 -1.898304\n",
       "241     0.529777     5.0    -4.6 -2.436975\n",
       "242     0.630500     5.0    -4.8 -3.026400\n",
       "\n",
       "[243 rows x 4 columns]"
      ]
     },
     "execution_count": 47,
     "metadata": {},
     "output_type": "execute_result"
    }
   ],
   "source": [
    "result"
   ]
  },
  {
   "cell_type": "code",
   "execution_count": 48,
   "metadata": {},
   "outputs": [],
   "source": [
    "result.to_csv(r'~\\Desktop\\export_dataframe.csv')"
   ]
  },
  {
   "cell_type": "code",
   "execution_count": 185,
   "metadata": {},
   "outputs": [
    {
     "data": {
      "text/plain": [
       "<matplotlib.collections.PathCollection at 0x7ff86c29a550>"
      ]
     },
     "execution_count": 185,
     "metadata": {},
     "output_type": "execute_result"
    },
    {
     "data": {
      "image/png": "[encoded data removed]",
      "text/plain": [
       "<Figure size 432x288 with 1 Axes>"
      ]
     },
     "metadata": {
      "needs_background": "light"
     },
     "output_type": "display_data"
    }
   ],
   "source": [
    "plt.scatter(result['marketshare'], result['exp'])"
   ]
  },
  {
   "cell_type": "markdown",
   "metadata": {},
   "source": [
    "# Question 3"
   ]
  },
  {
   "cell_type": "code",
   "execution_count": 50,
   "metadata": {},
   "outputs": [],
   "source": [
    "#pandc['exp'].argmax()"
   ]
  },
  {
   "cell_type": "code",
   "execution_count": 51,
   "metadata": {},
   "outputs": [],
   "source": [
    "#pandc.iloc[71]['price_']"
   ]
  },
  {
   "cell_type": "code",
   "execution_count": 52,
   "metadata": {},
   "outputs": [],
   "source": [
    "#pandc.iloc[71][['price_','margin','exp']]"
   ]
  },
  {
   "cell_type": "code",
   "execution_count": 53,
   "metadata": {},
   "outputs": [],
   "source": [
    "cu = []\n",
    "cu1 = []\n",
    "cu.append(df2.iloc[71])\n",
    "cu1.append(pandc.iloc[71][['price_','margin','exp']])"
   ]
  },
  {
   "cell_type": "code",
   "execution_count": 54,
   "metadata": {},
   "outputs": [],
   "source": [
    "prob_avg_a = pd.DataFrame(prob_avg)"
   ]
  },
  {
   "cell_type": "code",
   "execution_count": 55,
   "metadata": {},
   "outputs": [],
   "source": [
    "cu = pd.DataFrame()\n",
    "cu = cu.append(df2.iloc[71],ignore_index=True)\n",
    "cu = cu.append({'marketshare':prob_avg.iloc[71]},ignore_index=True)\n",
    "cu = cu.append(pandc.iloc[71][['price_','margin','exp']],ignore_index=True)"
   ]
  },
  {
   "cell_type": "code",
   "execution_count": 56,
   "metadata": {},
   "outputs": [],
   "source": [
    "cu = cu.reindex(['price','timeinsulated','capacity','cleanability', 'containment', 'marketshare', 'price_', 'margin',\n",
    "       'exp'],axis=1)"
   ]
  },
  {
   "cell_type": "code",
   "execution_count": 57,
   "metadata": {},
   "outputs": [],
   "source": [
    "cu = cu.fillna(method='ffill')\n",
    "cu = cu.fillna(method='ffill')"
   ]
  },
  {
   "cell_type": "code",
   "execution_count": 58,
   "metadata": {},
   "outputs": [
    {
     "data": {
      "text/plain": [
       "price                        30\n",
       "timeinsulated                 3\n",
       "capacity                     20\n",
       "cleanability               Easy\n",
       "containment      Leak resistant\n",
       "marketshare             0.25884\n",
       "price_                       30\n",
       "margin                     20.4\n",
       "exp                     5.28034\n",
       "Name: 2, dtype: object"
      ]
     },
     "execution_count": 58,
     "metadata": {},
     "output_type": "execute_result"
    }
   ],
   "source": [
    "cu.iloc[2]"
   ]
  },
  {
   "cell_type": "code",
   "execution_count": 59,
   "metadata": {},
   "outputs": [],
   "source": [
    "# importance\n",
    "ip = df.iloc[:, 19:25]"
   ]
  },
  {
   "cell_type": "code",
   "execution_count": 60,
   "metadata": {},
   "outputs": [],
   "source": [
    "#rating\n",
    "rt = df.iloc[:,1:19]"
   ]
  },
  {
   "cell_type": "markdown",
   "metadata": {},
   "source": [
    "# Optional 1"
   ]
  },
  {
   "cell_type": "code",
   "execution_count": 149,
   "metadata": {},
   "outputs": [],
   "source": [
    "def EBA(rt, ip, cutoff):\n",
    "    #sort the importance\n",
    "    epsilon = np.random.uniform(-0.49, +0.49, 6)\n",
    "    sort_ip = np.argsort(-ip+epsilon)\n",
    "    #broadcast \n",
    "    bc = np.broadcast_to(sort_ip, (3, 6))\n",
    "    #interact\n",
    "    reordered = np.array(list(map(lambda x,y:y[x],bc,rt)))\n",
    "    #within row accumulation\n",
    "    att = np.argmax(reordered<cutoff,axis=1)\n",
    "    att = att + np.all(reordered>cutoff,axis=1) *1000\n",
    "    #within column \n",
    "    #randomly select one when there is a tie\n",
    "    rand_select = np.random.choice(np.where(att == att.max())[0])\n",
    "    return rand_select"
   ]
  },
  {
   "cell_type": "markdown",
   "metadata": {},
   "source": [
    "# Question 4"
   ]
  },
  {
   "cell_type": "code",
   "execution_count": 150,
   "metadata": {},
   "outputs": [],
   "source": [
    "share = []"
   ]
  },
  {
   "cell_type": "code",
   "execution_count": 151,
   "metadata": {},
   "outputs": [
    {
     "name": "stdout",
     "output_type": "stream",
     "text": [
      "just letting you know Im at 0\n",
      "just letting you know Im at 1\n",
      "just letting you know Im at 2\n",
      "just letting you know Im at 3\n",
      "just letting you know Im at 4\n",
      "just letting you know Im at 5\n",
      "just letting you know Im at 6\n",
      "just letting you know Im at 7\n",
      "just letting you know Im at 8\n",
      "just letting you know Im at 9\n",
      "just letting you know Im at 10\n",
      "just letting you know Im at 11\n",
      "just letting you know Im at 12\n",
      "just letting you know Im at 13\n",
      "just letting you know Im at 14\n",
      "just letting you know Im at 15\n",
      "just letting you know Im at 16\n",
      "just letting you know Im at 17\n",
      "just letting you know Im at 18\n",
      "just letting you know Im at 19\n",
      "just letting you know Im at 20\n",
      "just letting you know Im at 21\n",
      "just letting you know Im at 22\n",
      "just letting you know Im at 23\n",
      "just letting you know Im at 24\n",
      "just letting you know Im at 25\n",
      "just letting you know Im at 26\n",
      "just letting you know Im at 27\n",
      "just letting you know Im at 28\n",
      "just letting you know Im at 29\n",
      "just letting you know Im at 30\n",
      "just letting you know Im at 31\n",
      "just letting you know Im at 32\n",
      "just letting you know Im at 33\n",
      "just letting you know Im at 34\n",
      "just letting you know Im at 35\n",
      "just letting you know Im at 36\n",
      "just letting you know Im at 37\n",
      "just letting you know Im at 38\n",
      "just letting you know Im at 39\n",
      "just letting you know Im at 40\n",
      "just letting you know Im at 41\n",
      "just letting you know Im at 42\n",
      "just letting you know Im at 43\n",
      "just letting you know Im at 44\n",
      "just letting you know Im at 45\n",
      "just letting you know Im at 46\n",
      "just letting you know Im at 47\n",
      "just letting you know Im at 48\n",
      "just letting you know Im at 49\n",
      "just letting you know Im at 50\n",
      "just letting you know Im at 51\n",
      "just letting you know Im at 52\n",
      "just letting you know Im at 53\n",
      "just letting you know Im at 54\n",
      "just letting you know Im at 55\n",
      "just letting you know Im at 56\n",
      "just letting you know Im at 57\n",
      "just letting you know Im at 58\n",
      "just letting you know Im at 59\n",
      "just letting you know Im at 60\n",
      "just letting you know Im at 61\n",
      "just letting you know Im at 62\n",
      "just letting you know Im at 63\n",
      "just letting you know Im at 64\n",
      "just letting you know Im at 65\n",
      "just letting you know Im at 66\n",
      "just letting you know Im at 67\n",
      "just letting you know Im at 68\n",
      "just letting you know Im at 69\n",
      "just letting you know Im at 70\n",
      "just letting you know Im at 71\n",
      "just letting you know Im at 72\n",
      "just letting you know Im at 73\n",
      "just letting you know Im at 74\n",
      "just letting you know Im at 75\n",
      "just letting you know Im at 76\n",
      "just letting you know Im at 77\n",
      "just letting you know Im at 78\n",
      "just letting you know Im at 79\n",
      "just letting you know Im at 80\n",
      "just letting you know Im at 81\n",
      "just letting you know Im at 82\n",
      "just letting you know Im at 83\n",
      "just letting you know Im at 84\n",
      "just letting you know Im at 85\n",
      "just letting you know Im at 86\n",
      "just letting you know Im at 87\n",
      "just letting you know Im at 88\n",
      "just letting you know Im at 89\n",
      "just letting you know Im at 90\n",
      "just letting you know Im at 91\n",
      "just letting you know Im at 92\n",
      "just letting you know Im at 93\n",
      "just letting you know Im at 94\n",
      "just letting you know Im at 95\n",
      "just letting you know Im at 96\n",
      "just letting you know Im at 97\n",
      "just letting you know Im at 98\n",
      "just letting you know Im at 99\n",
      "just letting you know Im at 100\n",
      "just letting you know Im at 101\n",
      "just letting you know Im at 102\n",
      "just letting you know Im at 103\n",
      "just letting you know Im at 104\n",
      "just letting you know Im at 105\n",
      "just letting you know Im at 106\n",
      "just letting you know Im at 107\n",
      "just letting you know Im at 108\n",
      "just letting you know Im at 109\n",
      "just letting you know Im at 110\n",
      "just letting you know Im at 111\n",
      "just letting you know Im at 112\n",
      "just letting you know Im at 113\n",
      "just letting you know Im at 114\n",
      "just letting you know Im at 115\n",
      "just letting you know Im at 116\n",
      "just letting you know Im at 117\n",
      "just letting you know Im at 118\n",
      "just letting you know Im at 119\n",
      "just letting you know Im at 120\n",
      "just letting you know Im at 121\n",
      "just letting you know Im at 122\n",
      "just letting you know Im at 123\n",
      "just letting you know Im at 124\n",
      "just letting you know Im at 125\n",
      "just letting you know Im at 126\n",
      "just letting you know Im at 127\n",
      "just letting you know Im at 128\n",
      "just letting you know Im at 129\n",
      "just letting you know Im at 130\n",
      "just letting you know Im at 131\n",
      "just letting you know Im at 132\n",
      "just letting you know Im at 133\n",
      "just letting you know Im at 134\n",
      "just letting you know Im at 135\n",
      "just letting you know Im at 136\n",
      "just letting you know Im at 137\n",
      "just letting you know Im at 138\n",
      "just letting you know Im at 139\n",
      "just letting you know Im at 140\n",
      "just letting you know Im at 141\n",
      "just letting you know Im at 142\n",
      "just letting you know Im at 143\n",
      "just letting you know Im at 144\n",
      "just letting you know Im at 145\n",
      "just letting you know Im at 146\n",
      "just letting you know Im at 147\n",
      "just letting you know Im at 148\n",
      "just letting you know Im at 149\n",
      "just letting you know Im at 150\n",
      "just letting you know Im at 151\n",
      "just letting you know Im at 152\n",
      "just letting you know Im at 153\n",
      "just letting you know Im at 154\n",
      "just letting you know Im at 155\n",
      "just letting you know Im at 156\n",
      "just letting you know Im at 157\n",
      "just letting you know Im at 158\n",
      "just letting you know Im at 159\n",
      "just letting you know Im at 160\n",
      "just letting you know Im at 161\n",
      "just letting you know Im at 162\n",
      "just letting you know Im at 163\n",
      "just letting you know Im at 164\n",
      "just letting you know Im at 165\n",
      "just letting you know Im at 166\n",
      "just letting you know Im at 167\n",
      "just letting you know Im at 168\n",
      "just letting you know Im at 169\n",
      "just letting you know Im at 170\n",
      "just letting you know Im at 171\n",
      "just letting you know Im at 172\n",
      "just letting you know Im at 173\n",
      "just letting you know Im at 174\n",
      "just letting you know Im at 175\n",
      "just letting you know Im at 176\n",
      "just letting you know Im at 177\n",
      "just letting you know Im at 178\n",
      "just letting you know Im at 179\n",
      "just letting you know Im at 180\n",
      "just letting you know Im at 181\n",
      "just letting you know Im at 182\n",
      "just letting you know Im at 183\n",
      "just letting you know Im at 184\n",
      "just letting you know Im at 185\n",
      "just letting you know Im at 186\n",
      "just letting you know Im at 187\n",
      "just letting you know Im at 188\n",
      "just letting you know Im at 189\n",
      "just letting you know Im at 190\n",
      "just letting you know Im at 191\n",
      "just letting you know Im at 192\n",
      "just letting you know Im at 193\n",
      "just letting you know Im at 194\n",
      "just letting you know Im at 195\n",
      "just letting you know Im at 196\n",
      "just letting you know Im at 197\n",
      "just letting you know Im at 198\n",
      "just letting you know Im at 199\n",
      "just letting you know Im at 200\n",
      "just letting you know Im at 201\n",
      "just letting you know Im at 202\n",
      "just letting you know Im at 203\n",
      "just letting you know Im at 204\n",
      "just letting you know Im at 205\n",
      "just letting you know Im at 206\n",
      "just letting you know Im at 207\n",
      "just letting you know Im at 208\n",
      "just letting you know Im at 209\n",
      "just letting you know Im at 210\n",
      "just letting you know Im at 211\n",
      "just letting you know Im at 212\n",
      "just letting you know Im at 213\n",
      "just letting you know Im at 214\n",
      "just letting you know Im at 215\n",
      "just letting you know Im at 216\n",
      "just letting you know Im at 217\n",
      "just letting you know Im at 218\n",
      "just letting you know Im at 219\n",
      "just letting you know Im at 220\n",
      "just letting you know Im at 221\n",
      "just letting you know Im at 222\n",
      "just letting you know Im at 223\n",
      "just letting you know Im at 224\n",
      "just letting you know Im at 225\n",
      "just letting you know Im at 226\n",
      "just letting you know Im at 227\n",
      "just letting you know Im at 228\n",
      "just letting you know Im at 229\n",
      "just letting you know Im at 230\n",
      "just letting you know Im at 231\n",
      "just letting you know Im at 232\n",
      "just letting you know Im at 233\n",
      "just letting you know Im at 234\n",
      "just letting you know Im at 235\n",
      "just letting you know Im at 236\n",
      "just letting you know Im at 237\n",
      "just letting you know Im at 238\n",
      "just letting you know Im at 239\n",
      "just letting you know Im at 240\n",
      "just letting you know Im at 241\n",
      "just letting you know Im at 242\n"
     ]
    }
   ],
   "source": [
    "for i in range(243):\n",
    "    print('just letting you know Im at', i)\n",
    "    dummy = np.append(df2_encoded.iloc[i],df3).reshape((3,18))\n",
    "#     print('dummy',dummy)\n",
    "    countc = 0\n",
    "    for j in range(311):\n",
    "#         print('this is j',j)\n",
    "        rt0 = rt.iloc[j].to_numpy()\n",
    "#         print('rt0',rt0)\n",
    "        dummy1 = dummy * rt0\n",
    "#         print('ere',dummy)\n",
    "        dummy1 = dummy1[dummy1!=0].reshape((3,6))\n",
    "#         print('again', dummy1)\n",
    "        c = 0\n",
    "        while c<100:\n",
    "            if EBA(dummy1, ip.iloc[j],2.5) == 0:\n",
    "                countc += 1\n",
    "            c += 1\n",
    "    frac = countc/31100\n",
    "    share.append(frac) "
   ]
  },
  {
   "cell_type": "code",
   "execution_count": 157,
   "metadata": {},
   "outputs": [],
   "source": [
    "result1 = pd.DataFrame()\n",
    "result1['marketshare'] = share\n",
    "result1[['price_', 'margin']] = pandc[['price_', 'margin']]\n",
    "result1['exp'] = pandc['margin'] * share"
   ]
  },
  {
   "cell_type": "code",
   "execution_count": 160,
   "metadata": {},
   "outputs": [
    {
     "data": {
      "text/plain": [
       "1.2136334405144693"
      ]
     },
     "execution_count": 160,
     "metadata": {},
     "output_type": "execute_result"
    }
   ],
   "source": [
    "result1['exp'][44]"
   ]
  },
  {
   "cell_type": "code",
   "execution_count": 158,
   "metadata": {},
   "outputs": [],
   "source": [
    "result1.to_csv(r'~\\Desktop\\luanqibazao.csv')"
   ]
  },
  {
   "cell_type": "code",
   "execution_count": 184,
   "metadata": {},
   "outputs": [
    {
     "data": {
      "text/plain": [
       "<matplotlib.collections.PathCollection at 0x7ff86bfcb690>"
      ]
     },
     "execution_count": 184,
     "metadata": {},
     "output_type": "execute_result"
    },
    {
     "data": {
      "image/png": "[encoded data removed]",
      "text/plain": [
       "<Figure size 432x288 with 1 Axes>"
      ]
     },
     "metadata": {
      "needs_background": "light"
     },
     "output_type": "display_data"
    }
   ],
   "source": [
    "plt.scatter(result1['marketshare'], result1['exp'])"
   ]
  },
  {
   "cell_type": "code",
   "execution_count": 180,
   "metadata": {},
   "outputs": [
    {
     "data": {
      "text/html": [
       "<div>\n",
       "<style scoped>\n",
       "    .dataframe tbody tr th:only-of-type {\n",
       "        vertical-align: middle;\n",
       "    }\n",
       "\n",
       "    .dataframe tbody tr th {\n",
       "        vertical-align: top;\n",
       "    }\n",
       "\n",
       "    .dataframe thead th {\n",
       "        text-align: right;\n",
       "    }\n",
       "</style>\n",
       "<table border=\"1\" class=\"dataframe\">\n",
       "  <thead>\n",
       "    <tr style=\"text-align: right;\">\n",
       "      <th></th>\n",
       "      <th>marketshare</th>\n",
       "      <th>price_</th>\n",
       "      <th>margin</th>\n",
       "      <th>exp</th>\n",
       "    </tr>\n",
       "  </thead>\n",
       "  <tbody>\n",
       "    <tr>\n",
       "      <th>0</th>\n",
       "      <td>0.001029</td>\n",
       "      <td>30.0</td>\n",
       "      <td>27.0</td>\n",
       "      <td>0.027781</td>\n",
       "    </tr>\n",
       "    <tr>\n",
       "      <th>1</th>\n",
       "      <td>0.000932</td>\n",
       "      <td>30.0</td>\n",
       "      <td>26.7</td>\n",
       "      <td>0.024897</td>\n",
       "    </tr>\n",
       "    <tr>\n",
       "      <th>2</th>\n",
       "      <td>0.006559</td>\n",
       "      <td>30.0</td>\n",
       "      <td>26.5</td>\n",
       "      <td>0.173826</td>\n",
       "    </tr>\n",
       "    <tr>\n",
       "      <th>3</th>\n",
       "      <td>0.002990</td>\n",
       "      <td>30.0</td>\n",
       "      <td>25.8</td>\n",
       "      <td>0.077151</td>\n",
       "    </tr>\n",
       "    <tr>\n",
       "      <th>4</th>\n",
       "      <td>0.018939</td>\n",
       "      <td>30.0</td>\n",
       "      <td>25.5</td>\n",
       "      <td>0.482942</td>\n",
       "    </tr>\n",
       "    <tr>\n",
       "      <th>...</th>\n",
       "      <td>...</td>\n",
       "      <td>...</td>\n",
       "      <td>...</td>\n",
       "      <td>...</td>\n",
       "    </tr>\n",
       "    <tr>\n",
       "      <th>238</th>\n",
       "      <td>0.422026</td>\n",
       "      <td>5.0</td>\n",
       "      <td>-3.8</td>\n",
       "      <td>-1.603698</td>\n",
       "    </tr>\n",
       "    <tr>\n",
       "      <th>239</th>\n",
       "      <td>0.490772</td>\n",
       "      <td>5.0</td>\n",
       "      <td>-4.0</td>\n",
       "      <td>-1.963087</td>\n",
       "    </tr>\n",
       "    <tr>\n",
       "      <th>240</th>\n",
       "      <td>0.210772</td>\n",
       "      <td>5.0</td>\n",
       "      <td>-4.3</td>\n",
       "      <td>-0.906318</td>\n",
       "    </tr>\n",
       "    <tr>\n",
       "      <th>241</th>\n",
       "      <td>0.430064</td>\n",
       "      <td>5.0</td>\n",
       "      <td>-4.6</td>\n",
       "      <td>-1.978296</td>\n",
       "    </tr>\n",
       "    <tr>\n",
       "      <th>242</th>\n",
       "      <td>0.499068</td>\n",
       "      <td>5.0</td>\n",
       "      <td>-4.8</td>\n",
       "      <td>-2.395524</td>\n",
       "    </tr>\n",
       "  </tbody>\n",
       "</table>\n",
       "<p>243 rows × 4 columns</p>\n",
       "</div>"
      ],
      "text/plain": [
       "     marketshare  price_  margin       exp\n",
       "0       0.001029    30.0    27.0  0.027781\n",
       "1       0.000932    30.0    26.7  0.024897\n",
       "2       0.006559    30.0    26.5  0.173826\n",
       "3       0.002990    30.0    25.8  0.077151\n",
       "4       0.018939    30.0    25.5  0.482942\n",
       "..           ...     ...     ...       ...\n",
       "238     0.422026     5.0    -3.8 -1.603698\n",
       "239     0.490772     5.0    -4.0 -1.963087\n",
       "240     0.210772     5.0    -4.3 -0.906318\n",
       "241     0.430064     5.0    -4.6 -1.978296\n",
       "242     0.499068     5.0    -4.8 -2.395524\n",
       "\n",
       "[243 rows x 4 columns]"
      ]
     },
     "execution_count": 180,
     "metadata": {},
     "output_type": "execute_result"
    }
   ],
   "source": [
    "result1"
   ]
  },
  {
   "cell_type": "code",
   "execution_count": 162,
   "metadata": {},
   "outputs": [],
   "source": [
    "argmax2 = result1['exp'].argmax()"
   ]
  },
  {
   "cell_type": "code",
   "execution_count": 173,
   "metadata": {},
   "outputs": [],
   "source": [
    "cu = pd.DataFrame()\n",
    "cu = cu.append(df2.iloc[113],ignore_index=True)\n",
    "cu = cu.append(result1.iloc[113][['marketshare','price_','margin','exp']],ignore_index=True)"
   ]
  },
  {
   "cell_type": "code",
   "execution_count": 175,
   "metadata": {},
   "outputs": [],
   "source": [
    "cu = cu.reindex(['price','timeinsulated','capacity','cleanability', 'containment', 'marketshare', 'price_', 'margin',\n",
    "       'exp'],axis=1)\n",
    "cu = cu.fillna(method='ffill')"
   ]
  },
  {
   "cell_type": "code",
   "execution_count": 177,
   "metadata": {},
   "outputs": [
    {
     "data": {
      "text/plain": [
       "price                        10\n",
       "timeinsulated                 1\n",
       "capacity                     12\n",
       "cleanability               Fair\n",
       "containment      Leak resistant\n",
       "marketshare            0.450836\n",
       "price_                       10\n",
       "margin                      4.8\n",
       "exp                     2.16401\n",
       "Name: 1, dtype: object"
      ]
     },
     "execution_count": 177,
     "metadata": {},
     "output_type": "execute_result"
    }
   ],
   "source": [
    "cu.iloc[1]"
   ]
  },
  {
   "cell_type": "code",
   "execution_count": null,
   "metadata": {},
   "outputs": [],
   "source": []
  }
 ],
 "metadata": {
  "kernelspec": {
   "display_name": "Python 3",
   "language": "python",
   "name": "python3"
  },
  "language_info": {
   "codemirror_mode": {
    "name": "ipython",
    "version": 3
   },
   "file_extension": ".py",
   "mimetype": "text/x-python",
   "name": "python",
   "nbconvert_exporter": "python",
   "pygments_lexer": "ipython3",
   "version": "3.7.6"
  }
 },
 "nbformat": 4,
 "nbformat_minor": 4
}
