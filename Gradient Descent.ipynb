{
 "cells": [
  {
   "cell_type": "code",
   "execution_count": 1,
   "metadata": {},
   "outputs": [],
   "source": [
    "import numpy as np\n",
    "import pandas as pd\n",
    "import csv\n",
    "from random import randint\n",
    "from sklearn.metrics import accuracy_score"
   ]
  },
  {
   "cell_type": "code",
   "execution_count": 2,
   "metadata": {},
   "outputs": [],
   "source": [
    "#Load training and testing data    \n",
    "df_test = pd.read_csv(\"LRTest.csv\")\n",
    "df_train = pd.read_csv(\"LRTrain.csv\")"
   ]
  },
  {
   "cell_type": "code",
   "execution_count": 3,
   "metadata": {},
   "outputs": [],
   "source": [
    "#Split X and y\n",
    "X_train = df_train.iloc[:, :-1]\n",
    "y_train = df_train.iloc[:,-1]\n",
    "X_test = df_test.iloc[:, :-1]\n",
    "y_test = df_test.iloc[:,-1]"
   ]
  },
  {
   "cell_type": "code",
   "execution_count": 4,
   "metadata": {},
   "outputs": [],
   "source": [
    "# initialize\n",
    "np.random.seed(100)\n",
    "w = np.zeros(X_train.shape[1])\n",
    "gamma = 0.00001\n",
    "T = 2000"
   ]
  },
  {
   "cell_type": "code",
   "execution_count": 5,
   "metadata": {},
   "outputs": [],
   "source": [
    "#define a function that calculates gradient descent\n",
    "def gradientdes(w, X_train, y_train):\n",
    "    n = X_train.shape[0]\n",
    "    return 1/n * sum ((1 / (1+ np.exp(-w.T.dot(X_train.iloc[i]))) - y_train.iloc[i]) * X_train.iloc[i]  for i in range(n))"
   ]
  },
  {
   "cell_type": "code",
   "execution_count": 6,
   "metadata": {},
   "outputs": [],
   "source": [
    "# train \n",
    "for i in range(T):\n",
    "    w -= gamma * gradientdes(w, X_train, y_train) "
   ]
  },
  {
   "cell_type": "code",
   "execution_count": 7,
   "metadata": {},
   "outputs": [],
   "source": [
    "threshold = np.linspace(0,1,11,endpoint = True)"
   ]
  },
  {
   "cell_type": "code",
   "execution_count": 8,
   "metadata": {},
   "outputs": [],
   "source": [
    "# create a list consisting of the probability predicted\n",
    "def get_prob(w):\n",
    "    result = []\n",
    "    for i in range(X_test.shape[0]):\n",
    "        result.append (1 / (1 + np.exp( - w.T.dot(X_test.iloc[i]))))\n",
    "    return result"
   ]
  },
  {
   "cell_type": "code",
   "execution_count": 9,
   "metadata": {},
   "outputs": [],
   "source": [
    "result = get_prob(w)"
   ]
  },
  {
   "cell_type": "code",
   "execution_count": 10,
   "metadata": {},
   "outputs": [
    {
     "data": {
      "text/plain": [
       "0.9256505576208178"
      ]
     },
     "execution_count": 10,
     "metadata": {},
     "output_type": "execute_result"
    }
   ],
   "source": [
    "pred = [0 if y <= 0.6 else 1 for y in result]\n",
    "accuracy_score(y_test,pred)"
   ]
  },
  {
   "cell_type": "markdown",
   "metadata": {},
   "source": [
    "# Try different gammas"
   ]
  },
  {
   "cell_type": "code",
   "execution_count": 11,
   "metadata": {},
   "outputs": [],
   "source": [
    "w1 = np.zeros(X_train.shape[1])\n",
    "gamma = 0.0001\n",
    "for i in range(T):\n",
    "    w1 -= gamma * gradientdes(w1, X_train, y_train) \n",
    "result1 = get_prob(w1)"
   ]
  },
  {
   "cell_type": "code",
   "execution_count": 12,
   "metadata": {},
   "outputs": [
    {
     "data": {
      "text/plain": [
       "0.9182156133828996"
      ]
     },
     "execution_count": 12,
     "metadata": {},
     "output_type": "execute_result"
    }
   ],
   "source": [
    "pred1 = [0 if y <= 0.6 else 1 for y in result1]\n",
    "accuracy_score(y_test,pred1)"
   ]
  },
  {
   "cell_type": "code",
   "execution_count": 13,
   "metadata": {},
   "outputs": [],
   "source": [
    "w2 = np.zeros(X_train.shape[1])\n",
    "gamma = 0.000001\n",
    "for i in range(T):\n",
    "    w2 -= gamma * gradientdes(w2, X_train, y_train) \n",
    "result2 = get_prob(w2)"
   ]
  },
  {
   "cell_type": "code",
   "execution_count": 14,
   "metadata": {},
   "outputs": [
    {
     "data": {
      "text/plain": [
       "0.9033457249070632"
      ]
     },
     "execution_count": 14,
     "metadata": {},
     "output_type": "execute_result"
    }
   ],
   "source": [
    "pred2 = [0 if y <= 0.6 else 1 for y in result2]\n",
    "accuracy_score(y_test,pred2)"
   ]
  },
  {
   "cell_type": "markdown",
   "metadata": {},
   "source": [
    "### gamma of 0.00001 performed the best.\n",
    "# Now try different iteration times on 0.00001"
   ]
  },
  {
   "cell_type": "code",
   "execution_count": 15,
   "metadata": {},
   "outputs": [],
   "source": [
    "w3 = np.zeros(X_train.shape[1])\n",
    "T = 1000\n",
    "for i in range(T):\n",
    "    w3 -= gamma * gradientdes(w3, X_train, y_train) \n",
    "result3 = get_prob(w3)"
   ]
  },
  {
   "cell_type": "code",
   "execution_count": 16,
   "metadata": {},
   "outputs": [
    {
     "data": {
      "text/plain": [
       "0.8884758364312267"
      ]
     },
     "execution_count": 16,
     "metadata": {},
     "output_type": "execute_result"
    }
   ],
   "source": [
    "pred3 = [0 if y <= 0.6 else 1 for y in result3]\n",
    "accuracy_score(y_test,pred3)"
   ]
  },
  {
   "cell_type": "code",
   "execution_count": 17,
   "metadata": {},
   "outputs": [],
   "source": [
    "w4 = np.zeros(X_train.shape[1])\n",
    "T = 3000\n",
    "for i in range(T):\n",
    "    w4 -= gamma * gradientdes(w4, X_train, y_train) \n",
    "result4 = get_prob(w4)"
   ]
  },
  {
   "cell_type": "code",
   "execution_count": 18,
   "metadata": {},
   "outputs": [
    {
     "data": {
      "text/plain": [
       "0.9144981412639405"
      ]
     },
     "execution_count": 18,
     "metadata": {},
     "output_type": "execute_result"
    }
   ],
   "source": [
    "pred4 = [0 if y <= 0.6 else 1 for y in result4]\n",
    "accuracy_score(y_test,pred4)"
   ]
  },
  {
   "cell_type": "markdown",
   "metadata": {},
   "source": [
    "# So the default values work the best. Now creating the performance table"
   ]
  },
  {
   "cell_type": "code",
   "execution_count": 19,
   "metadata": {},
   "outputs": [],
   "source": [
    "NofP = y_test.sum()\n",
    "NofN = y_test.count() - NofP"
   ]
  },
  {
   "cell_type": "code",
   "execution_count": 20,
   "metadata": {},
   "outputs": [
    {
     "data": {
      "text/html": [
       "<div>\n",
       "<style scoped>\n",
       "    .dataframe tbody tr th:only-of-type {\n",
       "        vertical-align: middle;\n",
       "    }\n",
       "\n",
       "    .dataframe tbody tr th {\n",
       "        vertical-align: top;\n",
       "    }\n",
       "\n",
       "    .dataframe thead th {\n",
       "        text-align: right;\n",
       "    }\n",
       "</style>\n",
       "<table border=\"1\" class=\"dataframe\">\n",
       "  <thead>\n",
       "    <tr style=\"text-align: right;\">\n",
       "      <th></th>\n",
       "      <th>0</th>\n",
       "      <th>1</th>\n",
       "      <th>2</th>\n",
       "      <th>3</th>\n",
       "    </tr>\n",
       "    <tr>\n",
       "      <th>t</th>\n",
       "      <th></th>\n",
       "      <th></th>\n",
       "      <th></th>\n",
       "      <th></th>\n",
       "    </tr>\n",
       "  </thead>\n",
       "  <tbody>\n",
       "    <tr>\n",
       "      <th>0.0</th>\n",
       "      <td>1.000000</td>\n",
       "      <td>1.000000</td>\n",
       "      <td>0.000000</td>\n",
       "      <td>0.000000</td>\n",
       "    </tr>\n",
       "    <tr>\n",
       "      <th>0.1</th>\n",
       "      <td>0.979592</td>\n",
       "      <td>0.584795</td>\n",
       "      <td>0.415205</td>\n",
       "      <td>0.020408</td>\n",
       "    </tr>\n",
       "    <tr>\n",
       "      <th>0.2</th>\n",
       "      <td>0.959184</td>\n",
       "      <td>0.216374</td>\n",
       "      <td>0.783626</td>\n",
       "      <td>0.040816</td>\n",
       "    </tr>\n",
       "    <tr>\n",
       "      <th>0.3</th>\n",
       "      <td>0.908163</td>\n",
       "      <td>0.105263</td>\n",
       "      <td>0.894737</td>\n",
       "      <td>0.091837</td>\n",
       "    </tr>\n",
       "    <tr>\n",
       "      <th>0.4</th>\n",
       "      <td>0.887755</td>\n",
       "      <td>0.058480</td>\n",
       "      <td>0.941520</td>\n",
       "      <td>0.112245</td>\n",
       "    </tr>\n",
       "    <tr>\n",
       "      <th>0.5</th>\n",
       "      <td>0.857143</td>\n",
       "      <td>0.040936</td>\n",
       "      <td>0.959064</td>\n",
       "      <td>0.142857</td>\n",
       "    </tr>\n",
       "    <tr>\n",
       "      <th>0.6</th>\n",
       "      <td>0.846939</td>\n",
       "      <td>0.029240</td>\n",
       "      <td>0.970760</td>\n",
       "      <td>0.153061</td>\n",
       "    </tr>\n",
       "    <tr>\n",
       "      <th>0.7</th>\n",
       "      <td>0.785714</td>\n",
       "      <td>0.011696</td>\n",
       "      <td>0.988304</td>\n",
       "      <td>0.214286</td>\n",
       "    </tr>\n",
       "    <tr>\n",
       "      <th>0.8</th>\n",
       "      <td>0.734694</td>\n",
       "      <td>0.005848</td>\n",
       "      <td>0.994152</td>\n",
       "      <td>0.265306</td>\n",
       "    </tr>\n",
       "    <tr>\n",
       "      <th>0.9</th>\n",
       "      <td>0.714286</td>\n",
       "      <td>0.000000</td>\n",
       "      <td>1.000000</td>\n",
       "      <td>0.285714</td>\n",
       "    </tr>\n",
       "    <tr>\n",
       "      <th>1.0</th>\n",
       "      <td>0.000000</td>\n",
       "      <td>0.000000</td>\n",
       "      <td>1.000000</td>\n",
       "      <td>1.000000</td>\n",
       "    </tr>\n",
       "  </tbody>\n",
       "</table>\n",
       "</div>"
      ],
      "text/plain": [
       "            0         1         2         3\n",
       "t                                          \n",
       "0.0  1.000000  1.000000  0.000000  0.000000\n",
       "0.1  0.979592  0.584795  0.415205  0.020408\n",
       "0.2  0.959184  0.216374  0.783626  0.040816\n",
       "0.3  0.908163  0.105263  0.894737  0.091837\n",
       "0.4  0.887755  0.058480  0.941520  0.112245\n",
       "0.5  0.857143  0.040936  0.959064  0.142857\n",
       "0.6  0.846939  0.029240  0.970760  0.153061\n",
       "0.7  0.785714  0.011696  0.988304  0.214286\n",
       "0.8  0.734694  0.005848  0.994152  0.265306\n",
       "0.9  0.714286  0.000000  1.000000  0.285714\n",
       "1.0  0.000000  0.000000  1.000000  1.000000"
      ]
     },
     "execution_count": 20,
     "metadata": {},
     "output_type": "execute_result"
    }
   ],
   "source": [
    "TPR,FPR,TNR,FNR = [],[],[],[]\n",
    "for t in threshold:    \n",
    "    temp = result\n",
    "    pred = [0 if y <= t else 1 for y in temp]\n",
    "    TP = 0\n",
    "    FP = 0\n",
    "    for i in range(X_test.shape[0]):\n",
    "        if pred[i] == y_test[i] == 1:\n",
    "            TP += 1\n",
    "        if pred[i] == 1 and y_test[i] != pred[i]:\n",
    "            FP +=1\n",
    "    TPR.append(TP/NofP)\n",
    "    FPR.append(FP/NofN)\n",
    "    TNR.append(1 - FP/NofN)\n",
    "    FNR.append(1 - TP/NofP)\n",
    "\n",
    "TPR,FPR,TNR,FNR = pd.Series(TPR),pd.Series(FPR),pd.Series(TNR),pd.Series(FNR)\n",
    "\n",
    "performance_table = pd.concat([TPR,FPR,TNR,FNR],axis=1)\n",
    "performance_table.rename(columns = {0:'TPR',1:'FPR',2:'TNR',3:'FNR'})\n",
    "performance_table['t'] = threshold\n",
    "performance_table.set_index('t')"
   ]
  }
 ],
 "metadata": {
  "kernelspec": {
   "display_name": "Python 3",
   "language": "python",
   "name": "python3"
  },
  "language_info": {
   "codemirror_mode": {
    "name": "ipython",
    "version": 3
   },
   "file_extension": ".py",
   "mimetype": "text/x-python",
   "name": "python",
   "nbconvert_exporter": "python",
   "pygments_lexer": "ipython3",
   "version": "3.7.6"
  }
 },
 "nbformat": 4,
 "nbformat_minor": 4
}
