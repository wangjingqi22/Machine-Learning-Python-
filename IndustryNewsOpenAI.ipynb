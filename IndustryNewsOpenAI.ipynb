{
 "cells": [
  {
   "cell_type": "code",
   "execution_count": 1,
   "metadata": {},
   "outputs": [
    {
     "name": "stdout",
     "output_type": "stream",
     "text": [
      "Requirement already satisfied: openai in /Users/wjq/opt/anaconda3/lib/python3.7/site-packages (0.27.4)\n",
      "Requirement already satisfied: requests>=2.20 in /Users/wjq/opt/anaconda3/lib/python3.7/site-packages (from openai) (2.22.0)\n",
      "Requirement already satisfied: aiohttp in /Users/wjq/opt/anaconda3/lib/python3.7/site-packages (from openai) (3.8.4)\n",
      "Requirement already satisfied: tqdm in /Users/wjq/opt/anaconda3/lib/python3.7/site-packages (from openai) (4.42.1)\n",
      "Requirement already satisfied: typing-extensions in /Users/wjq/opt/anaconda3/lib/python3.7/site-packages (from openai) (4.4.0)\n",
      "Requirement already satisfied: urllib3!=1.25.0,!=1.25.1,<1.26,>=1.21.1 in /Users/wjq/opt/anaconda3/lib/python3.7/site-packages (from requests>=2.20->openai) (1.25.8)\n",
      "Requirement already satisfied: certifi>=2017.4.17 in /Users/wjq/opt/anaconda3/lib/python3.7/site-packages (from requests>=2.20->openai) (2021.5.30)\n",
      "Requirement already satisfied: idna<2.9,>=2.5 in /Users/wjq/opt/anaconda3/lib/python3.7/site-packages (from requests>=2.20->openai) (2.8)\n",
      "Requirement already satisfied: chardet<3.1.0,>=3.0.2 in /Users/wjq/opt/anaconda3/lib/python3.7/site-packages (from requests>=2.20->openai) (3.0.4)\n",
      "Requirement already satisfied: multidict<7.0,>=4.5 in /Users/wjq/opt/anaconda3/lib/python3.7/site-packages (from aiohttp->openai) (6.0.4)\n",
      "Requirement already satisfied: async-timeout<5.0,>=4.0.0a3 in /Users/wjq/opt/anaconda3/lib/python3.7/site-packages (from aiohttp->openai) (4.0.2)\n",
      "Requirement already satisfied: charset-normalizer<4.0,>=2.0 in /Users/wjq/opt/anaconda3/lib/python3.7/site-packages (from aiohttp->openai) (3.1.0)\n",
      "Requirement already satisfied: frozenlist>=1.1.1 in /Users/wjq/opt/anaconda3/lib/python3.7/site-packages (from aiohttp->openai) (1.3.3)\n",
      "Requirement already satisfied: yarl<2.0,>=1.0 in /Users/wjq/opt/anaconda3/lib/python3.7/site-packages (from aiohttp->openai) (1.8.2)\n",
      "Requirement already satisfied: asynctest==0.13.0 in /Users/wjq/opt/anaconda3/lib/python3.7/site-packages (from aiohttp->openai) (0.13.0)\n",
      "Requirement already satisfied: aiosignal>=1.1.2 in /Users/wjq/opt/anaconda3/lib/python3.7/site-packages (from aiohttp->openai) (1.3.1)\n",
      "Requirement already satisfied: attrs>=17.3.0 in /Users/wjq/opt/anaconda3/lib/python3.7/site-packages (from aiohttp->openai) (22.2.0)\n",
      "\n",
      "\u001b[1m[\u001b[0m\u001b[34;49mnotice\u001b[0m\u001b[1;39;49m]\u001b[0m\u001b[39;49m A new release of pip is available: \u001b[0m\u001b[31;49m23.0.1\u001b[0m\u001b[39;49m -> \u001b[0m\u001b[32;49m23.2.1\u001b[0m\n",
      "\u001b[1m[\u001b[0m\u001b[34;49mnotice\u001b[0m\u001b[1;39;49m]\u001b[0m\u001b[39;49m To update, run: \u001b[0m\u001b[32;49mpip install --upgrade pip\u001b[0m\n",
      "Requirement already satisfied: requests in /Users/wjq/opt/anaconda3/lib/python3.7/site-packages (2.22.0)\n",
      "Requirement already satisfied: chardet<3.1.0,>=3.0.2 in /Users/wjq/opt/anaconda3/lib/python3.7/site-packages (from requests) (3.0.4)\n",
      "Requirement already satisfied: idna<2.9,>=2.5 in /Users/wjq/opt/anaconda3/lib/python3.7/site-packages (from requests) (2.8)\n",
      "Requirement already satisfied: urllib3!=1.25.0,!=1.25.1,<1.26,>=1.21.1 in /Users/wjq/opt/anaconda3/lib/python3.7/site-packages (from requests) (1.25.8)\n",
      "Requirement already satisfied: certifi>=2017.4.17 in /Users/wjq/opt/anaconda3/lib/python3.7/site-packages (from requests) (2021.5.30)\n",
      "\n",
      "\u001b[1m[\u001b[0m\u001b[34;49mnotice\u001b[0m\u001b[1;39;49m]\u001b[0m\u001b[39;49m A new release of pip is available: \u001b[0m\u001b[31;49m23.0.1\u001b[0m\u001b[39;49m -> \u001b[0m\u001b[32;49m23.2.1\u001b[0m\n",
      "\u001b[1m[\u001b[0m\u001b[34;49mnotice\u001b[0m\u001b[1;39;49m]\u001b[0m\u001b[39;49m To update, run: \u001b[0m\u001b[32;49mpip install --upgrade pip\u001b[0m\n"
     ]
    }
   ],
   "source": [
    "!pip install openai\n",
    "!pip install requests"
   ]
  },
  {
   "cell_type": "code",
   "execution_count": 1,
   "metadata": {},
   "outputs": [],
   "source": [
    "import pandas as pd\n",
    "import csv\n",
    "import os\n",
    "from googletrans import Translator\n",
    "from datetime import datetime\n",
    "import codecs\n",
    "import openai\n",
    "import requests\n",
    "import textwrap\n",
    "import re\n",
    "import time"
   ]
  },
  {
   "cell_type": "code",
   "execution_count": 2,
   "metadata": {},
   "outputs": [],
   "source": [
    "def remove_intro(sentence):\n",
    "    return re.sub(r'^(.*?我.*?\\s|谢谢。\\s*)', '', sentence)"
   ]
  },
  {
   "cell_type": "code",
   "execution_count": 3,
   "metadata": {},
   "outputs": [],
   "source": [
    "# Translate the title\n",
    "def translate_title(url):\n",
    "    translated_title = openai.Completion.create(\n",
    "        engine=\"text-davinci-002\", #enough for translation, faster speed\n",
    "        prompt=f\"Here is the title for a piece of news: \\n{url}\\n Please translate it to Chinese\",\n",
    "        max_tokens=100, n=1, stop=None, temperature=0.5,)\n",
    "    # set temperature higher for creative results\n",
    "    translated_title_text = translated_title.choices[0].text.strip()\n",
    "    translated_title_text = re.sub(r\"^[^\\w\\d]+\", \"\", translated_title_text)\n",
    "    \n",
    "    return translated_title_text\n",
    "\n",
    "# Provide a Summary in Chinese\n",
    "def summarize_and_translate(url):\n",
    "    summary = openai.Completion.create(\n",
    "        engine=\"text-davinci-003\", #3 has better performance in summarizing\n",
    "        prompt=f\"Here is the url for a piece of news: \\n{url}\\nPlease summarize it to a paragraph of Chinese within 100 word limit. If you can't access the content, please output <can't access>\"\n",
    "        max_tokens=1000, n=1, stop=None, temperature=0.5,)\n",
    "    \n",
    "    summary_text = summary.choices[0].text.strip()\n",
    "    summary_text = re.sub(r\"^[^\\w\\d]+\", \"\", summary_text)\n",
    "\n",
    "    return summary_text\n",
    "\n",
    "def main(df):\n",
    "    wrapper = textwrap.TextWrapper(width=80)\n",
    "    for i in range(len(df)):      \n",
    "        title = translate_title(df['Headline'].iloc[i])\n",
    "        df['Headline'].iloc[i] =  df['Headline'].iloc[i] + ' ' + wrapper.fill(title)\n",
    "        \n",
    "        summary = summarize_and_translate(df['URL'].iloc[i])\n",
    "        \n",
    "        tmp = re.sub(r'^[^\\w]*', '', df['Hit Sentence'].iloc[i])\n",
    "        tmp = tmp[0].upper() + tmp[1:]\n",
    "        df['Hit Sentence'].iloc[i] = tmp + ' ' + remove_intro(wrapper.fill(summary))\n",
    "\n",
    "        print(i,\"\\nTitle in simplified Chinese:\")\n",
    "        print(wrapper.fill(title))\n",
    "\n",
    "        print(\"\\nSummary in simplified Chinese:\")\n",
    "        print(wrapper.fill(summary))"
   ]
  },
  {
   "cell_type": "code",
   "execution_count": 4,
   "metadata": {},
   "outputs": [],
   "source": [
    "pd.set_option('display.max_columns', None)  # Show all columns\n",
    "pd.set_option('display.max_rows', None)  # Show all rows\n",
    "pd.set_option('display.width', None)  # Auto-detect the screen width\n",
    "pd.set_option('display.max_colwidth', None) "
   ]
  },
  {
   "cell_type": "code",
   "execution_count": 5,
   "metadata": {},
   "outputs": [],
   "source": [
    "df1 = pd.read_csv(\"~/Downloads/DataSource1 - Nov 29, 2023 - 4 49 28 PM.csv\", sep=\"\\t\", encoding=\"UTF-16\")\n",
    "df2 = pd.read_csv(\"~/Downloads/DataSource2 - Nov 29, 2023 - 4 48 57 PM.csv\", sep=\"\\t\", encoding=\"UTF-16\")"
   ]
  },
  {
   "cell_type": "code",
   "execution_count": 6,
   "metadata": {},
   "outputs": [],
   "source": [
    "df = pd.concat([df1, df2])"
   ]
  },
  {
   "cell_type": "code",
   "execution_count": 7,
   "metadata": {},
   "outputs": [
    {
     "data": {
      "text/plain": [
       "(901, 49)"
      ]
     },
     "execution_count": 7,
     "metadata": {},
     "output_type": "execute_result"
    }
   ],
   "source": [
    "df.shape"
   ]
  },
  {
   "cell_type": "code",
   "execution_count": 8,
   "metadata": {},
   "outputs": [],
   "source": [
    "# drop duplicate columns before translation to save time\n",
    "df = df.drop_duplicates(subset=['Hit Sentence'], ignore_index = True)\n",
    "df = df.drop_duplicates(subset=['Headline'], ignore_index = True)"
   ]
  },
  {
   "cell_type": "code",
   "execution_count": 9,
   "metadata": {},
   "outputs": [
    {
     "data": {
      "text/plain": [
       "(506, 49)"
      ]
     },
     "execution_count": 9,
     "metadata": {},
     "output_type": "execute_result"
    }
   ],
   "source": [
    "df.shape"
   ]
  },
  {
   "cell_type": "code",
   "execution_count": 1,
   "metadata": {},
   "outputs": [
    {
     "ename": "NameError",
     "evalue": "name 'df' is not defined",
     "output_type": "error",
     "traceback": [
      "\u001b[0;31m---------------------------------------------------------------------------\u001b[0m",
      "\u001b[0;31mNameError\u001b[0m                                 Traceback (most recent call last)",
      "\u001b[0;32m<ipython-input-1-a7e0cdf46d6c>\u001b[0m in \u001b[0;36m<module>\u001b[0;34m\u001b[0m\n\u001b[1;32m      3\u001b[0m     \u001b[0;32mreturn\u001b[0m \u001b[0mdt_object\u001b[0m\u001b[0;34m.\u001b[0m\u001b[0mstrftime\u001b[0m\u001b[0;34m(\u001b[0m\u001b[0;34m'%Y/%m/%d'\u001b[0m\u001b[0;34m)\u001b[0m\u001b[0;34m\u001b[0m\u001b[0;34m\u001b[0m\u001b[0m\n\u001b[1;32m      4\u001b[0m \u001b[0;34m\u001b[0m\u001b[0m\n\u001b[0;32m----> 5\u001b[0;31m \u001b[0mdf\u001b[0m\u001b[0;34m[\u001b[0m\u001b[0;34m'Date'\u001b[0m\u001b[0;34m]\u001b[0m \u001b[0;34m=\u001b[0m \u001b[0mdf\u001b[0m\u001b[0;34m[\u001b[0m\u001b[0;34m'Date'\u001b[0m\u001b[0;34m]\u001b[0m\u001b[0;34m.\u001b[0m\u001b[0mapply\u001b[0m\u001b[0;34m(\u001b[0m\u001b[0mconvert_date_format\u001b[0m\u001b[0;34m)\u001b[0m\u001b[0;34m\u001b[0m\u001b[0;34m\u001b[0m\u001b[0m\n\u001b[0m",
      "\u001b[0;31mNameError\u001b[0m: name 'df' is not defined"
     ]
    }
   ],
   "source": [
    "# below is to format the file to the output I need\n",
    "def convert_date_format(date_str):\n",
    "    dt_object = datetime.strptime(date_str, \"%d-%b-%Y %I:%M%p\")\n",
    "    return dt_object.strftime('%Y/%m/%d')\n",
    "\n",
    "df['Date'] = df['Date'].apply(convert_date_format)"
   ]
  },
  {
   "cell_type": "code",
   "execution_count": 11,
   "metadata": {},
   "outputs": [],
   "source": [
    "today = datetime.today()\n",
    "# Format the date (e.g., '2023-08-10')\n",
    "final_name = today.strftime('%Y-%m-%d')\n",
    "df['作者'] = ''"
   ]
  },
  {
   "cell_type": "code",
   "execution_count": 12,
   "metadata": {},
   "outputs": [
    {
     "name": "stderr",
     "output_type": "stream",
     "text": [
      "/Users/wjq/opt/anaconda3/lib/python3.7/site-packages/ipykernel_launcher.py:3: SettingWithCopyWarning: \n",
      "A value is trying to be set on a copy of a slice from a DataFrame.\n",
      "Try using .loc[row_indexer,col_indexer] = value instead\n",
      "\n",
      "See the caveats in the documentation: https://pandas.pydata.org/pandas-docs/stable/user_guide/indexing.html#returning-a-view-versus-a-copy\n",
      "  This is separate from the ipykernel package so we can avoid doing imports until\n"
     ]
    }
   ],
   "source": [
    "# create the file for google translate\n",
    "cols = df[['Headline', 'Hit Sentence']]\n",
    "cols['index'] = cols.index\n",
    "cols.to_excel(f'~/Downloads/translate{final_name}.xlsx', index=False)"
   ]
  },
  {
   "cell_type": "markdown",
   "metadata": {},
   "source": [
    "# ****google translate here + select news needs + save translated file"
   ]
  },
  {
   "cell_type": "code",
   "execution_count": 13,
   "metadata": {},
   "outputs": [],
   "source": [
    "selected_urls = df.iloc[[\n",
    "1,\n",
    "2,\n",
    "37,\n",
    "38,\n",
    "45,\n",
    "47,\n",
    "53,\n",
    "162,\n",
    "184,\n",
    "225,\n",
    "263,\n",
    "395,\n",
    "413,\n",
    "416,\n",
    "440\n",
    "], [1,4,2,5,7,39,0]]"
   ]
  },
  {
   "cell_type": "code",
   "execution_count": 14,
   "metadata": {},
   "outputs": [
    {
     "name": "stdout",
     "output_type": "stream",
     "text": [
      "0 \n",
      "Title in simplified Chinese:\n",
      "台湾特斯拉供应商豪田公司正在重新调整其供应链，并将在美国建立首个工厂。\n",
      "\n",
      "Summary in simplified Chinese:\n",
      "我会给你提供文字内容。  台湾特斯拉供应商Hota正在重新调整其供应链，以满足美国工厂的需求。Hota表示，他们正在加大对美国市场的投入，以满足特斯拉在美国的生\n",
      "产需求。这一调整将使Hota可以更好地满足全球市场的需求，并有助于加强与特斯拉的合作关系。Hota表示，他们正在寻求更多资源来支持特斯拉在美国的生产，并将继续努\n",
      "力满足全球客户的需求。\n"
     ]
    },
    {
     "name": "stderr",
     "output_type": "stream",
     "text": [
      "/Users/wjq/opt/anaconda3/lib/python3.7/site-packages/pandas/core/indexing.py:1637: SettingWithCopyWarning: \n",
      "A value is trying to be set on a copy of a slice from a DataFrame\n",
      "\n",
      "See the caveats in the documentation: https://pandas.pydata.org/pandas-docs/stable/user_guide/indexing.html#returning-a-view-versus-a-copy\n",
      "  self._setitem_single_block(indexer, value, name)\n"
     ]
    },
    {
     "name": "stdout",
     "output_type": "stream",
     "text": [
      "1 \n",
      "Title in simplified Chinese:\n",
      "特斯拉与丰田的大战：决定汽车未来的巨大对决\n",
      "\n",
      "Summary in simplified Chinese:\n",
      "来源  Tesla和Toyota之间将发生一场自动驾驶的未来之战，据《华尔街日报》报道，两家公司正在加紧研发自动驾驶技术，争夺市场份额。Tesla正在推出由自动\n",
      "驾驶软件驱动的全新汽车，而Toyota则将继续投入大量资金，用于开发更加安全可靠的自动驾驶系统。两家公司的竞争将对未来汽车行业产生重大影响，并且可能会改变消费者\n",
      "的购买习惯。\n",
      "2 \n",
      "Title in simplified Chinese:\n",
      "Sportage仍然位居榜首，这是全新的Picanto：“更好的外观，理想的家庭车”\n",
      "\n",
      "Summary in simplified Chinese:\n",
      "我会尝试帮你翻译。  近日，韩国汽车制造商Kia发布了其新款车型Sportage的最新消息，该车型仍然是市场上的领头羊。此外，Kia还推出了新款车型Picant\n",
      "o，它的外观更加精致，是家庭购车的首选。Picanto的内饰和安全性能也有了很大的提升，更加适合家庭使用。Kia公司表示，新款Picanto将会为消费者带来更好\n",
      "的体验，让他们拥有更安全、更舒适的出行体验。\n",
      "3 \n",
      "Title in simplified Chinese:\n",
      "梅赛德斯EQS SUV是否将来会由不来梅生产？\n",
      "\n",
      "Summary in simplified Chinese:\n",
      "我会提供翻译  据报道，梅赛德斯-奔驰（Mercedes-Benz）正计划在其布雷梅恩（Bremen）工厂生产其未来的全电动SUV车型——EQS。梅赛德斯-\n",
      "奔驰计划在2023年推出EQS，并将其纳入其布雷梅恩工厂的生产线。该工厂目前正在生产梅赛德斯GLC和GLC\n",
      "Coupe车型，并将在2022年推出梅赛德斯EQA车型。梅赛德斯-\n",
      "奔驰表示，EQS将是其未来的旗舰SUV，其将采用全新的架构，并将采用全新的技术，以满足未来消费者的需求。\n",
      "4 \n",
      "Title in simplified Chinese:\n",
      "行业领袖呼吁政府提供激励措施来帮助私人购买电动汽车。\n",
      "\n",
      "Summary in simplified Chinese:\n",
      "我会帮助你。  这则新闻报道了业界高管呼吁政府提供购买电动汽车的激励措施，以帮助私人购买者。他们认为，政府应该提供更多的激励，以鼓励更多的私人购买者购买电动汽车\n",
      "，并且这些激励应该不仅限于新车购买者，还应该扩展到二手车购买者。此外，他们还建议政府应该提供有助于购买电动汽车的更多税收优惠，以及更多的基础设施建设，以支持电动\n",
      "汽车的使用。\n",
      "5 \n",
      "Title in simplified Chinese:\n",
      "梅赛德斯将旗舰EQS SUV的产量从美国转移到德国。\n",
      "\n",
      "Summary in simplified Chinese:\n",
      "据报道，梅赛德斯-奔驰计划将其EQS SUV电动车生产线搬往美国，以满足当地市场的需求。这款量产车辆将于2022年上市，届时将成为梅赛德斯-\n",
      "奔驰在美国销售的第一款电动车。梅赛德斯-奔驰表示，此举将有助于提高其在美国市场的竞争力，同时也将为美国消费者提供更多的电动车选择。\n",
      "6 \n",
      "Title in simplified Chinese:\n",
      "据展厅负责人透露，特斯拉Cybertruck的电池容量为123 kWh，这加剧了人们对其续航能力不足的担忧。\n",
      "\n",
      "Summary in simplified Chinese:\n",
      "们，我们将尽快帮您解决. Tesla Cybertruck的电池容量已被展厅负责人披露，为123\n",
      "kWh，进一步增加了人们对其续航里程不足的担忧。此外，该电池容量也比Tesla Model 3多出了40 kWh，但是它的重量也比Model\n",
      "3多出了1000磅，可能会影响它的续航里程。\n",
      "7 \n",
      "Title in simplified Chinese:\n",
      "吉利汽车与牛顿达成合作，共同研发电池换电技术\n",
      "\n",
      "Summary in simplified Chinese:\n",
      "我会给你提供替代链接  格力汽车和蔚来合作开发电池换电技术，以改善新能源汽车的使用体验。两家公司将共同研发一种可以更快更安全地替换电池的技术，以满足新能源汽车用\n",
      "户的需求，并且能够提高用户的满意度。这一技术将有助于提高新能源汽车的使用效率，同时也有助于减少汽车使用者的时间和成本支出。\n",
      "8 \n",
      "Title in simplified Chinese:\n",
      "Isuzu汽车公司将在富士沙工厂建立电动汽车研发和测试设施-朝2030年实现全线碳中和汽车的目标,并\n",
      "\n",
      "Summary in simplified Chinese:\n",
      "我会帮你解决。  日本伊苏马特汽车公司宣布，将在藤泽工厂建立一个电动汽车开发和测试设施，以支持其电动汽车业务的发展。新设施将在2022年完工，建成后可支持驾驶员\n",
      "安全测试、系统开发、技术认证和设备评估等功能。该公司表示，该设施将支持其电动汽车业务的发展，并将有助于提高安全性、可靠性和可持续性。\n",
      "9 \n",
      "Title in simplified Chinese:\n",
      "伦敦将获得更多超快充电桩\n",
      "\n",
      "Summary in simplified Chinese:\n",
      "我可以帮你查一下。  伦敦将拥有更多超快速充电站。伦敦的汽车充电网络将拥有更多超快速充电站，以满足不断增长的电动汽车需求。英国能源部（Department of\n",
      "Energy）宣布，将在全英国投资1.3亿英镑，用于建设超快速充电站，以支持未来的电动汽车需求。伦敦将拥有约200个超快速充电站，每个站可以支持多达6辆电动汽车\n",
      "同时充电，每辆车可在20分钟内完成充电。这些超快速充电站将为电动汽车用户提供更多的充电选择，让他们能够在短时间内完成充电，更加方便快捷。\n",
      "10 \n",
      "Title in simplified Chinese:\n",
      "比亚迪的FinDreams出口了300公斤的锂电池组\n",
      "\n",
      "Summary in simplified Chinese:\n",
      "我会帮你解决。  近日，中国汽车电池制造商比亚迪（BYD）和发电机厂商Findreams合作，首次通过空运出口了300公斤的动力锂电池组，这些电池组将用于欧洲的\n",
      "某个项目。比亚迪表示，此次出口的电池组具有高能量密度，可满足客户的高性能要求，并且可以提供更高的安全性，这将有助于提高用户体验。此外，比亚迪还表示，该电池组可以\n",
      "提供更高的稳定性和可靠性，以满足客户的需求。此次出口的电池组是比亚迪和Findreams合作的成果，标志着比亚迪及其合作伙伴在电池行业的进一步发展。\n",
      "11 \n",
      "Title in simplified Chinese:\n",
      "格伦核心公司计划在意大利境外建立试点电池回收厂\n",
      "\n",
      "Summary in simplified Chinese:\n",
      "我会帮助你。  格伦科尔（Glencore）公司计划在意大利境外建立一个试点电池回收厂，这将成为全球第一个电池回收厂，专门用于回收电池和电池废料。该厂将采用最先\n",
      "进的技术，将电池回收的金属、化学品、锂离子电池和其他可回收物资分开，以便将它们进行回收。此外，该厂将提供测试和分析服务，以帮助客户更好地了解电池的性能。这将有助\n",
      "于改善电池的可持续性，以及减少电池的环境影响。\n",
      "12 \n",
      "Title in simplified Chinese:\n",
      "CALB有望成为顶尖的电动汽车能源供应商\n",
      "\n",
      "Summary in simplified Chinese:\n",
      "近日，加利福尼亚能源公司（Calb）宣布将成为全球领先的电动汽车（EV）能源提供商。Calb计划投资数十亿美元，在全球范围内构建一个庞大的充电网络，以支持电动汽\n",
      "车的大规模使用。Calb表示，他们将在未来几年内在全球范围内投资数十亿美元，建设数千个充电站，以满足电动汽车的充电需求。此外，Calb还将投资数百万美元，开发用\n",
      "于EV的新型充电技术，以满足未来市场需求。Calb的这项投资将有助于推动电动汽车的普及，改善空气质量，减少碳排放，实现可持续发展。\n",
      "13 \n",
      "Title in simplified Chinese:\n",
      "白克斯利选择Ubitricity为100个充电点提供充电服务\n",
      "\n",
      "Summary in simplified Chinese:\n",
      "我会帮你查找。  伦敦贝克利市的 Ubitricity 公司将为该市提供100个电动车充电点。这些充电点将由城市管理机构 Bexley Council 提供，并\n",
      "将为当地的电动车提供充电服务。此外，该项目还将提供充电设备，以及安装、维护和运行服务。该项目是由英国政府提供资金支持的，旨在推动英国电动车充电网络的发展，以及改\n",
      "善电动车出行的环境。\n",
      "14 \n",
      "Title in simplified Chinese:\n",
      "Pozitive Energy和Landis+Gyr联手加速英国充电设施的部署\n",
      "\n",
      "Summary in simplified Chinese:\n",
      "我会帮你处理。  Pozitive Energy和Landisgyr联手推动英国电动汽车充电基础设施的部署。这项合作将为英国客户提供全面的充电解决方案，包括基础\n",
      "设施的设计、安装、运行和维护。Pozitive Energy是一家位于英国的可再生能源供应商，专注于提供可靠的、可持续的和可负担的能源服务。Landisgyr是\n",
      "一家全球性的能源管理公司，专注于提供能源和水行业的解决方案。两家公司的合作将加快英国电动汽车充电基础设施的部署，为客户提供更多可靠的充电解决方案。\n",
      "CPU times: user 276 ms, sys: 74.4 ms, total: 351 ms\n",
      "Wall time: 2min 42s\n"
     ]
    }
   ],
   "source": [
    "%%time\n",
    "openai.api_key = \"xxx\"\n",
    "main(selected_urls)"
   ]
  },
  {
   "cell_type": "code",
   "execution_count": 15,
   "metadata": {},
   "outputs": [],
   "source": [
    "# create the final file for generation\n",
    "title = pd.read_excel(\"~/Downloads/日报抬头1.xlsx\")\n",
    "column_names = title.columns.tolist()\n",
    "selected_urls.columns = column_names\n",
    "selected_urls.to_excel(f\"~/Downloads/EV_CAR - {final_name}.xlsx\", encoding='utf-16',index=False)"
   ]
  },
  {
   "cell_type": "markdown",
   "metadata": {},
   "source": [
    "# ****executive summary here"
   ]
  },
  {
   "cell_type": "code",
   "execution_count": 16,
   "metadata": {},
   "outputs": [
    {
     "ename": "KeyError",
     "evalue": "'链接'",
     "output_type": "error",
     "traceback": [
      "\u001b[0;31m---------------------------------------------------------------------------\u001b[0m",
      "\u001b[0;31mKeyError\u001b[0m                                  Traceback (most recent call last)",
      "\u001b[0;32m~/opt/anaconda3/lib/python3.7/site-packages/pandas/core/indexes/base.py\u001b[0m in \u001b[0;36mget_loc\u001b[0;34m(self, key, method, tolerance)\u001b[0m\n\u001b[1;32m   3079\u001b[0m             \u001b[0;32mtry\u001b[0m\u001b[0;34m:\u001b[0m\u001b[0;34m\u001b[0m\u001b[0;34m\u001b[0m\u001b[0m\n\u001b[0;32m-> 3080\u001b[0;31m                 \u001b[0;32mreturn\u001b[0m \u001b[0mself\u001b[0m\u001b[0;34m.\u001b[0m\u001b[0m_engine\u001b[0m\u001b[0;34m.\u001b[0m\u001b[0mget_loc\u001b[0m\u001b[0;34m(\u001b[0m\u001b[0mcasted_key\u001b[0m\u001b[0;34m)\u001b[0m\u001b[0;34m\u001b[0m\u001b[0;34m\u001b[0m\u001b[0m\n\u001b[0m\u001b[1;32m   3081\u001b[0m             \u001b[0;32mexcept\u001b[0m \u001b[0mKeyError\u001b[0m \u001b[0;32mas\u001b[0m \u001b[0merr\u001b[0m\u001b[0;34m:\u001b[0m\u001b[0;34m\u001b[0m\u001b[0;34m\u001b[0m\u001b[0m\n",
      "\u001b[0;32mpandas/_libs/index.pyx\u001b[0m in \u001b[0;36mpandas._libs.index.IndexEngine.get_loc\u001b[0;34m()\u001b[0m\n",
      "\u001b[0;32mpandas/_libs/index.pyx\u001b[0m in \u001b[0;36mpandas._libs.index.IndexEngine.get_loc\u001b[0;34m()\u001b[0m\n",
      "\u001b[0;32mpandas/_libs/hashtable_class_helper.pxi\u001b[0m in \u001b[0;36mpandas._libs.hashtable.PyObjectHashTable.get_item\u001b[0;34m()\u001b[0m\n",
      "\u001b[0;32mpandas/_libs/hashtable_class_helper.pxi\u001b[0m in \u001b[0;36mpandas._libs.hashtable.PyObjectHashTable.get_item\u001b[0;34m()\u001b[0m\n",
      "\u001b[0;31mKeyError\u001b[0m: '链接'",
      "\nThe above exception was the direct cause of the following exception:\n",
      "\u001b[0;31mKeyError\u001b[0m                                  Traceback (most recent call last)",
      "\u001b[0;32m<ipython-input-16-516b2ecde8d3>\u001b[0m in \u001b[0;36m<module>\u001b[0;34m\u001b[0m\n\u001b[1;32m      1\u001b[0m \u001b[0murl_all\u001b[0m \u001b[0;34m=\u001b[0m \u001b[0;34m''\u001b[0m\u001b[0;34m\u001b[0m\u001b[0;34m\u001b[0m\u001b[0m\n\u001b[0;32m----> 2\u001b[0;31m \u001b[0;32mfor\u001b[0m \u001b[0murl\u001b[0m \u001b[0;32min\u001b[0m \u001b[0mselected_urls\u001b[0m\u001b[0;34m[\u001b[0m\u001b[0;34m'链接'\u001b[0m\u001b[0;34m]\u001b[0m\u001b[0;34m:\u001b[0m\u001b[0;34m\u001b[0m\u001b[0;34m\u001b[0m\u001b[0m\n\u001b[0m\u001b[1;32m      3\u001b[0m     \u001b[0murl_all\u001b[0m \u001b[0;34m=\u001b[0m \u001b[0murl_all\u001b[0m \u001b[0;34m+\u001b[0m \u001b[0;34m'\\n'\u001b[0m \u001b[0;34m+\u001b[0m \u001b[0murl\u001b[0m\u001b[0;34m\u001b[0m\u001b[0;34m\u001b[0m\u001b[0m\n",
      "\u001b[0;32m~/opt/anaconda3/lib/python3.7/site-packages/pandas/core/frame.py\u001b[0m in \u001b[0;36m__getitem__\u001b[0;34m(self, key)\u001b[0m\n\u001b[1;32m   3022\u001b[0m             \u001b[0;32mif\u001b[0m \u001b[0mself\u001b[0m\u001b[0;34m.\u001b[0m\u001b[0mcolumns\u001b[0m\u001b[0;34m.\u001b[0m\u001b[0mnlevels\u001b[0m \u001b[0;34m>\u001b[0m \u001b[0;36m1\u001b[0m\u001b[0;34m:\u001b[0m\u001b[0;34m\u001b[0m\u001b[0;34m\u001b[0m\u001b[0m\n\u001b[1;32m   3023\u001b[0m                 \u001b[0;32mreturn\u001b[0m \u001b[0mself\u001b[0m\u001b[0;34m.\u001b[0m\u001b[0m_getitem_multilevel\u001b[0m\u001b[0;34m(\u001b[0m\u001b[0mkey\u001b[0m\u001b[0;34m)\u001b[0m\u001b[0;34m\u001b[0m\u001b[0;34m\u001b[0m\u001b[0m\n\u001b[0;32m-> 3024\u001b[0;31m             \u001b[0mindexer\u001b[0m \u001b[0;34m=\u001b[0m \u001b[0mself\u001b[0m\u001b[0;34m.\u001b[0m\u001b[0mcolumns\u001b[0m\u001b[0;34m.\u001b[0m\u001b[0mget_loc\u001b[0m\u001b[0;34m(\u001b[0m\u001b[0mkey\u001b[0m\u001b[0;34m)\u001b[0m\u001b[0;34m\u001b[0m\u001b[0;34m\u001b[0m\u001b[0m\n\u001b[0m\u001b[1;32m   3025\u001b[0m             \u001b[0;32mif\u001b[0m \u001b[0mis_integer\u001b[0m\u001b[0;34m(\u001b[0m\u001b[0mindexer\u001b[0m\u001b[0;34m)\u001b[0m\u001b[0;34m:\u001b[0m\u001b[0;34m\u001b[0m\u001b[0;34m\u001b[0m\u001b[0m\n\u001b[1;32m   3026\u001b[0m                 \u001b[0mindexer\u001b[0m \u001b[0;34m=\u001b[0m \u001b[0;34m[\u001b[0m\u001b[0mindexer\u001b[0m\u001b[0;34m]\u001b[0m\u001b[0;34m\u001b[0m\u001b[0;34m\u001b[0m\u001b[0m\n",
      "\u001b[0;32m~/opt/anaconda3/lib/python3.7/site-packages/pandas/core/indexes/base.py\u001b[0m in \u001b[0;36mget_loc\u001b[0;34m(self, key, method, tolerance)\u001b[0m\n\u001b[1;32m   3080\u001b[0m                 \u001b[0;32mreturn\u001b[0m \u001b[0mself\u001b[0m\u001b[0;34m.\u001b[0m\u001b[0m_engine\u001b[0m\u001b[0;34m.\u001b[0m\u001b[0mget_loc\u001b[0m\u001b[0;34m(\u001b[0m\u001b[0mcasted_key\u001b[0m\u001b[0;34m)\u001b[0m\u001b[0;34m\u001b[0m\u001b[0;34m\u001b[0m\u001b[0m\n\u001b[1;32m   3081\u001b[0m             \u001b[0;32mexcept\u001b[0m \u001b[0mKeyError\u001b[0m \u001b[0;32mas\u001b[0m \u001b[0merr\u001b[0m\u001b[0;34m:\u001b[0m\u001b[0;34m\u001b[0m\u001b[0;34m\u001b[0m\u001b[0m\n\u001b[0;32m-> 3082\u001b[0;31m                 \u001b[0;32mraise\u001b[0m \u001b[0mKeyError\u001b[0m\u001b[0;34m(\u001b[0m\u001b[0mkey\u001b[0m\u001b[0;34m)\u001b[0m \u001b[0;32mfrom\u001b[0m \u001b[0merr\u001b[0m\u001b[0;34m\u001b[0m\u001b[0;34m\u001b[0m\u001b[0m\n\u001b[0m\u001b[1;32m   3083\u001b[0m \u001b[0;34m\u001b[0m\u001b[0m\n\u001b[1;32m   3084\u001b[0m         \u001b[0;32mif\u001b[0m \u001b[0mtolerance\u001b[0m \u001b[0;32mis\u001b[0m \u001b[0;32mnot\u001b[0m \u001b[0;32mNone\u001b[0m\u001b[0;34m:\u001b[0m\u001b[0;34m\u001b[0m\u001b[0;34m\u001b[0m\u001b[0m\n",
      "\u001b[0;31mKeyError\u001b[0m: '链接'"
     ]
    }
   ],
   "source": [
    "url_all = ''\n",
    "for url in selected_urls['链接']:\n",
    "    url_all = url_all + '\\n' + url"
   ]
  },
  {
   "cell_type": "code",
   "execution_count": 219,
   "metadata": {},
   "outputs": [
    {
     "name": "stdout",
     "output_type": "stream",
     "text": [
      "\n",
      "http://darcyhitchcock.wordpress.com/2023/07/11/porsche-can-go-800-miles-on-a-charge/\n",
      "https://uk.style.yahoo.com/toyota-targets-europe-china-hydrogen-114111162.html\n",
      "https://www.phoneweek.co.uk/plans-for-uks-largest-electric-vehicle-rapid-charging-hub-revealed/\n",
      "https://greenfleet.net/news/11072023/instavolt-announces-plans-ev-rapid-charging-super-hub\n",
      "https://www.corriere.it/motori/news/anteprime/23_luglio_11/mazda-mx-30-r-ev-arriva-italia-crossover-che-si-trasforma-elettrico-ibrido-plug-in-41da4186-18f5-11ee-9831-52b9a1a1d955.shtml\n",
      "https://onlineev.com/electromin-to-launch-kingdomss-first-ev-ultra-fast-dc-charging-arab-news/\n",
      "https://cieonline.co.uk/molex-secures-large-scale-series-production-from-bmw-group-for-next-gen-electric-vehicle-class/\n",
      "https://globalrubbermarkets.com/2023/07/11/china-gallium-curbs-raise-chip-questions-for-future-ev-models/\n",
      "https://evmagz.com/zeekr-to-launch-two-electric-vehicle-models-in-israel/\n",
      "https://motor-news.space/2023/car-reviews/2024-mercedes-amg-eqe-suv-reshapes-the-definition-of-an-amg/\n",
      "https://www.marketscreener.com/news/latest/GM-follows-VW-in-cutting-China-car-prices--44302350/\n",
      "https://agenparl.eu/2023/07/10/province-launches-plan-to-power-ontarios-growth/\n",
      "https://automobilnews.eu/auto-news-lexus-responds-to-ev-price-wars-with-whopping-rz-discount/\n",
      "http://towingaustralia.wordpress.com/2023/07/11/audi-turns-cutesy-nsu-prinz-4-into-wild-ev/\n",
      "https://www.planetamotor-es.com/2023/07/los-primeros-prototipos-del-renault-5-ya-se-estan-fabricando-en-la-fabrica-secreta-de-la-marca/\n",
      "https://hy.bitcoinethereumnews.com/finance/bidens-electric-vehicle-push-is-doomed-to-failure-warn-carmakers/\n",
      "你是一个新闻主播需要快速播报关于电车公司的今日新闻。请以一个800个汉字以上的中文段落总结以上16个链接里的所有新闻，以下有三个要求：1.不要以’第一篇‘、’第二篇‘的句式开始新的句子，需要所有新闻自然连在一起成一段 2.需要涵盖电动车行业总体新闻动向以及这个行业被媒体关注最多的品牌及事件 3.提及这些新闻总体的情感是正向还是负向\n"
     ]
    }
   ],
   "source": [
    "print(f'{url_all}\\nYou are a news anchor who needs to quickly broadcast today\\'s news about electric car companies. Please summarize all the news from the above {len(selected_urls)} links in a Chinese paragraph of more than 800 characters, with the following three requirements: 1. Do not start new sentences with phrases like \\'the first article\\', \\'the second article\\'; all news should naturally connect into one paragraph. 2. The summary needs to cover the overall trends in the electric vehicle industry as well as the brands and events that have received the most media attention. 3. Mention whether the overall sentiment of these news stories is positive or negative')"
   ]
  },
  {
   "cell_type": "markdown",
   "metadata": {},
   "source": [
    "----------"
   ]
  },
  {
   "cell_type": "markdown",
   "metadata": {},
   "source": [
    "#### Event cluster analyses"
   ]
  },
  {
   "cell_type": "code",
   "execution_count": 17,
   "metadata": {},
   "outputs": [],
   "source": [
    "events = pd.read_csv(\"~/Downloads/230907raw.csv\", sep=\",\")"
   ]
  },
  {
   "cell_type": "code",
   "execution_count": 18,
   "metadata": {},
   "outputs": [],
   "source": [
    "events['count'] = events.groupby('hit_sentence_zh_clusterId')['hit_sentence'].transform('count')"
   ]
  },
  {
   "cell_type": "code",
   "execution_count": 19,
   "metadata": {},
   "outputs": [],
   "source": [
    "events = events.sort_values(by = 'count', ascending = False)"
   ]
  },
  {
   "cell_type": "code",
   "execution_count": 21,
   "metadata": {},
   "outputs": [],
   "source": [
    "# events.sort_values(by = 'count', ascending = False).groupby('count').head(5)"
   ]
  },
  {
   "cell_type": "code",
   "execution_count": 69,
   "metadata": {},
   "outputs": [],
   "source": [
    "# values = [67.0, 181.0, 135.0, 122.0, 92.0, 86.0, 114.0]  # Replace with your five different values\n",
    "\n",
    "# # Select rows where 'count' is in 'values'\n",
    "# events = events[events['count'].isin(values)]"
   ]
  },
  {
   "cell_type": "code",
   "execution_count": 22,
   "metadata": {},
   "outputs": [],
   "source": [
    "# first five\n",
    "events.loc[events['count'] == 1463.0, 'hit_sentence_zh_event'] = 'Model S 使用 Tesla 最新的自动驾驶软件 FSD v12 进行自动驾驶'\n",
    "events.loc[events['count'] == 677.0, 'hit_sentence_zh_event'] = '在售出 61,575 辆电动汽车并损失 45 亿美元后，福特首席执行官承认这些电动汽车很糟糕'\n",
    "events.loc[events['count'] == 385.0, 'hit_sentence_zh_event'] = 'EVgo 和亚马逊通过 Alexa 推出无缝电动汽车充电器导航体验'\n",
    "events.loc[events['count'] == 361.0, 'hit_sentence_zh_event'] = 'Stellantis 与 AGI 签署协议支持美国全国经销商电气化和电动汽车充电能力'"
   ]
  },
  {
   "cell_type": "code",
   "execution_count": 23,
   "metadata": {},
   "outputs": [],
   "source": [
    "events.loc[events['count'] == 1463.0, 'url'] = 'https://twitter.com/chiragkhutia/status/1695604939199037587'\n",
    "events.loc[events['count'] == 677.0, 'url'] = 'https://www.zerohedge.com/technology/ford-ceo-admits-reality-check-when-he-took-electric-f-150-truck-road-trip'\n",
    "events.loc[events['count'] == 385.0, 'url'] = 'https://markets.financialcontent.com/stocks/article/bizwire-2023-8-31-evgo-and-amazon-launch-seamless-ev-charger-navigation-experience-with-alexa'\n",
    "events.loc[events['count'] == 361.0, 'url'] = 'https://www.ky3.com/prnewswire/2023/08/23/stellantis-completes-agreement-with-agi-support-national-us-dealership-electrification-ev-charging-capabilities/'"
   ]
  },
  {
   "cell_type": "code",
   "execution_count": 24,
   "metadata": {},
   "outputs": [],
   "source": [
    "# concat the new df and save to excel\n",
    "counts = [1463.0, 677.0, 385.0, 361.0]\n",
    "\n",
    "# Create an empty DataFrame to store the results\n",
    "selected_events = pd.DataFrame()\n",
    "\n",
    "# Loop over the counts and append the selected rows to the new DataFrame\n",
    "for count in counts:\n",
    "    selected_rows = events[events['count'] == count]\n",
    "    selected_events = pd.concat([selected_events, selected_rows])\n",
    "    \n",
    "selected_events = selected_events[['ID','hit_sentence_zh_event','url']]\n",
    "selected_events.to_excel(f\"~/Downloads/EV_event - {final_name}.xlsx\", encoding=\"UTF-16\", index=False)"
   ]
  },
  {
   "cell_type": "code",
   "execution_count": 25,
   "metadata": {},
   "outputs": [
    {
     "data": {
      "text/plain": [
       "hit_sentence_zh_event\n",
       "Stellantis 与 AGI 签署协议支持美国全国经销商电气化和电动汽车充电能力         361\n",
       "EVgo 和亚马逊通过 Alexa 推出无缝电动汽车充电器导航体验                  385\n",
       "在售出 61,575 辆电动汽车并损失 45 亿美元后，福特首席执行官承认这些电动汽车很糟糕     677\n",
       "Model S 使用 Tesla 最新的自动驾驶软件 FSD v12 进行自动驾驶         1463\n",
       "Name: ID, dtype: int64"
      ]
     },
     "execution_count": 25,
     "metadata": {},
     "output_type": "execute_result"
    }
   ],
   "source": [
    "# check the final output\n",
    "check_events = pd.read_excel(\"~/Downloads/EV_event - 2023-09-13.xlsx\")\n",
    "check_events.groupby('hit_sentence_zh_event')['ID'].count().sort_values()"
   ]
  },
  {
   "cell_type": "code",
   "execution_count": null,
   "metadata": {},
   "outputs": [],
   "source": []
  }
 ],
 "metadata": {
  "kernelspec": {
   "display_name": "Python 3",
   "language": "python",
   "name": "python3"
  },
  "language_info": {
   "codemirror_mode": {
    "name": "ipython",
    "version": 3
   },
   "file_extension": ".py",
   "mimetype": "text/x-python",
   "name": "python",
   "nbconvert_exporter": "python",
   "pygments_lexer": "ipython3",
   "version": "3.7.6"
  }
 },
 "nbformat": 4,
 "nbformat_minor": 4
}
