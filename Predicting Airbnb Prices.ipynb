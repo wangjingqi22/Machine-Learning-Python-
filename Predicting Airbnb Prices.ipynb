{
 "cells": [
  {
   "cell_type": "code",
   "execution_count": 25,
   "metadata": {},
   "outputs": [],
   "source": [
    "from gurobipy import *\n",
    "import numpy as np\n",
    "import pandas as pd\n",
    "import csv"
   ]
  },
  {
   "cell_type": "code",
   "execution_count": 26,
   "metadata": {},
   "outputs": [],
   "source": [
    "#Store all the variable names\n",
    "with open('AirbnbTrain.csv') as csvFile:\n",
    "    reader = csv.reader(csvFile)\n",
    "    variables = next(reader)\n",
    "    \n",
    "#Load training data    \n",
    "df_test = pd.read_csv(\"AirbnbTest.csv\")\n",
    "df_train = pd.read_csv(\"AirbnbTrain.csv\")"
   ]
  },
  {
   "cell_type": "code",
   "execution_count": 27,
   "metadata": {},
   "outputs": [
    {
     "data": {
      "text/html": [
       "<div>\n",
       "<style scoped>\n",
       "    .dataframe tbody tr th:only-of-type {\n",
       "        vertical-align: middle;\n",
       "    }\n",
       "\n",
       "    .dataframe tbody tr th {\n",
       "        vertical-align: top;\n",
       "    }\n",
       "\n",
       "    .dataframe thead th {\n",
       "        text-align: right;\n",
       "    }\n",
       "</style>\n",
       "<table border=\"1\" class=\"dataframe\">\n",
       "  <thead>\n",
       "    <tr style=\"text-align: right;\">\n",
       "      <th></th>\n",
       "      <th>latitude</th>\n",
       "      <th>longitude</th>\n",
       "      <th>Entire home</th>\n",
       "      <th>accommodates</th>\n",
       "      <th>bathrooms</th>\n",
       "      <th>bedrooms</th>\n",
       "      <th>beds</th>\n",
       "      <th>cleaning_fee</th>\n",
       "      <th>minimum_nights</th>\n",
       "      <th>number_of_reviews</th>\n",
       "      <th>review_scores_rating</th>\n",
       "      <th>instant_bookable</th>\n",
       "      <th>price</th>\n",
       "    </tr>\n",
       "  </thead>\n",
       "  <tbody>\n",
       "    <tr>\n",
       "      <th>0</th>\n",
       "      <td>34.100604</td>\n",
       "      <td>-118.341787</td>\n",
       "      <td>0</td>\n",
       "      <td>2</td>\n",
       "      <td>1.0</td>\n",
       "      <td>1</td>\n",
       "      <td>1</td>\n",
       "      <td>40</td>\n",
       "      <td>1</td>\n",
       "      <td>261</td>\n",
       "      <td>96</td>\n",
       "      <td>1</td>\n",
       "      <td>100</td>\n",
       "    </tr>\n",
       "    <tr>\n",
       "      <th>1</th>\n",
       "      <td>34.100607</td>\n",
       "      <td>-118.350583</td>\n",
       "      <td>1</td>\n",
       "      <td>8</td>\n",
       "      <td>2.0</td>\n",
       "      <td>2</td>\n",
       "      <td>2</td>\n",
       "      <td>100</td>\n",
       "      <td>2</td>\n",
       "      <td>10</td>\n",
       "      <td>98</td>\n",
       "      <td>0</td>\n",
       "      <td>300</td>\n",
       "    </tr>\n",
       "    <tr>\n",
       "      <th>2</th>\n",
       "      <td>34.100610</td>\n",
       "      <td>-118.347617</td>\n",
       "      <td>1</td>\n",
       "      <td>2</td>\n",
       "      <td>1.0</td>\n",
       "      <td>1</td>\n",
       "      <td>1</td>\n",
       "      <td>80</td>\n",
       "      <td>2</td>\n",
       "      <td>1</td>\n",
       "      <td>100</td>\n",
       "      <td>1</td>\n",
       "      <td>125</td>\n",
       "    </tr>\n",
       "  </tbody>\n",
       "</table>\n",
       "</div>"
      ],
      "text/plain": [
       "    latitude   longitude  Entire home  accommodates  bathrooms  bedrooms  \\\n",
       "0  34.100604 -118.341787            0             2        1.0         1   \n",
       "1  34.100607 -118.350583            1             8        2.0         2   \n",
       "2  34.100610 -118.347617            1             2        1.0         1   \n",
       "\n",
       "   beds  cleaning_fee  minimum_nights  number_of_reviews  \\\n",
       "0     1            40               1                261   \n",
       "1     2           100               2                 10   \n",
       "2     1            80               2                  1   \n",
       "\n",
       "   review_scores_rating  instant_bookable  price  \n",
       "0                    96                 1    100  \n",
       "1                    98                 0    300  \n",
       "2                   100                 1    125  "
      ]
     },
     "execution_count": 27,
     "metadata": {},
     "output_type": "execute_result"
    }
   ],
   "source": [
    "df_test.head(3)"
   ]
  },
  {
   "cell_type": "code",
   "execution_count": 28,
   "metadata": {},
   "outputs": [
    {
     "data": {
      "text/html": [
       "<div>\n",
       "<style scoped>\n",
       "    .dataframe tbody tr th:only-of-type {\n",
       "        vertical-align: middle;\n",
       "    }\n",
       "\n",
       "    .dataframe tbody tr th {\n",
       "        vertical-align: top;\n",
       "    }\n",
       "\n",
       "    .dataframe thead th {\n",
       "        text-align: right;\n",
       "    }\n",
       "</style>\n",
       "<table border=\"1\" class=\"dataframe\">\n",
       "  <thead>\n",
       "    <tr style=\"text-align: right;\">\n",
       "      <th></th>\n",
       "      <th>latitude</th>\n",
       "      <th>longitude</th>\n",
       "      <th>Entire home</th>\n",
       "      <th>accommodates</th>\n",
       "      <th>bathrooms</th>\n",
       "      <th>bedrooms</th>\n",
       "      <th>beds</th>\n",
       "      <th>cleaning_fee</th>\n",
       "      <th>minimum_nights</th>\n",
       "      <th>number_of_reviews</th>\n",
       "      <th>review_scores_rating</th>\n",
       "      <th>instant_bookable</th>\n",
       "      <th>price</th>\n",
       "    </tr>\n",
       "  </thead>\n",
       "  <tbody>\n",
       "    <tr>\n",
       "      <th>0</th>\n",
       "      <td>34.103701</td>\n",
       "      <td>-118.332241</td>\n",
       "      <td>1</td>\n",
       "      <td>13</td>\n",
       "      <td>2.0</td>\n",
       "      <td>3</td>\n",
       "      <td>2.0</td>\n",
       "      <td>150</td>\n",
       "      <td>2</td>\n",
       "      <td>1</td>\n",
       "      <td>100</td>\n",
       "      <td>1</td>\n",
       "      <td>350</td>\n",
       "    </tr>\n",
       "    <tr>\n",
       "      <th>1</th>\n",
       "      <td>34.099484</td>\n",
       "      <td>-118.331645</td>\n",
       "      <td>1</td>\n",
       "      <td>8</td>\n",
       "      <td>2.0</td>\n",
       "      <td>2</td>\n",
       "      <td>4.0</td>\n",
       "      <td>150</td>\n",
       "      <td>1</td>\n",
       "      <td>11</td>\n",
       "      <td>96</td>\n",
       "      <td>1</td>\n",
       "      <td>190</td>\n",
       "    </tr>\n",
       "    <tr>\n",
       "      <th>2</th>\n",
       "      <td>34.104321</td>\n",
       "      <td>-118.329662</td>\n",
       "      <td>1</td>\n",
       "      <td>4</td>\n",
       "      <td>1.0</td>\n",
       "      <td>0</td>\n",
       "      <td>1.0</td>\n",
       "      <td>55</td>\n",
       "      <td>1</td>\n",
       "      <td>1</td>\n",
       "      <td>80</td>\n",
       "      <td>0</td>\n",
       "      <td>85</td>\n",
       "    </tr>\n",
       "  </tbody>\n",
       "</table>\n",
       "</div>"
      ],
      "text/plain": [
       "    latitude   longitude  Entire home  accommodates  bathrooms  bedrooms  \\\n",
       "0  34.103701 -118.332241            1            13        2.0         3   \n",
       "1  34.099484 -118.331645            1             8        2.0         2   \n",
       "2  34.104321 -118.329662            1             4        1.0         0   \n",
       "\n",
       "   beds  cleaning_fee  minimum_nights  number_of_reviews  \\\n",
       "0   2.0           150               2                  1   \n",
       "1   4.0           150               1                 11   \n",
       "2   1.0            55               1                  1   \n",
       "\n",
       "   review_scores_rating  instant_bookable  price  \n",
       "0                   100                 1    350  \n",
       "1                    96                 1    190  \n",
       "2                    80                 0     85  "
      ]
     },
     "execution_count": 28,
     "metadata": {},
     "output_type": "execute_result"
    }
   ],
   "source": [
    "df_train.head(3)"
   ]
  },
  {
   "cell_type": "code",
   "execution_count": 29,
   "metadata": {},
   "outputs": [],
   "source": [
    "X_variable = variables[:-1]\n",
    "\n",
    "X_train = df_train.iloc[:, :-1]\n",
    "y_train = df_train.iloc[:,-1]\n",
    "X_test = df_test.iloc[:, :-1]\n",
    "y_test = df_test.iloc[:,-1]"
   ]
  },
  {
   "cell_type": "code",
   "execution_count": 30,
   "metadata": {},
   "outputs": [],
   "source": [
    "mod = Model()\n",
    "\n",
    "#Define Decision Variables\n",
    "beta = mod.addVars(X_train.shape[1])\n",
    "\n",
    "z = mod.addVars(X_train.shape[0])\n",
    "\n",
    "#Add constraints\n",
    "mod.addConstrs((z[i] >= y_train[i] - (sum(beta[j] * X_train.iloc[i,j] for j in range(X_train.shape[1])))) for i in range(X_train.shape[0]))\n",
    "\n",
    "mod.addConstrs((z[i] >= sum(beta[j] * X_train.iloc[i,j] for j in range(X_train.shape[1])) - y_train[i]) for i in range(X_train.shape[0]))\n",
    "\n",
    "# Create the objective function, and set it to be minimized\n",
    "mod.setObjective((1/X_train.shape[0])*sum(z[i] for i in range(X_train.shape[0])),GRB.MINIMIZE) "
   ]
  },
  {
   "cell_type": "code",
   "execution_count": 31,
   "metadata": {},
   "outputs": [
    {
     "name": "stdout",
     "output_type": "stream",
     "text": [
      "Gurobi Optimizer version 9.1.0 build v9.1.0rc0 (mac64)\n",
      "Thread count: 4 physical cores, 8 logical processors, using up to 8 threads\n",
      "Optimize a model with 0 rows, 1724 columns and 0 nonzeros\n",
      "Model fingerprint: 0x8f3fdf44\n",
      "Model has 3400 quadratic constraints\n",
      "Variable types: 1712 continuous, 12 integer (12 binary)\n",
      "Coefficient statistics:\n",
      "  Matrix range     [0e+00, 0e+00]\n",
      "  QMatrix range    [5e-01, 5e+02]\n",
      "  QLMatrix range   [1e+00, 1e+00]\n",
      "  Objective range  [6e-04, 6e-04]\n",
      "  Bounds range     [1e+00, 1e+00]\n",
      "  RHS range        [0e+00, 0e+00]\n",
      "  QRHS range       [1e+01, 2e+03]\n",
      "Presolve time: 0.15s\n",
      "Presolved: 3424 rows, 1760 columns, 41428 nonzeros\n",
      "Presolved model has 24 SOS constraint(s)\n",
      "Variable types: 1736 continuous, 24 integer (24 binary)\n",
      "\n",
      "Root relaxation: objective 3.644463e+01, 1419 iterations, 0.15 seconds\n",
      "\n",
      "    Nodes    |    Current Node    |     Objective Bounds      |     Work\n",
      " Expl Unexpl |  Obj  Depth IntInf | Incumbent    BestBd   Gap | It/Node Time\n",
      "\n",
      "     0     0   36.44463    0    9          -   36.44463      -     -    0s\n",
      "H    0     0                      36.4446304   36.44463  0.00%     -    0s\n",
      "     0     0   36.44463    0    9   36.44463   36.44463  0.00%     -    0s\n",
      "\n",
      "Explored 1 nodes (1419 simplex iterations) in 0.36 seconds\n",
      "Thread count was 8 (of 8 available processors)\n",
      "\n",
      "Solution count 1: 36.4446 \n",
      "\n",
      "Optimal solution found (tolerance 1.00e-04)\n",
      "Best objective 3.644463042083e+01, best bound 3.644463042083e+01, gap 0.0000%\n"
     ]
    }
   ],
   "source": [
    "################## MODEL II ##################\n",
    "mod = Model()\n",
    "\n",
    "#Define Decision Variables\n",
    "beta = mod.addVars(X_train.shape[1])\n",
    "\n",
    "z = mod.addVars(X_train.shape[0])\n",
    "\n",
    "w = mod.addVars(X_train.shape[1], vtype = GRB.BINARY)\n",
    "\n",
    "#Add constraints\n",
    "mod.addConstrs((z[i]>= y_train[i] - sum(beta[j]*X_train.iloc[i,j]* w[j] for j in range(X_train.shape[1]))) for i in range(X_train.shape[0]))\n",
    "\n",
    "mod.addConstrs((z[i] >= sum(beta[j] * X_train.iloc[i,j] * w[j]  for j in range(X_train.shape[1])) - y_train[i]) for i in range(X_train.shape[0]))\n",
    "\n",
    "# Create the objective function, and set it to be minimized\n",
    "mod.setObjective(1/X_train.shape[0]*sum(z[i] for i in range (X_train.shape[0])),GRB.MINIMIZE) \n",
    "\n",
    "mod.update()\n",
    "mod.optimize()"
   ]
  },
  {
   "cell_type": "code",
   "execution_count": 32,
   "metadata": {},
   "outputs": [
    {
     "name": "stdout",
     "output_type": "stream",
     "text": [
      "Solved to optimality\n",
      "latitude 319.992934368494\n",
      "longitude 92.59248291518554\n",
      "Entire home 36.88350246775536\n",
      "accommodates 9.921904281257916\n",
      "bathrooms 30.885153450264202\n",
      "bedrooms 20.081468198281296\n",
      "beds 0.0\n",
      "cleaning_fee 0.3135225045261489\n",
      "minimum_nights 0.0\n",
      "number_of_reviews 0.0\n",
      "review_scores_rating 0.26080203976446925\n",
      "instant_bookable 5.058599783436263\n",
      "Train Error for Model I is: 36.444630420827046\n"
     ]
    }
   ],
   "source": [
    "if mod.status == GRB.OPTIMAL:\n",
    "    print(\"Solved to optimality\")\n",
    "    \n",
    "beta_opt = [beta[j].x for j in range(X_train.shape[1])]\n",
    "\n",
    "for j in range(X_train.shape[1]):\n",
    "    print(f'{X_variable[j]}',beta_opt[j])\n",
    "\n",
    "opt_val = mod.objval\n",
    "print(\"Train Error for Model I is:\",opt_val)"
   ]
  },
  {
   "cell_type": "code",
   "execution_count": 33,
   "metadata": {},
   "outputs": [
    {
     "name": "stdout",
     "output_type": "stream",
     "text": [
      "Prediction Error for Model I is: 35.62719512642499\n"
     ]
    }
   ],
   "source": [
    "SAE = 1 / X_test.shape[0] * sum(abs(y_test[i] - sum(beta_opt[j] * X_test.iloc[i,j] for j in range(X_test.shape[1]))) for i in range(X_test.shape[0]))\n",
    "print(\"Prediction Error for Model I is:\", SAE)"
   ]
  },
  {
   "cell_type": "code",
   "execution_count": 34,
   "metadata": {},
   "outputs": [
    {
     "name": "stdout",
     "output_type": "stream",
     "text": [
      "Gurobi Optimizer version 9.1.0 build v9.1.0rc0 (mac64)\n",
      "Thread count: 4 physical cores, 8 logical processors, using up to 8 threads\n",
      "Optimize a model with 1 rows, 1724 columns and 12 nonzeros\n",
      "Model fingerprint: 0x33472bcf\n",
      "Model has 3400 quadratic constraints\n",
      "Variable types: 1712 continuous, 12 integer (12 binary)\n",
      "Coefficient statistics:\n",
      "  Matrix range     [1e+00, 1e+00]\n",
      "  QMatrix range    [5e-01, 5e+02]\n",
      "  QLMatrix range   [1e+00, 1e+00]\n",
      "  Objective range  [6e-04, 6e-04]\n",
      "  Bounds range     [1e+00, 1e+00]\n",
      "  RHS range        [3e+00, 3e+00]\n",
      "  QRHS range       [1e+01, 2e+03]\n",
      "\n",
      "MIP start from previous solve did not produce a new incumbent solution\n",
      "MIP start from previous solve violates constraint R0 by 9.000000000\n",
      "\n",
      "Found heuristic solution: objective 2.000000e+09\n",
      "Presolve added 822 rows and 409 columns\n",
      "Presolve time: 0.14s\n",
      "Presolved: 3421 rows, 2169 columns, 32974 nonzeros\n",
      "Presolved model has 24 SOS constraint(s)\n",
      "Variable types: 2145 continuous, 24 integer (24 binary)\n",
      "\n",
      "Root relaxation: objective 3.644463e+01, 2401 iterations, 0.23 seconds\n",
      "\n",
      "    Nodes    |    Current Node    |     Objective Bounds      |     Work\n",
      " Expl Unexpl |  Obj  Depth IntInf | Incumbent    BestBd   Gap | It/Node Time\n",
      "\n",
      "     0     0   36.44463    0    9 2.0000e+09   36.44463   100%     -    0s\n",
      "H    0     0                     144.9682353   36.44463  74.9%     -    0s\n",
      "     0     0   36.44463    0    9  144.96824   36.44463  74.9%     -    0s\n",
      "     0     2   36.44463    0    9  144.96824   36.44463  74.9%     -    0s\n",
      "*    7    10               3      48.1508047   36.44463  24.3%   124    0s\n",
      "*   15    16               4      42.4128450   36.47677  14.0%   166    0s\n",
      "*   20    18               4      39.2423529   36.47677  7.05%   170    0s\n",
      "*   39    11               6      38.3388235   37.42815  2.38%   137    1s\n",
      "\n",
      "Explored 59 nodes (8495 simplex iterations) in 1.16 seconds\n",
      "Thread count was 8 (of 8 available processors)\n",
      "\n",
      "Solution count 6: 38.3388 39.2424 42.4128 ... 2e+09\n",
      "\n",
      "Optimal solution found (tolerance 1.00e-04)\n",
      "Best objective 3.833882352941e+01, best bound 3.833882352941e+01, gap 0.0000%\n"
     ]
    }
   ],
   "source": [
    "################## MODEL II ##################\n",
    "#Add the binary constraint to only use 3 variables\n",
    "mod.addConstr(sum (w[j] for j in range(X_train.shape[1])) <= 3)\n",
    "mod.update()\n",
    "mod.optimize()"
   ]
  },
  {
   "cell_type": "code",
   "execution_count": 35,
   "metadata": {},
   "outputs": [
    {
     "name": "stdout",
     "output_type": "stream",
     "text": [
      "Solved to optimality\n",
      "Entire home 52.0\n",
      "accommodates 14.0\n",
      "bedrooms 32.0\n",
      "Train Error for Model II is: 38.33882352941181\n"
     ]
    }
   ],
   "source": [
    "if mod.status == GRB.OPTIMAL:\n",
    "    print(\"Solved to optimality\")\n",
    "    \n",
    "beta_opt = [beta[j].x for j in range(X_train.shape[1])]\n",
    "\n",
    "for j in range(X_train.shape[1]):\n",
    "    if beta_opt[j] > 0:\n",
    "        print(f'{X_variable[j]}',beta_opt[j])\n",
    "\n",
    "opt_val = mod.objval\n",
    "print(\"Train Error for Model II is:\",opt_val)"
   ]
  },
  {
   "cell_type": "code",
   "execution_count": 36,
   "metadata": {},
   "outputs": [
    {
     "name": "stdout",
     "output_type": "stream",
     "text": [
      "Prediction Error for Model II is: 37.73676680972818\n"
     ]
    }
   ],
   "source": [
    "SAE = 1 / X_test.shape[0] * sum(abs(y_test[i] - sum(beta_opt[j] * X_test.iloc[i,j] for j in range(X_test.shape[1]))) for i in range(X_test.shape[0]))\n",
    "print(\"Prediction Error for Model II is:\", SAE)"
   ]
  },
  {
   "cell_type": "code",
   "execution_count": 37,
   "metadata": {},
   "outputs": [
    {
     "name": "stdout",
     "output_type": "stream",
     "text": [
      "Gurobi Optimizer version 9.1.0 build v9.1.0rc0 (mac64)\n",
      "Thread count: 4 physical cores, 8 logical processors, using up to 8 threads\n",
      "Optimize a model with 2 rows, 1724 columns and 13 nonzeros\n",
      "Model fingerprint: 0x0545107f\n",
      "Model has 3400 quadratic constraints\n",
      "Variable types: 1712 continuous, 12 integer (12 binary)\n",
      "Coefficient statistics:\n",
      "  Matrix range     [1e+00, 1e+00]\n",
      "  QMatrix range    [5e-01, 5e+02]\n",
      "  QLMatrix range   [1e+00, 1e+00]\n",
      "  Objective range  [6e-04, 6e-04]\n",
      "  Bounds range     [1e+00, 1e+00]\n",
      "  RHS range        [1e+00, 3e+00]\n",
      "  QRHS range       [1e+01, 2e+03]\n",
      "\n",
      "MIP start from previous solve did not produce a new incumbent solution\n",
      "MIP start from previous solve violates constraint R1 by 1.000000000\n",
      "\n",
      "Presolve added 825 rows and 410 columns\n",
      "Presolve time: 0.13s\n",
      "Presolved: 3421 rows, 2167 columns, 32954 nonzeros\n",
      "Presolved model has 22 SOS constraint(s)\n",
      "Variable types: 2145 continuous, 22 integer (22 binary)\n",
      "Found heuristic solution: objective 60.5442647\n",
      "\n",
      "Root relaxation: objective 3.644463e+01, 2496 iterations, 0.22 seconds\n",
      "\n",
      "    Nodes    |    Current Node    |     Objective Bounds      |     Work\n",
      " Expl Unexpl |  Obj  Depth IntInf | Incumbent    BestBd   Gap | It/Node Time\n",
      "\n",
      "     0     0   36.44463    0    9   60.54426   36.44463  39.8%     -    0s\n",
      "     0     0   36.44463    0    9   60.54426   36.44463  39.8%     -    0s\n",
      "     0     2   36.44463    0    9   60.54426   36.44463  39.8%     -    0s\n",
      "*    3     6               2      48.6742700   36.44463  25.1%   202    0s\n",
      "*    8     6               3      41.7260588   36.47677  12.6%   168    0s\n",
      "*   11     8               4      40.3043694   36.47677  9.50%   190    0s\n",
      "*   18     8               4      40.0801471   37.57879  6.24%   207    0s\n",
      "\n",
      "Explored 31 nodes (6834 simplex iterations) in 0.98 seconds\n",
      "Thread count was 8 (of 8 available processors)\n",
      "\n",
      "Solution count 5: 40.0801 40.3044 41.7261 ... 60.5443\n",
      "\n",
      "Optimal solution found (tolerance 1.00e-04)\n",
      "Best objective 4.008014705882e+01, best bound 4.008014705882e+01, gap 0.0000%\n"
     ]
    }
   ],
   "source": [
    "################## MODEL III ##################\n",
    "#Add the constraint to make sure beds is used in the model\n",
    "mod.addConstr(w[X_variable.index('beds')] == 1)\n",
    "mod.update()\n",
    "mod.optimize()"
   ]
  },
  {
   "cell_type": "code",
   "execution_count": 38,
   "metadata": {},
   "outputs": [
    {
     "name": "stdout",
     "output_type": "stream",
     "text": [
      "Solved to optimality\n",
      "Entire home 67.875\n",
      "bedrooms 47.37499999999999\n",
      "beds 12.125000000000002\n",
      "Train Error for Model III is: 40.08014705882356\n"
     ]
    }
   ],
   "source": [
    "if mod.status == GRB.OPTIMAL:\n",
    "    print(\"Solved to optimality\")\n",
    "    \n",
    "beta_opt = [beta[j].x for j in range(X_train.shape[1])]\n",
    "\n",
    "for j in range(X_train.shape[1]):\n",
    "    if beta_opt[j] > 0:\n",
    "        print(f'{X_variable[j]}',beta_opt[j])\n",
    "\n",
    "opt_val = mod.objval\n",
    "print(\"Train Error for Model III is:\",opt_val)"
   ]
  },
  {
   "cell_type": "code",
   "execution_count": 39,
   "metadata": {},
   "outputs": [
    {
     "name": "stdout",
     "output_type": "stream",
     "text": [
      "Prediction Error for Model III is: 38.59960658082976\n"
     ]
    }
   ],
   "source": [
    "SAE = 1 / X_test.shape[0] * sum(abs(y_test[i] - sum(beta_opt[j] * X_test.iloc[i,j] for j in range(X_test.shape[1]))) for i in range(X_test.shape[0]))\n",
    "print(\"Prediction Error for Model III is:\", SAE)"
   ]
  },
  {
   "cell_type": "code",
   "execution_count": null,
   "metadata": {},
   "outputs": [],
   "source": []
  }
 ],
 "metadata": {
  "kernelspec": {
   "display_name": "Python 3",
   "language": "python",
   "name": "python3"
  },
  "language_info": {
   "codemirror_mode": {
    "name": "ipython",
    "version": 3
   },
   "file_extension": ".py",
   "mimetype": "text/x-python",
   "name": "python",
   "nbconvert_exporter": "python",
   "pygments_lexer": "ipython3",
   "version": "3.7.6"
  }
 },
 "nbformat": 4,
 "nbformat_minor": 4
}
