{
 "cells": [
  {
   "cell_type": "markdown",
   "metadata": {},
   "source": [
    "# Hotel revenue management"
   ]
  },
  {
   "cell_type": "code",
   "execution_count": 2,
   "metadata": {},
   "outputs": [],
   "source": [
    "import pandas as pd\n",
    "import numpy as np\n",
    "import warnings\n",
    "warnings.filterwarnings('ignore')"
   ]
  },
  {
   "cell_type": "code",
   "execution_count": 3,
   "metadata": {},
   "outputs": [],
   "source": [
    "hotel = pd.read_csv('hotel-probability.csv')"
   ]
  },
  {
   "cell_type": "code",
   "execution_count": 4,
   "metadata": {},
   "outputs": [],
   "source": [
    "hotel['forecast'] = hotel['probability'] * 540"
   ]
  },
  {
   "cell_type": "code",
   "execution_count": 5,
   "metadata": {},
   "outputs": [
    {
     "data": {
      "text/html": [
       "<div>\n",
       "<style scoped>\n",
       "    .dataframe tbody tr th:only-of-type {\n",
       "        vertical-align: middle;\n",
       "    }\n",
       "\n",
       "    .dataframe tbody tr th {\n",
       "        vertical-align: top;\n",
       "    }\n",
       "\n",
       "    .dataframe thead th {\n",
       "        text-align: right;\n",
       "    }\n",
       "</style>\n",
       "<table border=\"1\" class=\"dataframe\">\n",
       "  <thead>\n",
       "    <tr style=\"text-align: right;\">\n",
       "      <th></th>\n",
       "      <th>r</th>\n",
       "      <th>din</th>\n",
       "      <th>dout</th>\n",
       "      <th>probability</th>\n",
       "      <th>forecast</th>\n",
       "    </tr>\n",
       "  </thead>\n",
       "  <tbody>\n",
       "    <tr>\n",
       "      <th>0</th>\n",
       "      <td>Q</td>\n",
       "      <td>1</td>\n",
       "      <td>2</td>\n",
       "      <td>0.018519</td>\n",
       "      <td>10.0</td>\n",
       "    </tr>\n",
       "    <tr>\n",
       "      <th>1</th>\n",
       "      <td>Q</td>\n",
       "      <td>1</td>\n",
       "      <td>3</td>\n",
       "      <td>0.011111</td>\n",
       "      <td>6.0</td>\n",
       "    </tr>\n",
       "    <tr>\n",
       "      <th>2</th>\n",
       "      <td>Q</td>\n",
       "      <td>1</td>\n",
       "      <td>4</td>\n",
       "      <td>0.011111</td>\n",
       "      <td>6.0</td>\n",
       "    </tr>\n",
       "    <tr>\n",
       "      <th>3</th>\n",
       "      <td>Q</td>\n",
       "      <td>1</td>\n",
       "      <td>5</td>\n",
       "      <td>0.007407</td>\n",
       "      <td>4.0</td>\n",
       "    </tr>\n",
       "    <tr>\n",
       "      <th>4</th>\n",
       "      <td>Q</td>\n",
       "      <td>1</td>\n",
       "      <td>6</td>\n",
       "      <td>0.007407</td>\n",
       "      <td>4.0</td>\n",
       "    </tr>\n",
       "    <tr>\n",
       "      <th>...</th>\n",
       "      <td>...</td>\n",
       "      <td>...</td>\n",
       "      <td>...</td>\n",
       "      <td>...</td>\n",
       "      <td>...</td>\n",
       "    </tr>\n",
       "    <tr>\n",
       "      <th>79</th>\n",
       "      <td>C</td>\n",
       "      <td>5</td>\n",
       "      <td>7</td>\n",
       "      <td>0.003704</td>\n",
       "      <td>2.0</td>\n",
       "    </tr>\n",
       "    <tr>\n",
       "      <th>80</th>\n",
       "      <td>C</td>\n",
       "      <td>5</td>\n",
       "      <td>8</td>\n",
       "      <td>0.003704</td>\n",
       "      <td>2.0</td>\n",
       "    </tr>\n",
       "    <tr>\n",
       "      <th>81</th>\n",
       "      <td>C</td>\n",
       "      <td>6</td>\n",
       "      <td>7</td>\n",
       "      <td>0.003704</td>\n",
       "      <td>2.0</td>\n",
       "    </tr>\n",
       "    <tr>\n",
       "      <th>82</th>\n",
       "      <td>C</td>\n",
       "      <td>6</td>\n",
       "      <td>8</td>\n",
       "      <td>0.003704</td>\n",
       "      <td>2.0</td>\n",
       "    </tr>\n",
       "    <tr>\n",
       "      <th>83</th>\n",
       "      <td>C</td>\n",
       "      <td>7</td>\n",
       "      <td>8</td>\n",
       "      <td>0.000000</td>\n",
       "      <td>0.0</td>\n",
       "    </tr>\n",
       "  </tbody>\n",
       "</table>\n",
       "<p>84 rows × 5 columns</p>\n",
       "</div>"
      ],
      "text/plain": [
       "    r  din  dout  probability  forecast\n",
       "0   Q    1     2     0.018519      10.0\n",
       "1   Q    1     3     0.011111       6.0\n",
       "2   Q    1     4     0.011111       6.0\n",
       "3   Q    1     5     0.007407       4.0\n",
       "4   Q    1     6     0.007407       4.0\n",
       ".. ..  ...   ...          ...       ...\n",
       "79  C    5     7     0.003704       2.0\n",
       "80  C    5     8     0.003704       2.0\n",
       "81  C    6     7     0.003704       2.0\n",
       "82  C    6     8     0.003704       2.0\n",
       "83  C    7     8     0.000000       0.0\n",
       "\n",
       "[84 rows x 5 columns]"
      ]
     },
     "execution_count": 5,
     "metadata": {},
     "output_type": "execute_result"
    }
   ],
   "source": [
    "hotel"
   ]
  },
  {
   "cell_type": "markdown",
   "metadata": {},
   "source": [
    "# Part 1: Understanding the data\n",
    "### a)"
   ]
  },
  {
   "cell_type": "code",
   "execution_count": 6,
   "metadata": {},
   "outputs": [
    {
     "data": {
      "text/plain": [
       "0.3222222239999999"
      ]
     },
     "execution_count": 6,
     "metadata": {},
     "output_type": "execute_result"
    }
   ],
   "source": [
    "hotel[hotel['r'] == 'Q'].sum()['probability']"
   ]
  },
  {
   "cell_type": "markdown",
   "metadata": {},
   "source": [
    "### b)"
   ]
  },
  {
   "cell_type": "code",
   "execution_count": 7,
   "metadata": {},
   "outputs": [
    {
     "data": {
      "text/plain": [
       "0.014814815"
      ]
     },
     "execution_count": 7,
     "metadata": {},
     "output_type": "execute_result"
    }
   ],
   "source": [
    "hotel[(hotel['din'] == 4) & (hotel['dout'] == 7)].sum()['probability']"
   ]
  },
  {
   "cell_type": "markdown",
   "metadata": {},
   "source": [
    "### c)"
   ]
  },
  {
   "cell_type": "code",
   "execution_count": 8,
   "metadata": {},
   "outputs": [
    {
     "data": {
      "text/plain": [
       "0.259259247"
      ]
     },
     "execution_count": 8,
     "metadata": {},
     "output_type": "execute_result"
    }
   ],
   "source": [
    "1 - hotel.sum()['probability']"
   ]
  },
  {
   "cell_type": "markdown",
   "metadata": {},
   "source": [
    "### d)"
   ]
  },
  {
   "cell_type": "code",
   "execution_count": 32,
   "metadata": {},
   "outputs": [
    {
     "data": {
      "text/plain": [
       "78    6.0\n",
       "Name: probability, dtype: float64"
      ]
     },
     "execution_count": 32,
     "metadata": {},
     "output_type": "execute_result"
    }
   ],
   "source": [
    "hotel[(hotel['r'] == 'C') & (hotel['din'] == 5) & (hotel['dout'] == 6)]['probability'] * 540"
   ]
  },
  {
   "cell_type": "markdown",
   "metadata": {},
   "source": [
    "# Part 2: Determining an optimal static allocation\n",
    "### b)"
   ]
  },
  {
   "cell_type": "code",
   "execution_count": 10,
   "metadata": {},
   "outputs": [],
   "source": [
    "for i in range(1,9):\n",
    "    hotel[str(i)] = 0"
   ]
  },
  {
   "cell_type": "code",
   "execution_count": 11,
   "metadata": {},
   "outputs": [],
   "source": [
    "for i in range(hotel.shape[0]):\n",
    "    colin = hotel.iloc[i]['din']\n",
    "    colout = hotel.iloc[i]['dout']\n",
    "    for j in range(colin, colout):\n",
    "        hotel[str(j)][i] = 1"
   ]
  },
  {
   "cell_type": "code",
   "execution_count": 12,
   "metadata": {},
   "outputs": [],
   "source": [
    "hotel['rev'] = 0.0\n",
    "pricepernight = [[200, 200, 200, 230, 230, 230, 200, 200],\n",
    "                [250, 250, 250, 287.5, 287.5, 287.5, 250, 250],\n",
    "                [300, 300, 300, 345, 345, 345, 300, 300]]\n",
    "for i in range(hotel.shape[0]):\n",
    "    if hotel.iloc[i]['r'] == 'Q':\n",
    "        hotel['rev'][i] = sum(hotel.iloc[i, 5:13] * pricepernight[0])\n",
    "    elif hotel.iloc[i]['r'] == 'K':\n",
    "        hotel['rev'][i] = sum(hotel.iloc[i, 5:13] * pricepernight[1])\n",
    "    elif hotel.iloc[i]['r'] == 'C':\n",
    "        hotel['rev'][i] = sum(hotel.iloc[i, 5:13] * pricepernight[2])"
   ]
  },
  {
   "cell_type": "code",
   "execution_count": 13,
   "metadata": {},
   "outputs": [
    {
     "data": {
      "text/html": [
       "<div>\n",
       "<style scoped>\n",
       "    .dataframe tbody tr th:only-of-type {\n",
       "        vertical-align: middle;\n",
       "    }\n",
       "\n",
       "    .dataframe tbody tr th {\n",
       "        vertical-align: top;\n",
       "    }\n",
       "\n",
       "    .dataframe thead th {\n",
       "        text-align: right;\n",
       "    }\n",
       "</style>\n",
       "<table border=\"1\" class=\"dataframe\">\n",
       "  <thead>\n",
       "    <tr style=\"text-align: right;\">\n",
       "      <th></th>\n",
       "      <th>r</th>\n",
       "      <th>din</th>\n",
       "      <th>dout</th>\n",
       "      <th>probability</th>\n",
       "      <th>forecast</th>\n",
       "      <th>1</th>\n",
       "      <th>2</th>\n",
       "      <th>3</th>\n",
       "      <th>4</th>\n",
       "      <th>5</th>\n",
       "      <th>6</th>\n",
       "      <th>7</th>\n",
       "      <th>8</th>\n",
       "      <th>rev</th>\n",
       "    </tr>\n",
       "  </thead>\n",
       "  <tbody>\n",
       "    <tr>\n",
       "      <th>0</th>\n",
       "      <td>Q</td>\n",
       "      <td>1</td>\n",
       "      <td>2</td>\n",
       "      <td>0.018519</td>\n",
       "      <td>10.0</td>\n",
       "      <td>1</td>\n",
       "      <td>0</td>\n",
       "      <td>0</td>\n",
       "      <td>0</td>\n",
       "      <td>0</td>\n",
       "      <td>0</td>\n",
       "      <td>0</td>\n",
       "      <td>0</td>\n",
       "      <td>200.0</td>\n",
       "    </tr>\n",
       "    <tr>\n",
       "      <th>1</th>\n",
       "      <td>Q</td>\n",
       "      <td>1</td>\n",
       "      <td>3</td>\n",
       "      <td>0.011111</td>\n",
       "      <td>6.0</td>\n",
       "      <td>1</td>\n",
       "      <td>1</td>\n",
       "      <td>0</td>\n",
       "      <td>0</td>\n",
       "      <td>0</td>\n",
       "      <td>0</td>\n",
       "      <td>0</td>\n",
       "      <td>0</td>\n",
       "      <td>400.0</td>\n",
       "    </tr>\n",
       "    <tr>\n",
       "      <th>2</th>\n",
       "      <td>Q</td>\n",
       "      <td>1</td>\n",
       "      <td>4</td>\n",
       "      <td>0.011111</td>\n",
       "      <td>6.0</td>\n",
       "      <td>1</td>\n",
       "      <td>1</td>\n",
       "      <td>1</td>\n",
       "      <td>0</td>\n",
       "      <td>0</td>\n",
       "      <td>0</td>\n",
       "      <td>0</td>\n",
       "      <td>0</td>\n",
       "      <td>600.0</td>\n",
       "    </tr>\n",
       "    <tr>\n",
       "      <th>3</th>\n",
       "      <td>Q</td>\n",
       "      <td>1</td>\n",
       "      <td>5</td>\n",
       "      <td>0.007407</td>\n",
       "      <td>4.0</td>\n",
       "      <td>1</td>\n",
       "      <td>1</td>\n",
       "      <td>1</td>\n",
       "      <td>1</td>\n",
       "      <td>0</td>\n",
       "      <td>0</td>\n",
       "      <td>0</td>\n",
       "      <td>0</td>\n",
       "      <td>830.0</td>\n",
       "    </tr>\n",
       "    <tr>\n",
       "      <th>4</th>\n",
       "      <td>Q</td>\n",
       "      <td>1</td>\n",
       "      <td>6</td>\n",
       "      <td>0.007407</td>\n",
       "      <td>4.0</td>\n",
       "      <td>1</td>\n",
       "      <td>1</td>\n",
       "      <td>1</td>\n",
       "      <td>1</td>\n",
       "      <td>1</td>\n",
       "      <td>0</td>\n",
       "      <td>0</td>\n",
       "      <td>0</td>\n",
       "      <td>1060.0</td>\n",
       "    </tr>\n",
       "    <tr>\n",
       "      <th>...</th>\n",
       "      <td>...</td>\n",
       "      <td>...</td>\n",
       "      <td>...</td>\n",
       "      <td>...</td>\n",
       "      <td>...</td>\n",
       "      <td>...</td>\n",
       "      <td>...</td>\n",
       "      <td>...</td>\n",
       "      <td>...</td>\n",
       "      <td>...</td>\n",
       "      <td>...</td>\n",
       "      <td>...</td>\n",
       "      <td>...</td>\n",
       "      <td>...</td>\n",
       "    </tr>\n",
       "    <tr>\n",
       "      <th>79</th>\n",
       "      <td>C</td>\n",
       "      <td>5</td>\n",
       "      <td>7</td>\n",
       "      <td>0.003704</td>\n",
       "      <td>2.0</td>\n",
       "      <td>0</td>\n",
       "      <td>0</td>\n",
       "      <td>0</td>\n",
       "      <td>0</td>\n",
       "      <td>1</td>\n",
       "      <td>1</td>\n",
       "      <td>0</td>\n",
       "      <td>0</td>\n",
       "      <td>690.0</td>\n",
       "    </tr>\n",
       "    <tr>\n",
       "      <th>80</th>\n",
       "      <td>C</td>\n",
       "      <td>5</td>\n",
       "      <td>8</td>\n",
       "      <td>0.003704</td>\n",
       "      <td>2.0</td>\n",
       "      <td>0</td>\n",
       "      <td>0</td>\n",
       "      <td>0</td>\n",
       "      <td>0</td>\n",
       "      <td>1</td>\n",
       "      <td>1</td>\n",
       "      <td>1</td>\n",
       "      <td>0</td>\n",
       "      <td>990.0</td>\n",
       "    </tr>\n",
       "    <tr>\n",
       "      <th>81</th>\n",
       "      <td>C</td>\n",
       "      <td>6</td>\n",
       "      <td>7</td>\n",
       "      <td>0.003704</td>\n",
       "      <td>2.0</td>\n",
       "      <td>0</td>\n",
       "      <td>0</td>\n",
       "      <td>0</td>\n",
       "      <td>0</td>\n",
       "      <td>0</td>\n",
       "      <td>1</td>\n",
       "      <td>0</td>\n",
       "      <td>0</td>\n",
       "      <td>345.0</td>\n",
       "    </tr>\n",
       "    <tr>\n",
       "      <th>82</th>\n",
       "      <td>C</td>\n",
       "      <td>6</td>\n",
       "      <td>8</td>\n",
       "      <td>0.003704</td>\n",
       "      <td>2.0</td>\n",
       "      <td>0</td>\n",
       "      <td>0</td>\n",
       "      <td>0</td>\n",
       "      <td>0</td>\n",
       "      <td>0</td>\n",
       "      <td>1</td>\n",
       "      <td>1</td>\n",
       "      <td>0</td>\n",
       "      <td>645.0</td>\n",
       "    </tr>\n",
       "    <tr>\n",
       "      <th>83</th>\n",
       "      <td>C</td>\n",
       "      <td>7</td>\n",
       "      <td>8</td>\n",
       "      <td>0.000000</td>\n",
       "      <td>0.0</td>\n",
       "      <td>0</td>\n",
       "      <td>0</td>\n",
       "      <td>0</td>\n",
       "      <td>0</td>\n",
       "      <td>0</td>\n",
       "      <td>0</td>\n",
       "      <td>1</td>\n",
       "      <td>0</td>\n",
       "      <td>300.0</td>\n",
       "    </tr>\n",
       "  </tbody>\n",
       "</table>\n",
       "<p>84 rows × 14 columns</p>\n",
       "</div>"
      ],
      "text/plain": [
       "    r  din  dout  probability  forecast  1  2  3  4  5  6  7  8     rev\n",
       "0   Q    1     2     0.018519      10.0  1  0  0  0  0  0  0  0   200.0\n",
       "1   Q    1     3     0.011111       6.0  1  1  0  0  0  0  0  0   400.0\n",
       "2   Q    1     4     0.011111       6.0  1  1  1  0  0  0  0  0   600.0\n",
       "3   Q    1     5     0.007407       4.0  1  1  1  1  0  0  0  0   830.0\n",
       "4   Q    1     6     0.007407       4.0  1  1  1  1  1  0  0  0  1060.0\n",
       ".. ..  ...   ...          ...       ... .. .. .. .. .. .. .. ..     ...\n",
       "79  C    5     7     0.003704       2.0  0  0  0  0  1  1  0  0   690.0\n",
       "80  C    5     8     0.003704       2.0  0  0  0  0  1  1  1  0   990.0\n",
       "81  C    6     7     0.003704       2.0  0  0  0  0  0  1  0  0   345.0\n",
       "82  C    6     8     0.003704       2.0  0  0  0  0  0  1  1  0   645.0\n",
       "83  C    7     8     0.000000       0.0  0  0  0  0  0  0  1  0   300.0\n",
       "\n",
       "[84 rows x 14 columns]"
      ]
     },
     "execution_count": 13,
     "metadata": {},
     "output_type": "execute_result"
    }
   ],
   "source": [
    "hotel"
   ]
  },
  {
   "cell_type": "code",
   "execution_count": 53,
   "metadata": {},
   "outputs": [
    {
     "name": "stdout",
     "output_type": "stream",
     "text": [
      "Creating objective:\n",
      "Gurobi Optimizer version 9.1.0 build v9.1.0rc0 (mac64)\n",
      "Thread count: 4 physical cores, 8 logical processors, using up to 8 threads\n",
      "Optimize a model with 24 rows, 84 columns and 252 nonzeros\n",
      "Model fingerprint: 0x73149771\n",
      "Coefficient statistics:\n",
      "  Matrix range     [1e+00, 1e+00]\n",
      "  Objective range  [2e+02, 2e+03]\n",
      "  Bounds range     [2e+00, 4e+01]\n",
      "  RHS range        [2e+01, 5e+01]\n",
      "Presolve removed 12 rows and 16 columns\n",
      "Presolve time: 0.01s\n",
      "Presolved: 12 rows, 68 columns, 159 nonzeros\n",
      "\n",
      "Iteration    Objective       Primal Inf.    Dual Inf.      Time\n",
      "       0    3.1148000e+05   1.135000e+02   0.000000e+00      0s\n",
      "Extra simplex iterations after uncrush: 1\n",
      "      16    1.7214000e+05   0.000000e+00   0.000000e+00      0s\n",
      "\n",
      "Solved in 16 iterations and 0.01 seconds\n",
      "Optimal objective  1.721400018e+05\n",
      "optimal revenue is: 172140.0017788\n"
     ]
    }
   ],
   "source": [
    "from gurobipy import * \n",
    "\n",
    "n = hotel.shape[0]\n",
    "m = Model()\n",
    "x = m.addVars(n, lb = 0, ub = hotel['forecast'])\n",
    "\n",
    "# Add Room Capacity Constraints\n",
    "room_capacity_constrs_Q = {}\n",
    "room_capacity_constrs_K = {}\n",
    "room_capacity_constrs_C = {}\n",
    "for i in range(1,9):\n",
    "    room_capacity_constrs_Q[i-1] = m.addConstr(sum(x[j] * hotel[str(i)][j] for j in range(0, 28)) <= 50)\n",
    "    room_capacity_constrs_K[i-1] = m.addConstr(sum(x[j] * hotel[str(i)][j] for j in range(28, 56)) <= 50)\n",
    "    room_capacity_constrs_C[i-1] = m.addConstr(sum(x[j] * hotel[str(i)][j] for j in range(56, 84)) <= 20)\n",
    "\n",
    "# Objective:\n",
    "print(\"Creating objective:\")\n",
    "m.setObjective(sum(hotel['rev'][i] * x[i] for i in range(n)), GRB.MAXIMIZE)\n",
    "\n",
    "# Update and solve\n",
    "m.update()\n",
    "\n",
    "m.optimize()\n",
    "\n",
    "print('optimal revenue is:', m.objval)"
   ]
  },
  {
   "cell_type": "markdown",
   "metadata": {},
   "source": [
    "### c)"
   ]
  },
  {
   "cell_type": "code",
   "execution_count": 54,
   "metadata": {},
   "outputs": [],
   "source": [
    "x_opt = [x[i].x for i in range(n)]\n",
    "x_opt = pd.DataFrame(x_opt)"
   ]
  },
  {
   "cell_type": "code",
   "execution_count": 118,
   "metadata": {},
   "outputs": [],
   "source": [
    "index = x_opt.sort_values(by = 0, ascending = False).head().index"
   ]
  },
  {
   "cell_type": "code",
   "execution_count": 121,
   "metadata": {},
   "outputs": [
    {
     "data": {
      "text/html": [
       "<div>\n",
       "<style scoped>\n",
       "    .dataframe tbody tr th:only-of-type {\n",
       "        vertical-align: middle;\n",
       "    }\n",
       "\n",
       "    .dataframe tbody tr th {\n",
       "        vertical-align: top;\n",
       "    }\n",
       "\n",
       "    .dataframe thead th {\n",
       "        text-align: right;\n",
       "    }\n",
       "</style>\n",
       "<table border=\"1\" class=\"dataframe\">\n",
       "  <thead>\n",
       "    <tr style=\"text-align: right;\">\n",
       "      <th></th>\n",
       "      <th>r</th>\n",
       "      <th>din</th>\n",
       "      <th>dout</th>\n",
       "      <th>probability</th>\n",
       "    </tr>\n",
       "  </thead>\n",
       "  <tbody>\n",
       "    <tr>\n",
       "      <th>35</th>\n",
       "      <td>K</td>\n",
       "      <td>2</td>\n",
       "      <td>3</td>\n",
       "      <td>0.037037</td>\n",
       "    </tr>\n",
       "    <tr>\n",
       "      <th>41</th>\n",
       "      <td>K</td>\n",
       "      <td>3</td>\n",
       "      <td>4</td>\n",
       "      <td>0.037037</td>\n",
       "    </tr>\n",
       "    <tr>\n",
       "      <th>46</th>\n",
       "      <td>K</td>\n",
       "      <td>4</td>\n",
       "      <td>5</td>\n",
       "      <td>0.029630</td>\n",
       "    </tr>\n",
       "    <tr>\n",
       "      <th>0</th>\n",
       "      <td>Q</td>\n",
       "      <td>1</td>\n",
       "      <td>2</td>\n",
       "      <td>0.018519</td>\n",
       "    </tr>\n",
       "    <tr>\n",
       "      <th>36</th>\n",
       "      <td>K</td>\n",
       "      <td>2</td>\n",
       "      <td>4</td>\n",
       "      <td>0.018519</td>\n",
       "    </tr>\n",
       "  </tbody>\n",
       "</table>\n",
       "</div>"
      ],
      "text/plain": [
       "    r  din  dout  probability\n",
       "35  K    2     3     0.037037\n",
       "41  K    3     4     0.037037\n",
       "46  K    4     5     0.029630\n",
       "0   Q    1     2     0.018519\n",
       "36  K    2     4     0.018519"
      ]
     },
     "execution_count": 121,
     "metadata": {},
     "output_type": "execute_result"
    }
   ],
   "source": [
    "hotel.iloc[index, 0:4]"
   ]
  },
  {
   "cell_type": "markdown",
   "metadata": {},
   "source": [
    "### d)"
   ]
  },
  {
   "cell_type": "code",
   "execution_count": 57,
   "metadata": {},
   "outputs": [
    {
     "name": "stdout",
     "output_type": "stream",
     "text": [
      "[0.0, 200.0, 200.0, 230.0, 230.0, 0.0, 0.0]\n",
      "[0.0, 250.0, 250.0, 287.5, 0.0, 0.0, 0.0]\n",
      "[0.0, 300.0, 300.0, 345.0, 345.0, 345.0, 0.0]\n"
     ]
    }
   ],
   "source": [
    "print( [room_capacity_constrs_Q[i].pi for i in range(7)])\n",
    "print( [room_capacity_constrs_K[i].pi for i in range(7)])\n",
    "print( [room_capacity_constrs_C[i].pi for i in range(7)])"
   ]
  },
  {
   "cell_type": "markdown",
   "metadata": {},
   "source": [
    "### e)"
   ]
  },
  {
   "cell_type": "code",
   "execution_count": 58,
   "metadata": {},
   "outputs": [
    {
     "data": {
      "text/plain": [
       "725.0"
      ]
     },
     "execution_count": 58,
     "metadata": {},
     "output_type": "execute_result"
    }
   ],
   "source": [
    "10 * (200 + 200 + 230 + 230) - 10 * (250 + 250 + 287.5) "
   ]
  },
  {
   "cell_type": "markdown",
   "metadata": {},
   "source": [
    "# Part 3: Determining an optimal dynamic allocation policy"
   ]
  },
  {
   "cell_type": "markdown",
   "metadata": {},
   "source": [
    "### a)"
   ]
  },
  {
   "cell_type": "code",
   "execution_count": 59,
   "metadata": {},
   "outputs": [],
   "source": [
    "# initial values\n",
    "B = np.array([[50, 50, 50, 50, 50, 50, 50],\n",
    "            [50, 50, 50, 50, 50, 50, 50],\n",
    "            [20, 20, 20, 20, 20, 20, 20]])\n",
    "T = 540"
   ]
  },
  {
   "cell_type": "code",
   "execution_count": 60,
   "metadata": {},
   "outputs": [
    {
     "name": "stdout",
     "output_type": "stream",
     "text": [
      "Mean LP policy revenue:  147472.025\n"
     ]
    }
   ],
   "source": [
    "m.Params.outputflag = 0\n",
    "\n",
    "probability_aug = np.zeros(n+1)\n",
    "probability_aug[0:n] = hotel['probability'] \n",
    "probability_aug[n] = 1 - sum(hotel['probability']) # Last element is one minus the rest.\n",
    "\n",
    "\n",
    "#simulation\n",
    "nSimulations = 100\n",
    "np.random.seed(50)\n",
    "\n",
    "\n",
    "results_revenue = np.zeros(nSimulations)\n",
    "results_remaining_room_Q = np.zeros( (nSimulations, 7) )\n",
    "results_remaining_room_K = np.zeros( (nSimulations, 7) )\n",
    "results_remaining_room_C = np.zeros( (nSimulations, 7) )\n",
    "\n",
    "\n",
    "# loop\n",
    "for s in range(nSimulations):\n",
    "    total_revenue = 0.0\n",
    "    b = B.copy() \n",
    "    arrival_sequence = np.random.choice(range(n+1), T, p=probability_aug)\n",
    "    for t in range(T):\n",
    "        # Stop if all room have been sold:\n",
    "        if ((b == 0).all()):\n",
    "            break\n",
    "        \n",
    "        i = arrival_sequence[t]\n",
    "        if (i < n):\n",
    "            if (i in range(0,28)):\n",
    "                idx = []\n",
    "                for idx_X in range(5,12):\n",
    "                    if hotel.iloc[i,idx_X] != 0:\n",
    "                        idx.append(idx_X-5)\n",
    "                if ((b[0]* hotel.iloc[i,5:12])[idx]>0).all():\n",
    "                    b[0][idx] = b[0][idx]-1\n",
    "                    total_revenue += hotel['rev'][i]\n",
    "                    \n",
    "            elif (i in range(28, 56)):\n",
    "                idx = []\n",
    "                for idx_X in range(5,12):\n",
    "                    if hotel.iloc[i,idx_X] != 0:\n",
    "                        idx.append(idx_X-5)\n",
    "                if ((b[1]* hotel.iloc[i,5:12])[idx]>0).all():\n",
    "                    b[1][idx] = b[1][idx]-1\n",
    "                    total_revenue += hotel['rev'][i]\n",
    "                    \n",
    "            elif (i in range(56, 84)):\n",
    "                idx = []\n",
    "                for idx_X in range(5,12):\n",
    "                    if hotel.iloc[i,idx_X] != 0:\n",
    "                        idx.append(idx_X-5)\n",
    "                if ((b[2]* hotel.iloc[i,5:12])[idx]>0).all():\n",
    "                    b[2][idx] = b[2][idx]-1\n",
    "                    total_revenue += hotel['rev'][i]       \n",
    "                    \n",
    "\n",
    "    results_revenue[s] = total_revenue\n",
    "mean_LP_revenue = results_revenue.mean()\n",
    "\n",
    "print(\"Mean LP policy revenue: \", mean_LP_revenue)"
   ]
  },
  {
   "cell_type": "markdown",
   "metadata": {},
   "source": [
    "### b)"
   ]
  },
  {
   "cell_type": "code",
   "execution_count": 61,
   "metadata": {},
   "outputs": [
    {
     "data": {
      "text/plain": [
       "[0.0, 250.0, 250.0, 287.5, 0.0, 0.0, 0.0]"
      ]
     },
     "execution_count": 61,
     "metadata": {},
     "output_type": "execute_result"
    }
   ],
   "source": [
    "[room_capacity_constrs_K[i].pi for i in range(7)]"
   ]
  },
  {
   "cell_type": "code",
   "execution_count": 62,
   "metadata": {},
   "outputs": [
    {
     "data": {
      "text/plain": [
       "787.5"
      ]
     },
     "execution_count": 62,
     "metadata": {},
     "output_type": "execute_result"
    }
   ],
   "source": [
    "250 + 250 + 287.5"
   ]
  },
  {
   "cell_type": "markdown",
   "metadata": {},
   "source": [
    "### c)"
   ]
  },
  {
   "cell_type": "code",
   "execution_count": 64,
   "metadata": {
    "scrolled": true
   },
   "outputs": [
    {
     "name": "stdout",
     "output_type": "stream",
     "text": [
      "Mean LP policy revenue:  163644.975\n"
     ]
    }
   ],
   "source": [
    "# setting up\n",
    "def bpc(b,t):\n",
    "    for i in range(7):\n",
    "        room_capacity_constrs_Q[i].rhs = b[0][i]\n",
    "    \n",
    "    for i in range(7):\n",
    "        room_capacity_constrs_K[i].rhs = b[1][i]\n",
    "    \n",
    "    for i in range(7):\n",
    "        room_capacity_constrs_C[i].rhs = b[2][i]\n",
    "    \n",
    "    for i in range(n):\n",
    "        x[i].ub = (T - t)* hotel['probability'][i]\n",
    "        \n",
    "    m.update()\n",
    "    m.optimize()\n",
    "    \n",
    "    dual_val = []\n",
    "    dual_val.append([room_capacity_constrs_Q[i].pi for i in range(7)])\n",
    "    dual_val.append([room_capacity_constrs_K[i].pi for i in range(7)])\n",
    "    dual_val.append([room_capacity_constrs_C[i].pi for i in range(7)])\n",
    "    \n",
    "    return dual_val\n",
    "\n",
    "m.Params.outputflag = 0\n",
    "\n",
    "probability_aug = np.zeros(n+1)\n",
    "probability_aug[0:n] = hotel['probability'] \n",
    "probability_aug[n] = 1 - sum(hotel['probability']) # Last element is one minus the rest.\n",
    "\n",
    "\n",
    "#simulation\n",
    "nSimulations = 100\n",
    "np.random.seed(50)\n",
    "\n",
    "\n",
    "results_revenue = np.zeros(nSimulations)\n",
    "results_remaining_room_Q = np.zeros( (nSimulations, 7) )\n",
    "results_remaining_room_K = np.zeros( (nSimulations, 7) )\n",
    "results_remaining_room_C = np.zeros( (nSimulations, 7) )\n",
    "\n",
    "\n",
    "# loop\n",
    "for s in range(nSimulations):\n",
    "    total_revenue = 0.0\n",
    "    b = B.copy() \n",
    "    arrival_sequence = np.random.choice(range(n+1), T, p=probability_aug)\n",
    "    for t in range(T):\n",
    "        # Stop if all room have been sold:\n",
    "        if ((b == 0).all()):\n",
    "            break\n",
    "        \n",
    "        i = arrival_sequence[t]\n",
    "        if (i < n):\n",
    "            dual_val = bpc(b,t)\n",
    "            # Compute the total bid price of the request:\n",
    "            if i in range(0,28):\n",
    "                total_bid_price = sum(dual_val[0] * hotel.iloc[i,5:12])\n",
    "            elif i in range(28,56):\n",
    "                total_bid_price = sum(dual_val[1] * hotel.iloc[i,5:12])\n",
    "            elif i in range(56,84):\n",
    "                total_bid_price = sum(dual_val[2] * hotel.iloc[i,5:12])\n",
    "                \n",
    "            # If the revenue is at least the total bid price, and there is at least one\n",
    "            # seat on each leg of this itinerary ...* hotel.iloc[i,5:13]\n",
    "            if hotel['rev'][i] >= total_bid_price:\n",
    "                if (i in range(0,28)):\n",
    "                    idx = []\n",
    "                    for idx_X in range(5,12):\n",
    "                        if hotel.iloc[i,idx_X] != 0:\n",
    "                            idx.append(idx_X-5)\n",
    "                    if ((b[0]* hotel.iloc[i,5:12])[idx]>0).all():\n",
    "                        b[0][idx] = b[0][idx]-1\n",
    "                        total_revenue += hotel['rev'][i]\n",
    "                    \n",
    "                elif (i in range(28, 56)):\n",
    "                    idx = []\n",
    "                    for idx_X in range(5,12):\n",
    "                        if hotel.iloc[i,idx_X] != 0:\n",
    "                            idx.append(idx_X-5)\n",
    "                    if ((b[1]* hotel.iloc[i,5:12])[idx]>0).all():\n",
    "                        b[1][idx] = b[1][idx]-1\n",
    "                        total_revenue += hotel['rev'][i]\n",
    "                    \n",
    "                elif (i in range(56, 84)):\n",
    "                    idx = []\n",
    "                    for idx_X in range(5,12):\n",
    "                        if hotel.iloc[i,idx_X] != 0:\n",
    "                            idx.append(idx_X-5)\n",
    "                    if ((b[2]* hotel.iloc[i,5:12])[idx]>0).all():\n",
    "                        b[2][idx] = b[2][idx]-1\n",
    "                        total_revenue += hotel['rev'][i]       \n",
    "\n",
    "    results_revenue[s] = total_revenue\n",
    "mean_LP_revenue = results_revenue.mean()\n",
    "\n",
    "print(\"Mean LP policy revenue: \", mean_LP_revenue)"
   ]
  },
  {
   "cell_type": "markdown",
   "metadata": {},
   "source": [
    "### d)"
   ]
  },
  {
   "cell_type": "code",
   "execution_count": 113,
   "metadata": {},
   "outputs": [],
   "source": [
    "(unique, counts) = np.unique(arrival_sequence, return_counts=True)\n",
    "frequencies = pd.DataFrame(np.asarray((unique, counts)).T)\n",
    "index = frequencies.sort_values(by = 1, ascending= False).head(11)[1:11][0]"
   ]
  },
  {
   "cell_type": "code",
   "execution_count": 115,
   "metadata": {},
   "outputs": [
    {
     "data": {
      "text/html": [
       "<div>\n",
       "<style scoped>\n",
       "    .dataframe tbody tr th:only-of-type {\n",
       "        vertical-align: middle;\n",
       "    }\n",
       "\n",
       "    .dataframe tbody tr th {\n",
       "        vertical-align: top;\n",
       "    }\n",
       "\n",
       "    .dataframe thead th {\n",
       "        text-align: right;\n",
       "    }\n",
       "</style>\n",
       "<table border=\"1\" class=\"dataframe\">\n",
       "  <thead>\n",
       "    <tr style=\"text-align: right;\">\n",
       "      <th></th>\n",
       "      <th>r</th>\n",
       "      <th>din</th>\n",
       "      <th>dout</th>\n",
       "      <th>probability</th>\n",
       "    </tr>\n",
       "  </thead>\n",
       "  <tbody>\n",
       "    <tr>\n",
       "      <th>13</th>\n",
       "      <td>Q</td>\n",
       "      <td>3</td>\n",
       "      <td>4</td>\n",
       "      <td>0.074074</td>\n",
       "    </tr>\n",
       "    <tr>\n",
       "      <th>8</th>\n",
       "      <td>Q</td>\n",
       "      <td>2</td>\n",
       "      <td>4</td>\n",
       "      <td>0.037037</td>\n",
       "    </tr>\n",
       "    <tr>\n",
       "      <th>41</th>\n",
       "      <td>K</td>\n",
       "      <td>3</td>\n",
       "      <td>4</td>\n",
       "      <td>0.037037</td>\n",
       "    </tr>\n",
       "    <tr>\n",
       "      <th>35</th>\n",
       "      <td>K</td>\n",
       "      <td>2</td>\n",
       "      <td>3</td>\n",
       "      <td>0.037037</td>\n",
       "    </tr>\n",
       "    <tr>\n",
       "      <th>0</th>\n",
       "      <td>Q</td>\n",
       "      <td>1</td>\n",
       "      <td>2</td>\n",
       "      <td>0.018519</td>\n",
       "    </tr>\n",
       "    <tr>\n",
       "      <th>64</th>\n",
       "      <td>C</td>\n",
       "      <td>2</td>\n",
       "      <td>4</td>\n",
       "      <td>0.018519</td>\n",
       "    </tr>\n",
       "    <tr>\n",
       "      <th>46</th>\n",
       "      <td>K</td>\n",
       "      <td>4</td>\n",
       "      <td>5</td>\n",
       "      <td>0.029630</td>\n",
       "    </tr>\n",
       "    <tr>\n",
       "      <th>36</th>\n",
       "      <td>K</td>\n",
       "      <td>2</td>\n",
       "      <td>4</td>\n",
       "      <td>0.018519</td>\n",
       "    </tr>\n",
       "    <tr>\n",
       "      <th>14</th>\n",
       "      <td>Q</td>\n",
       "      <td>3</td>\n",
       "      <td>5</td>\n",
       "      <td>0.014815</td>\n",
       "    </tr>\n",
       "    <tr>\n",
       "      <th>1</th>\n",
       "      <td>Q</td>\n",
       "      <td>1</td>\n",
       "      <td>3</td>\n",
       "      <td>0.011111</td>\n",
       "    </tr>\n",
       "  </tbody>\n",
       "</table>\n",
       "</div>"
      ],
      "text/plain": [
       "    r  din  dout  probability\n",
       "13  Q    3     4     0.074074\n",
       "8   Q    2     4     0.037037\n",
       "41  K    3     4     0.037037\n",
       "35  K    2     3     0.037037\n",
       "0   Q    1     2     0.018519\n",
       "64  C    2     4     0.018519\n",
       "46  K    4     5     0.029630\n",
       "36  K    2     4     0.018519\n",
       "14  Q    3     5     0.014815\n",
       "1   Q    1     3     0.011111"
      ]
     },
     "execution_count": 115,
     "metadata": {},
     "output_type": "execute_result"
    }
   ],
   "source": [
    "hotel.iloc[index, 0:4]"
   ]
  },
  {
   "cell_type": "code",
   "execution_count": null,
   "metadata": {},
   "outputs": [],
   "source": []
  }
 ],
 "metadata": {
  "kernelspec": {
   "display_name": "Python 3",
   "language": "python",
   "name": "python3"
  },
  "language_info": {
   "codemirror_mode": {
    "name": "ipython",
    "version": 3
   },
   "file_extension": ".py",
   "mimetype": "text/x-python",
   "name": "python",
   "nbconvert_exporter": "python",
   "pygments_lexer": "ipython3",
   "version": "3.7.6"
  }
 },
 "nbformat": 4,
 "nbformat_minor": 4
}
