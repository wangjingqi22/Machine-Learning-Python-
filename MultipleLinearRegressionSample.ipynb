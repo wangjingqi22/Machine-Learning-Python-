{
 "cells": [
  {
   "cell_type": "code",
   "execution_count": 1,
   "metadata": {},
   "outputs": [],
   "source": [
    "import csv\n",
    "import numpy as np\n",
    "import pandas as pd\n",
    "import matplotlib.pyplot as plt"
   ]
  },
  {
   "cell_type": "code",
   "execution_count": 2,
   "metadata": {},
   "outputs": [
    {
     "data": {
      "text/html": [
       "<div>\n",
       "<style scoped>\n",
       "    .dataframe tbody tr th:only-of-type {\n",
       "        vertical-align: middle;\n",
       "    }\n",
       "\n",
       "    .dataframe tbody tr th {\n",
       "        vertical-align: top;\n",
       "    }\n",
       "\n",
       "    .dataframe thead th {\n",
       "        text-align: right;\n",
       "    }\n",
       "</style>\n",
       "<table border=\"1\" class=\"dataframe\">\n",
       "  <thead>\n",
       "    <tr style=\"text-align: right;\">\n",
       "      <th></th>\n",
       "      <th>season</th>\n",
       "      <th>mnth</th>\n",
       "      <th>hr</th>\n",
       "      <th>holiday</th>\n",
       "      <th>weekday</th>\n",
       "      <th>workingday</th>\n",
       "      <th>weathersit</th>\n",
       "      <th>temp</th>\n",
       "      <th>atemp</th>\n",
       "      <th>hum</th>\n",
       "      <th>windspeed</th>\n",
       "      <th>cnt</th>\n",
       "    </tr>\n",
       "  </thead>\n",
       "  <tbody>\n",
       "    <tr>\n",
       "      <th>0</th>\n",
       "      <td>1</td>\n",
       "      <td>12</td>\n",
       "      <td>16</td>\n",
       "      <td>0</td>\n",
       "      <td>5</td>\n",
       "      <td>1</td>\n",
       "      <td>1</td>\n",
       "      <td>0.42</td>\n",
       "      <td>0.4242</td>\n",
       "      <td>0.47</td>\n",
       "      <td>0.1940</td>\n",
       "      <td>283</td>\n",
       "    </tr>\n",
       "    <tr>\n",
       "      <th>1</th>\n",
       "      <td>4</td>\n",
       "      <td>10</td>\n",
       "      <td>9</td>\n",
       "      <td>0</td>\n",
       "      <td>0</td>\n",
       "      <td>0</td>\n",
       "      <td>2</td>\n",
       "      <td>0.50</td>\n",
       "      <td>0.4848</td>\n",
       "      <td>0.55</td>\n",
       "      <td>0.4179</td>\n",
       "      <td>330</td>\n",
       "    </tr>\n",
       "    <tr>\n",
       "      <th>2</th>\n",
       "      <td>3</td>\n",
       "      <td>9</td>\n",
       "      <td>1</td>\n",
       "      <td>0</td>\n",
       "      <td>0</td>\n",
       "      <td>0</td>\n",
       "      <td>2</td>\n",
       "      <td>0.62</td>\n",
       "      <td>0.5606</td>\n",
       "      <td>0.88</td>\n",
       "      <td>0.0000</td>\n",
       "      <td>88</td>\n",
       "    </tr>\n",
       "    <tr>\n",
       "      <th>3</th>\n",
       "      <td>3</td>\n",
       "      <td>6</td>\n",
       "      <td>22</td>\n",
       "      <td>0</td>\n",
       "      <td>3</td>\n",
       "      <td>1</td>\n",
       "      <td>1</td>\n",
       "      <td>0.70</td>\n",
       "      <td>0.6364</td>\n",
       "      <td>0.42</td>\n",
       "      <td>0.1940</td>\n",
       "      <td>183</td>\n",
       "    </tr>\n",
       "    <tr>\n",
       "      <th>4</th>\n",
       "      <td>3</td>\n",
       "      <td>7</td>\n",
       "      <td>12</td>\n",
       "      <td>0</td>\n",
       "      <td>1</td>\n",
       "      <td>1</td>\n",
       "      <td>2</td>\n",
       "      <td>0.80</td>\n",
       "      <td>0.7424</td>\n",
       "      <td>0.52</td>\n",
       "      <td>0.1642</td>\n",
       "      <td>314</td>\n",
       "    </tr>\n",
       "  </tbody>\n",
       "</table>\n",
       "</div>"
      ],
      "text/plain": [
       "   season  mnth  hr  holiday  weekday  workingday  weathersit  temp   atemp  \\\n",
       "0       1    12  16        0        5           1           1  0.42  0.4242   \n",
       "1       4    10   9        0        0           0           2  0.50  0.4848   \n",
       "2       3     9   1        0        0           0           2  0.62  0.5606   \n",
       "3       3     6  22        0        3           1           1  0.70  0.6364   \n",
       "4       3     7  12        0        1           1           2  0.80  0.7424   \n",
       "\n",
       "    hum  windspeed  cnt  \n",
       "0  0.47     0.1940  283  \n",
       "1  0.55     0.4179  330  \n",
       "2  0.88     0.0000   88  \n",
       "3  0.42     0.1940  183  \n",
       "4  0.52     0.1642  314  "
      ]
     },
     "execution_count": 2,
     "metadata": {},
     "output_type": "execute_result"
    }
   ],
   "source": [
    "# Load the data\n",
    "df=pd.read_csv(\"~/Downloads/BikeSharing_training.csv\")\n",
    "\n",
    "# Show the first 5 lines\n",
    "df.head()"
   ]
  },
  {
   "cell_type": "code",
   "execution_count": 3,
   "metadata": {},
   "outputs": [],
   "source": [
    "df_hist = df[['temp','atemp','hum','windspeed']]"
   ]
  },
  {
   "cell_type": "code",
   "execution_count": 4,
   "metadata": {},
   "outputs": [
    {
     "data": {
      "image/png": "[encoded data removed]",
      "text/plain": [
       "<Figure size 1080x576 with 1 Axes>"
      ]
     },
     "metadata": {
      "needs_background": "light"
     },
     "output_type": "display_data"
    }
   ],
   "source": [
    "### WRITE CODE TO OBTAIN AND DISPLAY HISTOGRAMS ###\n",
    "df_hist.plot(kind = 'hist', figsize=(15, 8),alpha = 0.3 )\n",
    "plt.title('Histogram of Normalizaed Variables')\n",
    "plt.show()"
   ]
  },
  {
   "cell_type": "code",
   "execution_count": 5,
   "metadata": {},
   "outputs": [
    {
     "data": {
      "text/html": [
       "<div>\n",
       "<style scoped>\n",
       "    .dataframe tbody tr th:only-of-type {\n",
       "        vertical-align: middle;\n",
       "    }\n",
       "\n",
       "    .dataframe tbody tr th {\n",
       "        vertical-align: top;\n",
       "    }\n",
       "\n",
       "    .dataframe thead th {\n",
       "        text-align: right;\n",
       "    }\n",
       "</style>\n",
       "<table border=\"1\" class=\"dataframe\">\n",
       "  <thead>\n",
       "    <tr style=\"text-align: right;\">\n",
       "      <th></th>\n",
       "      <th>season</th>\n",
       "      <th>mnth</th>\n",
       "      <th>hr</th>\n",
       "      <th>holiday</th>\n",
       "      <th>weekday</th>\n",
       "      <th>workingday</th>\n",
       "      <th>weathersit</th>\n",
       "      <th>temp</th>\n",
       "      <th>atemp</th>\n",
       "      <th>hum</th>\n",
       "      <th>windspeed</th>\n",
       "      <th>cnt</th>\n",
       "    </tr>\n",
       "  </thead>\n",
       "  <tbody>\n",
       "    <tr>\n",
       "      <th>season</th>\n",
       "      <td>1.000000</td>\n",
       "      <td>0.795990</td>\n",
       "      <td>-0.046306</td>\n",
       "      <td>-0.057180</td>\n",
       "      <td>-0.049248</td>\n",
       "      <td>0.087355</td>\n",
       "      <td>0.097812</td>\n",
       "      <td>0.403317</td>\n",
       "      <td>0.406946</td>\n",
       "      <td>0.155086</td>\n",
       "      <td>-0.110663</td>\n",
       "      <td>0.225385</td>\n",
       "    </tr>\n",
       "    <tr>\n",
       "      <th>mnth</th>\n",
       "      <td>0.795990</td>\n",
       "      <td>1.000000</td>\n",
       "      <td>0.000608</td>\n",
       "      <td>-0.012655</td>\n",
       "      <td>0.001790</td>\n",
       "      <td>0.045749</td>\n",
       "      <td>0.098688</td>\n",
       "      <td>0.270690</td>\n",
       "      <td>0.265519</td>\n",
       "      <td>0.116613</td>\n",
       "      <td>-0.005633</td>\n",
       "      <td>0.144026</td>\n",
       "    </tr>\n",
       "    <tr>\n",
       "      <th>hr</th>\n",
       "      <td>-0.046306</td>\n",
       "      <td>0.000608</td>\n",
       "      <td>1.000000</td>\n",
       "      <td>0.104970</td>\n",
       "      <td>0.029337</td>\n",
       "      <td>-0.083801</td>\n",
       "      <td>-0.117088</td>\n",
       "      <td>0.049154</td>\n",
       "      <td>0.042834</td>\n",
       "      <td>-0.375612</td>\n",
       "      <td>0.162829</td>\n",
       "      <td>0.387503</td>\n",
       "    </tr>\n",
       "    <tr>\n",
       "      <th>holiday</th>\n",
       "      <td>-0.057180</td>\n",
       "      <td>-0.012655</td>\n",
       "      <td>0.104970</td>\n",
       "      <td>1.000000</td>\n",
       "      <td>-0.065359</td>\n",
       "      <td>-0.216498</td>\n",
       "      <td>-0.059273</td>\n",
       "      <td>0.023122</td>\n",
       "      <td>0.020936</td>\n",
       "      <td>-0.064204</td>\n",
       "      <td>-0.043506</td>\n",
       "      <td>0.018659</td>\n",
       "    </tr>\n",
       "    <tr>\n",
       "      <th>weekday</th>\n",
       "      <td>-0.049248</td>\n",
       "      <td>0.001790</td>\n",
       "      <td>0.029337</td>\n",
       "      <td>-0.065359</td>\n",
       "      <td>1.000000</td>\n",
       "      <td>0.096844</td>\n",
       "      <td>-0.088959</td>\n",
       "      <td>-0.057797</td>\n",
       "      <td>-0.071621</td>\n",
       "      <td>-0.098027</td>\n",
       "      <td>0.073404</td>\n",
       "      <td>0.067401</td>\n",
       "    </tr>\n",
       "    <tr>\n",
       "      <th>workingday</th>\n",
       "      <td>0.087355</td>\n",
       "      <td>0.045749</td>\n",
       "      <td>-0.083801</td>\n",
       "      <td>-0.216498</td>\n",
       "      <td>0.096844</td>\n",
       "      <td>1.000000</td>\n",
       "      <td>0.131374</td>\n",
       "      <td>-0.007330</td>\n",
       "      <td>-0.001266</td>\n",
       "      <td>0.168470</td>\n",
       "      <td>-0.000534</td>\n",
       "      <td>-0.072353</td>\n",
       "    </tr>\n",
       "    <tr>\n",
       "      <th>weathersit</th>\n",
       "      <td>0.097812</td>\n",
       "      <td>0.098688</td>\n",
       "      <td>-0.117088</td>\n",
       "      <td>-0.059273</td>\n",
       "      <td>-0.088959</td>\n",
       "      <td>0.131374</td>\n",
       "      <td>1.000000</td>\n",
       "      <td>-0.014367</td>\n",
       "      <td>-0.018496</td>\n",
       "      <td>0.403589</td>\n",
       "      <td>-0.047412</td>\n",
       "      <td>-0.167125</td>\n",
       "    </tr>\n",
       "    <tr>\n",
       "      <th>temp</th>\n",
       "      <td>0.403317</td>\n",
       "      <td>0.270690</td>\n",
       "      <td>0.049154</td>\n",
       "      <td>0.023122</td>\n",
       "      <td>-0.057797</td>\n",
       "      <td>-0.007330</td>\n",
       "      <td>-0.014367</td>\n",
       "      <td>1.000000</td>\n",
       "      <td>0.992783</td>\n",
       "      <td>-0.037122</td>\n",
       "      <td>-0.096506</td>\n",
       "      <td>0.435036</td>\n",
       "    </tr>\n",
       "    <tr>\n",
       "      <th>atemp</th>\n",
       "      <td>0.406946</td>\n",
       "      <td>0.265519</td>\n",
       "      <td>0.042834</td>\n",
       "      <td>0.020936</td>\n",
       "      <td>-0.071621</td>\n",
       "      <td>-0.001266</td>\n",
       "      <td>-0.018496</td>\n",
       "      <td>0.992783</td>\n",
       "      <td>1.000000</td>\n",
       "      <td>-0.017675</td>\n",
       "      <td>-0.126852</td>\n",
       "      <td>0.430083</td>\n",
       "    </tr>\n",
       "    <tr>\n",
       "      <th>hum</th>\n",
       "      <td>0.155086</td>\n",
       "      <td>0.116613</td>\n",
       "      <td>-0.375612</td>\n",
       "      <td>-0.064204</td>\n",
       "      <td>-0.098027</td>\n",
       "      <td>0.168470</td>\n",
       "      <td>0.403589</td>\n",
       "      <td>-0.037122</td>\n",
       "      <td>-0.017675</td>\n",
       "      <td>1.000000</td>\n",
       "      <td>-0.228720</td>\n",
       "      <td>-0.321508</td>\n",
       "    </tr>\n",
       "    <tr>\n",
       "      <th>windspeed</th>\n",
       "      <td>-0.110663</td>\n",
       "      <td>-0.005633</td>\n",
       "      <td>0.162829</td>\n",
       "      <td>-0.043506</td>\n",
       "      <td>0.073404</td>\n",
       "      <td>-0.000534</td>\n",
       "      <td>-0.047412</td>\n",
       "      <td>-0.096506</td>\n",
       "      <td>-0.126852</td>\n",
       "      <td>-0.228720</td>\n",
       "      <td>1.000000</td>\n",
       "      <td>0.034753</td>\n",
       "    </tr>\n",
       "    <tr>\n",
       "      <th>cnt</th>\n",
       "      <td>0.225385</td>\n",
       "      <td>0.144026</td>\n",
       "      <td>0.387503</td>\n",
       "      <td>0.018659</td>\n",
       "      <td>0.067401</td>\n",
       "      <td>-0.072353</td>\n",
       "      <td>-0.167125</td>\n",
       "      <td>0.435036</td>\n",
       "      <td>0.430083</td>\n",
       "      <td>-0.321508</td>\n",
       "      <td>0.034753</td>\n",
       "      <td>1.000000</td>\n",
       "    </tr>\n",
       "  </tbody>\n",
       "</table>\n",
       "</div>"
      ],
      "text/plain": [
       "              season      mnth        hr   holiday   weekday  workingday  \\\n",
       "season      1.000000  0.795990 -0.046306 -0.057180 -0.049248    0.087355   \n",
       "mnth        0.795990  1.000000  0.000608 -0.012655  0.001790    0.045749   \n",
       "hr         -0.046306  0.000608  1.000000  0.104970  0.029337   -0.083801   \n",
       "holiday    -0.057180 -0.012655  0.104970  1.000000 -0.065359   -0.216498   \n",
       "weekday    -0.049248  0.001790  0.029337 -0.065359  1.000000    0.096844   \n",
       "workingday  0.087355  0.045749 -0.083801 -0.216498  0.096844    1.000000   \n",
       "weathersit  0.097812  0.098688 -0.117088 -0.059273 -0.088959    0.131374   \n",
       "temp        0.403317  0.270690  0.049154  0.023122 -0.057797   -0.007330   \n",
       "atemp       0.406946  0.265519  0.042834  0.020936 -0.071621   -0.001266   \n",
       "hum         0.155086  0.116613 -0.375612 -0.064204 -0.098027    0.168470   \n",
       "windspeed  -0.110663 -0.005633  0.162829 -0.043506  0.073404   -0.000534   \n",
       "cnt         0.225385  0.144026  0.387503  0.018659  0.067401   -0.072353   \n",
       "\n",
       "            weathersit      temp     atemp       hum  windspeed       cnt  \n",
       "season        0.097812  0.403317  0.406946  0.155086  -0.110663  0.225385  \n",
       "mnth          0.098688  0.270690  0.265519  0.116613  -0.005633  0.144026  \n",
       "hr           -0.117088  0.049154  0.042834 -0.375612   0.162829  0.387503  \n",
       "holiday      -0.059273  0.023122  0.020936 -0.064204  -0.043506  0.018659  \n",
       "weekday      -0.088959 -0.057797 -0.071621 -0.098027   0.073404  0.067401  \n",
       "workingday    0.131374 -0.007330 -0.001266  0.168470  -0.000534 -0.072353  \n",
       "weathersit    1.000000 -0.014367 -0.018496  0.403589  -0.047412 -0.167125  \n",
       "temp         -0.014367  1.000000  0.992783 -0.037122  -0.096506  0.435036  \n",
       "atemp        -0.018496  0.992783  1.000000 -0.017675  -0.126852  0.430083  \n",
       "hum           0.403589 -0.037122 -0.017675  1.000000  -0.228720 -0.321508  \n",
       "windspeed    -0.047412 -0.096506 -0.126852 -0.228720   1.000000  0.034753  \n",
       "cnt          -0.167125  0.435036  0.430083 -0.321508   0.034753  1.000000  "
      ]
     },
     "execution_count": 5,
     "metadata": {},
     "output_type": "execute_result"
    }
   ],
   "source": [
    "CorrMatrix = df.corr()\n",
    "CorrMatrix"
   ]
  },
  {
   "cell_type": "code",
   "execution_count": 9,
   "metadata": {},
   "outputs": [
    {
     "data": {
      "text/plain": [
       "(300, 47)"
      ]
     },
     "execution_count": 9,
     "metadata": {},
     "output_type": "execute_result"
    }
   ],
   "source": [
    "from sklearn.preprocessing import OneHotEncoder\n",
    "df_categorical = df[['season','mnth','hr','holiday','weekday','workingday','weathersit']]\n",
    "enc = OneHotEncoder(drop = 'first')\n",
    "ohe = enc.fit_transform(df_categorical).toarray()\n",
    "ohe.shape"
   ]
  },
  {
   "cell_type": "code",
   "execution_count": 10,
   "metadata": {},
   "outputs": [],
   "source": [
    "from sklearn.linear_model import LinearRegression"
   ]
  },
  {
   "cell_type": "code",
   "execution_count": 11,
   "metadata": {},
   "outputs": [
    {
     "data": {
      "text/plain": [
       "11558.180870399721"
      ]
     },
     "execution_count": 11,
     "metadata": {},
     "output_type": "execute_result"
    }
   ],
   "source": [
    "# Bulding and fitting the Linear Regression model \n",
    "y = df['cnt']\n",
    "ohe = pd.DataFrame(ohe)\n",
    "X = pd.concat([ohe,df_hist],axis = 1)\n",
    "mul_reg = LinearRegression().fit(X,y)\n",
    "yhat = mul_reg.predict(X)\n",
    "# Evaluating the Linear Regression model by computing MSE on training set\n",
    "from sklearn.metrics import mean_squared_error\n",
    "mean_squared_error(y,yhat)"
   ]
  },
  {
   "cell_type": "code",
   "execution_count": 12,
   "metadata": {},
   "outputs": [
    {
     "data": {
      "text/plain": [
       "array([ 2.67150120e+01,  8.04911152e+00,  8.49753554e+01, -3.56586629e+01,\n",
       "       -7.40844008e+00, -2.70814445e+01, -1.59492123e+01, -8.29971530e+00,\n",
       "       -5.69350654e+01, -8.17283415e+01, -7.40206094e+01, -3.49488215e+01,\n",
       "       -2.53874990e+01, -8.82403574e+01, -5.21468857e+01, -1.85955075e+01,\n",
       "       -2.68985855e+01, -2.43335488e+00, -1.08303265e+01, -1.14737308e+01,\n",
       "        1.45410561e+02,  3.20116418e+02,  1.45600348e+02,  5.14823727e+01,\n",
       "        1.27067040e+02,  1.79743414e+02,  1.73792852e+02,  1.09048827e+02,\n",
       "        1.41393854e+02,  2.18358188e+02,  3.89922558e+02,  3.33567971e+02,\n",
       "        2.80207689e+02,  1.62593704e+02,  7.99015314e+01,  9.41702064e+01,\n",
       "       -4.01809818e+00,  5.54668775e+15, -5.54668775e+15, -5.54668775e+15,\n",
       "       -5.54668775e+15, -5.54668775e+15, -5.54668775e+15,  2.69789897e+01,\n",
       "        5.54668775e+15, -1.51277423e+00, -1.12907656e+02,  9.34909669e+02,\n",
       "       -6.67538766e+02, -6.55465448e+01, -1.34105129e+02])"
      ]
     },
     "execution_count": 12,
     "metadata": {},
     "output_type": "execute_result"
    }
   ],
   "source": [
    "mul_reg.coef_"
   ]
  },
  {
   "cell_type": "code",
   "execution_count": 13,
   "metadata": {},
   "outputs": [],
   "source": [
    "from sklearn.metrics import r2_score"
   ]
  },
  {
   "cell_type": "code",
   "execution_count": 14,
   "metadata": {},
   "outputs": [
    {
     "data": {
      "text/plain": [
       "0.18925663564676132"
      ]
     },
     "execution_count": 14,
     "metadata": {},
     "output_type": "execute_result"
    }
   ],
   "source": [
    "model_1 = LinearRegression().fit(df[['temp']],y)\n",
    "y_1 = model_1.predict(df[['temp']])\n",
    "r2_1 = r2_score(y,y_1)\n",
    "r2_1"
   ]
  },
  {
   "cell_type": "code",
   "execution_count": 15,
   "metadata": {},
   "outputs": [
    {
     "data": {
      "text/plain": [
       "0.2826295103178843"
      ]
     },
     "execution_count": 15,
     "metadata": {},
     "output_type": "execute_result"
    }
   ],
   "source": [
    "model_2 = LinearRegression().fit(df[['temp','hum']],y)\n",
    "y_2 = model_2.predict(df[['temp','hum']])\n",
    "r2_2 = r2_score(y,y_2)\n",
    "r2_2"
   ]
  },
  {
   "cell_type": "code",
   "execution_count": 16,
   "metadata": {},
   "outputs": [
    {
     "data": {
      "text/plain": [
       "0.28380026219213783"
      ]
     },
     "execution_count": 16,
     "metadata": {},
     "output_type": "execute_result"
    }
   ],
   "source": [
    "model_3 = LinearRegression().fit(df[['temp','hum','atemp']],y)\n",
    "y_3 = model_3.predict(df[['temp','hum','atemp']])\n",
    "r2_3 = r2_score(y,y_3)\n",
    "r2_3"
   ]
  },
  {
   "cell_type": "code",
   "execution_count": 17,
   "metadata": {},
   "outputs": [
    {
     "data": {
      "text/plain": [
       "(300, 12)"
      ]
     },
     "execution_count": 17,
     "metadata": {},
     "output_type": "execute_result"
    }
   ],
   "source": [
    "df.shape"
   ]
  },
  {
   "cell_type": "code",
   "execution_count": 18,
   "metadata": {},
   "outputs": [],
   "source": [
    "n = 300"
   ]
  },
  {
   "cell_type": "code",
   "execution_count": 19,
   "metadata": {},
   "outputs": [
    {
     "data": {
      "text/plain": [
       "0.18653602033013972"
      ]
     },
     "execution_count": 19,
     "metadata": {},
     "output_type": "execute_result"
    }
   ],
   "source": [
    "Adj_r2_1 = 1-(1-r2_1)*(n-1)/(n-1-1)\n",
    "Adj_r2_1"
   ]
  },
  {
   "cell_type": "code",
   "execution_count": 20,
   "metadata": {},
   "outputs": [
    {
     "data": {
      "text/plain": [
       "0.2777987326095872"
      ]
     },
     "execution_count": 20,
     "metadata": {},
     "output_type": "execute_result"
    }
   ],
   "source": [
    "Adj_r2_2 = 1-(1-r2_2)*(n-1)/(n-2-1)\n",
    "Adj_r2_2"
   ]
  },
  {
   "cell_type": "code",
   "execution_count": 21,
   "metadata": {},
   "outputs": [
    {
     "data": {
      "text/plain": [
       "0.27654148106570675"
      ]
     },
     "execution_count": 21,
     "metadata": {},
     "output_type": "execute_result"
    }
   ],
   "source": [
    "Adj_r2_3 = 1-(1-r2_3)*(n-1)/(n-3-1)\n",
    "Adj_r2_3"
   ]
  },
  {
   "cell_type": "code",
   "execution_count": 22,
   "metadata": {},
   "outputs": [],
   "source": [
    "from sklearn.utils import shuffle"
   ]
  },
  {
   "cell_type": "code",
   "execution_count": 23,
   "metadata": {},
   "outputs": [],
   "source": [
    "# Design a function to implement 5-fold cross-validation. \n",
    "# The input: training features X, training target y.\n",
    "# The output: the average of MSE over the 5 folds.\n",
    "def cross_val_mse(ind, dep):\n",
    "    shuffled_X = shuffle(ind, random_state=0)\n",
    "    X_folds = np.array_split(shuffled_X, 5) \n",
    "    shuffled_y = shuffle(dep, random_state=0)\n",
    "    y_folds = np.array_split(shuffled_y, 5)\n",
    "    MSE = 0\n",
    "    for k in range(5):\n",
    "        X_train = list(X_folds)\n",
    "        X_test = pd.DataFrame(X_train.pop(k))\n",
    "        X_train = np.concatenate(X_train)\n",
    "        y_train = list(y_folds)\n",
    "        y_test = y_train.pop(k)\n",
    "        y_train = np.concatenate(y_train)\n",
    "        reg = LinearRegression().fit(X_train,y_train)\n",
    "        yhat = reg.predict(X_test)\n",
    "        MSE += mean_squared_error(y_test,yhat)\n",
    "    return(MSE/5)"
   ]
  },
  {
   "cell_type": "code",
   "execution_count": 24,
   "metadata": {},
   "outputs": [
    {
     "data": {
      "text/plain": [
       "16288.661396737549"
      ]
     },
     "execution_count": 24,
     "metadata": {},
     "output_type": "execute_result"
    }
   ],
   "source": [
    "cross_val_mse(X,y)"
   ]
  },
  {
   "cell_type": "code",
   "execution_count": 29,
   "metadata": {},
   "outputs": [
    {
     "data": {
      "text/plain": [
       "const         44.264035\n",
       "season         3.288575\n",
       "mnth           2.869932\n",
       "hr             1.339969\n",
       "holiday        1.072799\n",
       "weekday        1.060562\n",
       "workingday     1.103681\n",
       "weathersit     1.234498\n",
       "temp          77.309629\n",
       "atemp         78.005367\n",
       "hum            1.557557\n",
       "windspeed      1.161076\n",
       "cnt            1.616589\n",
       "dtype: float64"
      ]
     },
     "execution_count": 29,
     "metadata": {},
     "output_type": "execute_result"
    }
   ],
   "source": [
    "# Check the VIF for all variables to pre-select some before iterating them with models\n",
    "from statsmodels.stats.outliers_influence import variance_inflation_factor\n",
    "from statsmodels.tools.tools import add_constant\n",
    "X = add_constant(df)\n",
    "pd.Series([variance_inflation_factor(X.values, i) \n",
    "               for i in range(X.shape[1])], \n",
    "              index=X.columns)\n",
    "\n",
    "# temp and atemp are showing collinearity. Will keep this observation in mind moving forward."
   ]
  },
  {
   "cell_type": "code",
   "execution_count": 30,
   "metadata": {},
   "outputs": [
    {
     "data": {
      "text/plain": [
       "2047"
      ]
     },
     "execution_count": 30,
     "metadata": {},
     "output_type": "execute_result"
    }
   ],
   "source": [
    "# still include all the features to see which combination gives us the best mse\n",
    "from itertools import combinations\n",
    "all_combinations = []\n",
    "for r in range(1,12):\n",
    "    combinations_object = combinations(df.drop(['cnt'],axis = 1), r)\n",
    "    combinations_list = list(combinations_object)\n",
    "    all_combinations += combinations_list\n",
    "len(all_combinations)"
   ]
  },
  {
   "cell_type": "code",
   "execution_count": 31,
   "metadata": {},
   "outputs": [],
   "source": [
    "cross_val_list = []\n",
    "for columns in all_combinations:\n",
    "    cvm = cross_val_mse(df[list(columns)],y)\n",
    "    cross_val_list.append(tuple((cvm, columns)))"
   ]
  },
  {
   "cell_type": "code",
   "execution_count": 33,
   "metadata": {},
   "outputs": [
    {
     "data": {
      "text/plain": [
       "(22966.10199334462, ('season', 'mnth', 'hr', 'atemp', 'hum'))"
      ]
     },
     "execution_count": 33,
     "metadata": {},
     "output_type": "execute_result"
    }
   ],
   "source": [
    "min(cross_val_list, key=lambda x:x[0])\n",
    "# Here only atemp (but not temp) is included in the best model features. \n",
    "# So I will continue to use this combination to build our best-performing model."
   ]
  },
  {
   "cell_type": "code",
   "execution_count": 34,
   "metadata": {},
   "outputs": [],
   "source": [
    "# read in the test data\n",
    "df_test=pd.read_csv(\"~/Downloads/BikeSharing_Xtest.csv\")"
   ]
  },
  {
   "cell_type": "code",
   "execution_count": 35,
   "metadata": {},
   "outputs": [],
   "source": [
    "#transformation of test data\n",
    "test_categorical = df_test[['season','mnth','hr']]\n",
    "ohe_test = enc.fit_transform(test_categorical).toarray()\n",
    "ohe_test = pd.DataFrame(ohe_test)\n",
    "X_test = pd.concat([ohe_test,df_test[['atemp', 'hum']]],axis = 1)"
   ]
  },
  {
   "cell_type": "code",
   "execution_count": 37,
   "metadata": {},
   "outputs": [
    {
     "data": {
      "text/plain": [
       "array([ 251.50158504,  146.12185297,  409.95826375,  363.89750596,\n",
       "        429.63651282,  137.85907357,   26.30390704,  214.1749234 ,\n",
       "        148.92984648,   54.8789502 ,   26.53243543,  121.06094413,\n",
       "        392.6871277 ,  148.39969385,   92.36898878,  230.92674438,\n",
       "        313.36296131,  312.82803253,  318.32353686,  134.993198  ,\n",
       "         32.21466219,  273.58853213,   24.04290315,  171.58676715,\n",
       "        217.99986636,  -69.82801709,  163.2891201 ,  395.2733655 ,\n",
       "        257.41710599,  200.27445513,  181.40244603,  441.82408469,\n",
       "        -45.01285042,  -75.22566275,   21.83974356,   20.08629931,\n",
       "        152.73764185,  234.74779826,  333.278273  ,   78.2580578 ,\n",
       "        389.48705856,  474.87785332,   28.83186319,  437.03559466,\n",
       "        248.38697538,  395.88243859,  149.8412269 ,  329.06419405,\n",
       "        518.29439148,  292.14608164,  324.62661043,  288.4421728 ,\n",
       "        239.77604694,   74.37495829,  192.98663014,  -19.05014418,\n",
       "        345.48076291,  342.15393479,  -67.50311762, -109.64127276,\n",
       "        222.92115387,  414.01114047,   83.67852996,  262.83350891,\n",
       "        185.53169414,  227.65580535,   -2.86960972,  320.6348773 ,\n",
       "        177.51381378,   56.62332169,  555.74714972,  294.77195942,\n",
       "        122.68022467,  485.03308638,  462.82394328,  435.89912336,\n",
       "         38.74335824,   -6.26196939,  269.90495696,  237.73979642,\n",
       "        -57.91103469,  152.60407691,   10.85668784,  199.50559839,\n",
       "        226.20777448, -114.79174395,  348.41898167,   47.94905871,\n",
       "         88.2149881 ,  192.43271654,   89.72719433,  -21.87848336,\n",
       "        232.55610162,   29.38105439,  174.94665875,  492.24506634,\n",
       "        232.06116602,  306.37051381,  310.96401226,  391.21046215,\n",
       "         -1.05888331,   84.65167378,  114.30788972,  -85.92784217,\n",
       "        214.95138627,  356.64933203,   53.79905477,  524.43583767,\n",
       "        256.74664222,  193.24383441,  123.35988505,   90.32953979,\n",
       "        522.48326346,  266.80216902,  233.83705213,  155.32400757,\n",
       "        470.7917482 ,  212.16440397,   23.51184526,  145.85456998,\n",
       "         28.93026832,  381.61320477,  281.93181248,  -55.8274776 ,\n",
       "        204.05901516,   84.1556225 ,  212.43170647,  200.77852863,\n",
       "         13.06583808,  231.87940478,  226.20475387,   85.87983662,\n",
       "        105.73403909,  218.5409729 ,  406.01005211,  249.07377358,\n",
       "        334.68532475,  104.69020294,   84.65167378,   95.47672605,\n",
       "        347.19249278,  338.32060347,  245.96507103,   59.4785598 ,\n",
       "        333.2632811 ,  412.622167  ,  223.69927213,   47.51118804,\n",
       "        344.8200031 ,  188.59605878,  292.53141135,  196.53904785,\n",
       "        161.34641467,  113.25208417,  230.59161761,   -1.46564225,\n",
       "        271.38808353,  235.97736158,  162.75865395,  358.46458418,\n",
       "         50.93973467,  229.5471771 ,  197.19498368,  217.19468969,\n",
       "        173.36595245,  343.80835463,   70.18519209,  517.66022049,\n",
       "        397.95343006,   85.78860054,  348.57707725,  573.26621721,\n",
       "        202.43457364,   13.01101381,   40.2532811 ,  117.16579785,\n",
       "        298.18298561,  286.96345128,  -23.66364161,  187.06185704,\n",
       "        174.0978812 ,  -29.03463524,   50.29974646,  229.90706016,\n",
       "        373.43765238,  114.53493782,  -70.70839271,  168.39330643,\n",
       "        145.45190202,  513.92114371,   56.4889193 ,  185.28774359,\n",
       "        246.97238229,  343.98071655,  195.35816809,  426.53065787,\n",
       "         73.04154537,   13.07055812,  183.05652606,  222.0004071 ])"
      ]
     },
     "execution_count": 37,
     "metadata": {},
     "output_type": "execute_result"
    }
   ],
   "source": [
    "ohe_final = enc.fit_transform(df[['season', 'mnth', 'hr']]).toarray()\n",
    "ohe_final = pd.DataFrame(ohe_final)\n",
    "X_final = pd.concat([ohe_final,df[['atemp', 'hum']]],axis = 1)\n",
    "mul_reg_final = LinearRegression().fit(X_final,y)\n",
    "yhat_final = mul_reg_final.predict(X_test)\n",
    "yhat_final"
   ]
  },
  {
   "cell_type": "code",
   "execution_count": null,
   "metadata": {},
   "outputs": [],
   "source": []
  }
 ],
 "metadata": {
  "kernelspec": {
   "display_name": "Python 3",
   "language": "python",
   "name": "python3"
  },
  "language_info": {
   "codemirror_mode": {
    "name": "ipython",
    "version": 3
   },
   "file_extension": ".py",
   "mimetype": "text/x-python",
   "name": "python",
   "nbconvert_exporter": "python",
   "pygments_lexer": "ipython3",
   "version": "3.7.6"
  }
 },
 "nbformat": 4,
 "nbformat_minor": 4
}
